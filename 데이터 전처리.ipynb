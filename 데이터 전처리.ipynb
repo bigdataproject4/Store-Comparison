{
 "cells": [
  {
   "cell_type": "code",
   "execution_count": 1,
   "id": "85c33651",
   "metadata": {},
   "outputs": [],
   "source": [
    "import pandas as pd\n",
    "import numpy as np\n",
    "import os"
   ]
  },
  {
   "cell_type": "code",
   "execution_count": 5,
   "id": "2781dfac",
   "metadata": {},
   "outputs": [],
   "source": [
    "cur_dir = os.getcwd()"
   ]
  },
  {
   "cell_type": "code",
   "execution_count": 11,
   "id": "1f071b6b",
   "metadata": {},
   "outputs": [
    {
     "data": {
      "text/plain": [
       "['2017~2022 사설학원수.csv',\n",
       " '2017~2022 초등학교 학생 수.csv',\n",
       " '4.2.15_시·군·구별_근로소득_연말정산_신고현황_주소지_2016_20230810140813.csv',\n",
       " 'heabeop_좌표변환_최종.csv',\n",
       " 'purunet - purunet (1).csv',\n",
       " '출처.txt',\n",
       " '학교급_및_시도별__학생_1인당_월평균_사교육비_20230811081450.csv']"
      ]
     },
     "execution_count": 11,
     "metadata": {},
     "output_type": "execute_result"
    }
   ],
   "source": [
    "data_list = os.listdir(cur_dir+'./data')\n",
    "data_list"
   ]
  },
  {
   "cell_type": "code",
   "execution_count": 12,
   "id": "48bc4f34",
   "metadata": {},
   "outputs": [
    {
     "name": "stdout",
     "output_type": "stream",
     "text": [
      "Successfully read 2017~2022 사설학원수.csv with encoding: cp949\n",
      "Successfully read 2017~2022 초등학교 학생 수.csv with encoding: cp949\n",
      "Successfully read 4.2.15_시·군·구별_근로소득_연말정산_신고현황_주소지_2016_20230810140813.csv with encoding: cp949\n",
      "Successfully read heabeop_좌표변환_최종.csv with encoding: cp949\n",
      "Failed to read purunet - purunet (1).csv with encoding: cp949\n",
      "Successfully read purunet - purunet (1).csv with encoding: utf-8\n",
      "Failed to read 출처.txt with encoding: cp949\n"
     ]
    },
    {
     "ename": "ParserError",
     "evalue": "Error tokenizing data. C error: Expected 4 fields in line 11, saw 5\n",
     "output_type": "error",
     "traceback": [
      "\u001b[1;31m---------------------------------------------------------------------------\u001b[0m",
      "\u001b[1;31mParserError\u001b[0m                               Traceback (most recent call last)",
      "\u001b[1;32mc:\\Users\\user\\Desktop\\프로젝트\\팀프로젝트\\당사 경쟁사 입점 비교\\team 8.week2\\데이터 전처리_0811_re.ipynb 셀 4\u001b[0m line \u001b[0;36m7\n\u001b[0;32m      <a href='vscode-notebook-cell:/c%3A/Users/user/Desktop/%ED%94%84%EB%A1%9C%EC%A0%9D%ED%8A%B8/%ED%8C%80%ED%94%84%EB%A1%9C%EC%A0%9D%ED%8A%B8/%EB%8B%B9%EC%82%AC%20%EA%B2%BD%EC%9F%81%EC%82%AC%20%EC%9E%85%EC%A0%90%20%EB%B9%84%EA%B5%90/team%208.week2/%EB%8D%B0%EC%9D%B4%ED%84%B0%20%EC%A0%84%EC%B2%98%EB%A6%AC_0811_re.ipynb#W3sZmlsZQ%3D%3D?line=4'>5</a>\u001b[0m \u001b[39mfor\u001b[39;00m encoding \u001b[39min\u001b[39;00m [\u001b[39m'\u001b[39m\u001b[39mcp949\u001b[39m\u001b[39m'\u001b[39m, \u001b[39m'\u001b[39m\u001b[39mutf-8\u001b[39m\u001b[39m'\u001b[39m]:\n\u001b[0;32m      <a href='vscode-notebook-cell:/c%3A/Users/user/Desktop/%ED%94%84%EB%A1%9C%EC%A0%9D%ED%8A%B8/%ED%8C%80%ED%94%84%EB%A1%9C%EC%A0%9D%ED%8A%B8/%EB%8B%B9%EC%82%AC%20%EA%B2%BD%EC%9F%81%EC%82%AC%20%EC%9E%85%EC%A0%90%20%EB%B9%84%EA%B5%90/team%208.week2/%EB%8D%B0%EC%9D%B4%ED%84%B0%20%EC%A0%84%EC%B2%98%EB%A6%AC_0811_re.ipynb#W3sZmlsZQ%3D%3D?line=5'>6</a>\u001b[0m     \u001b[39mtry\u001b[39;00m:\n\u001b[1;32m----> <a href='vscode-notebook-cell:/c%3A/Users/user/Desktop/%ED%94%84%EB%A1%9C%EC%A0%9D%ED%8A%B8/%ED%8C%80%ED%94%84%EB%A1%9C%EC%A0%9D%ED%8A%B8/%EB%8B%B9%EC%82%AC%20%EA%B2%BD%EC%9F%81%EC%82%AC%20%EC%9E%85%EC%A0%90%20%EB%B9%84%EA%B5%90/team%208.week2/%EB%8D%B0%EC%9D%B4%ED%84%B0%20%EC%A0%84%EC%B2%98%EB%A6%AC_0811_re.ipynb#W3sZmlsZQ%3D%3D?line=6'>7</a>\u001b[0m         Dataset[data_name[\u001b[39m0\u001b[39m:\u001b[39m-\u001b[39m\u001b[39m4\u001b[39m]] \u001b[39m=\u001b[39m pd\u001b[39m.\u001b[39;49mread_csv(cur_dir \u001b[39m+\u001b[39;49m \u001b[39mf\u001b[39;49m\u001b[39m'\u001b[39;49m\u001b[39m/data/\u001b[39;49m\u001b[39m{\u001b[39;49;00mdata_name\u001b[39m}\u001b[39;49;00m\u001b[39m'\u001b[39;49m, encoding\u001b[39m=\u001b[39;49mencoding)\n\u001b[0;32m      <a href='vscode-notebook-cell:/c%3A/Users/user/Desktop/%ED%94%84%EB%A1%9C%EC%A0%9D%ED%8A%B8/%ED%8C%80%ED%94%84%EB%A1%9C%EC%A0%9D%ED%8A%B8/%EB%8B%B9%EC%82%AC%20%EA%B2%BD%EC%9F%81%EC%82%AC%20%EC%9E%85%EC%A0%90%20%EB%B9%84%EA%B5%90/team%208.week2/%EB%8D%B0%EC%9D%B4%ED%84%B0%20%EC%A0%84%EC%B2%98%EB%A6%AC_0811_re.ipynb#W3sZmlsZQ%3D%3D?line=7'>8</a>\u001b[0m         \u001b[39mprint\u001b[39m(\u001b[39mf\u001b[39m\u001b[39m\"\u001b[39m\u001b[39mSuccessfully read \u001b[39m\u001b[39m{\u001b[39;00mdata_name\u001b[39m}\u001b[39;00m\u001b[39m with encoding: \u001b[39m\u001b[39m{\u001b[39;00mencoding\u001b[39m}\u001b[39;00m\u001b[39m\"\u001b[39m)\n\u001b[0;32m      <a href='vscode-notebook-cell:/c%3A/Users/user/Desktop/%ED%94%84%EB%A1%9C%EC%A0%9D%ED%8A%B8/%ED%8C%80%ED%94%84%EB%A1%9C%EC%A0%9D%ED%8A%B8/%EB%8B%B9%EC%82%AC%20%EA%B2%BD%EC%9F%81%EC%82%AC%20%EC%9E%85%EC%A0%90%20%EB%B9%84%EA%B5%90/team%208.week2/%EB%8D%B0%EC%9D%B4%ED%84%B0%20%EC%A0%84%EC%B2%98%EB%A6%AC_0811_re.ipynb#W3sZmlsZQ%3D%3D?line=8'>9</a>\u001b[0m         \u001b[39mbreak\u001b[39;00m  \u001b[39m# 읽기에 성공한 경우 반복문 종료\u001b[39;00m\n",
      "File \u001b[1;32mc:\\ProgramData\\anaconda3\\lib\\site-packages\\pandas\\util\\_decorators.py:211\u001b[0m, in \u001b[0;36mdeprecate_kwarg.<locals>._deprecate_kwarg.<locals>.wrapper\u001b[1;34m(*args, **kwargs)\u001b[0m\n\u001b[0;32m    209\u001b[0m     \u001b[39melse\u001b[39;00m:\n\u001b[0;32m    210\u001b[0m         kwargs[new_arg_name] \u001b[39m=\u001b[39m new_arg_value\n\u001b[1;32m--> 211\u001b[0m \u001b[39mreturn\u001b[39;00m func(\u001b[39m*\u001b[39margs, \u001b[39m*\u001b[39m\u001b[39m*\u001b[39mkwargs)\n",
      "File \u001b[1;32mc:\\ProgramData\\anaconda3\\lib\\site-packages\\pandas\\util\\_decorators.py:331\u001b[0m, in \u001b[0;36mdeprecate_nonkeyword_arguments.<locals>.decorate.<locals>.wrapper\u001b[1;34m(*args, **kwargs)\u001b[0m\n\u001b[0;32m    325\u001b[0m \u001b[39mif\u001b[39;00m \u001b[39mlen\u001b[39m(args) \u001b[39m>\u001b[39m num_allow_args:\n\u001b[0;32m    326\u001b[0m     warnings\u001b[39m.\u001b[39mwarn(\n\u001b[0;32m    327\u001b[0m         msg\u001b[39m.\u001b[39mformat(arguments\u001b[39m=\u001b[39m_format_argument_list(allow_args)),\n\u001b[0;32m    328\u001b[0m         \u001b[39mFutureWarning\u001b[39;00m,\n\u001b[0;32m    329\u001b[0m         stacklevel\u001b[39m=\u001b[39mfind_stack_level(),\n\u001b[0;32m    330\u001b[0m     )\n\u001b[1;32m--> 331\u001b[0m \u001b[39mreturn\u001b[39;00m func(\u001b[39m*\u001b[39margs, \u001b[39m*\u001b[39m\u001b[39m*\u001b[39mkwargs)\n",
      "File \u001b[1;32mc:\\ProgramData\\anaconda3\\lib\\site-packages\\pandas\\io\\parsers\\readers.py:950\u001b[0m, in \u001b[0;36mread_csv\u001b[1;34m(filepath_or_buffer, sep, delimiter, header, names, index_col, usecols, squeeze, prefix, mangle_dupe_cols, dtype, engine, converters, true_values, false_values, skipinitialspace, skiprows, skipfooter, nrows, na_values, keep_default_na, na_filter, verbose, skip_blank_lines, parse_dates, infer_datetime_format, keep_date_col, date_parser, dayfirst, cache_dates, iterator, chunksize, compression, thousands, decimal, lineterminator, quotechar, quoting, doublequote, escapechar, comment, encoding, encoding_errors, dialect, error_bad_lines, warn_bad_lines, on_bad_lines, delim_whitespace, low_memory, memory_map, float_precision, storage_options)\u001b[0m\n\u001b[0;32m    935\u001b[0m kwds_defaults \u001b[39m=\u001b[39m _refine_defaults_read(\n\u001b[0;32m    936\u001b[0m     dialect,\n\u001b[0;32m    937\u001b[0m     delimiter,\n\u001b[1;32m   (...)\u001b[0m\n\u001b[0;32m    946\u001b[0m     defaults\u001b[39m=\u001b[39m{\u001b[39m\"\u001b[39m\u001b[39mdelimiter\u001b[39m\u001b[39m\"\u001b[39m: \u001b[39m\"\u001b[39m\u001b[39m,\u001b[39m\u001b[39m\"\u001b[39m},\n\u001b[0;32m    947\u001b[0m )\n\u001b[0;32m    948\u001b[0m kwds\u001b[39m.\u001b[39mupdate(kwds_defaults)\n\u001b[1;32m--> 950\u001b[0m \u001b[39mreturn\u001b[39;00m _read(filepath_or_buffer, kwds)\n",
      "File \u001b[1;32mc:\\ProgramData\\anaconda3\\lib\\site-packages\\pandas\\io\\parsers\\readers.py:611\u001b[0m, in \u001b[0;36m_read\u001b[1;34m(filepath_or_buffer, kwds)\u001b[0m\n\u001b[0;32m    608\u001b[0m     \u001b[39mreturn\u001b[39;00m parser\n\u001b[0;32m    610\u001b[0m \u001b[39mwith\u001b[39;00m parser:\n\u001b[1;32m--> 611\u001b[0m     \u001b[39mreturn\u001b[39;00m parser\u001b[39m.\u001b[39;49mread(nrows)\n",
      "File \u001b[1;32mc:\\ProgramData\\anaconda3\\lib\\site-packages\\pandas\\io\\parsers\\readers.py:1778\u001b[0m, in \u001b[0;36mTextFileReader.read\u001b[1;34m(self, nrows)\u001b[0m\n\u001b[0;32m   1771\u001b[0m nrows \u001b[39m=\u001b[39m validate_integer(\u001b[39m\"\u001b[39m\u001b[39mnrows\u001b[39m\u001b[39m\"\u001b[39m, nrows)\n\u001b[0;32m   1772\u001b[0m \u001b[39mtry\u001b[39;00m:\n\u001b[0;32m   1773\u001b[0m     \u001b[39m# error: \"ParserBase\" has no attribute \"read\"\u001b[39;00m\n\u001b[0;32m   1774\u001b[0m     (\n\u001b[0;32m   1775\u001b[0m         index,\n\u001b[0;32m   1776\u001b[0m         columns,\n\u001b[0;32m   1777\u001b[0m         col_dict,\n\u001b[1;32m-> 1778\u001b[0m     ) \u001b[39m=\u001b[39m \u001b[39mself\u001b[39;49m\u001b[39m.\u001b[39;49m_engine\u001b[39m.\u001b[39;49mread(  \u001b[39m# type: ignore[attr-defined]\u001b[39;49;00m\n\u001b[0;32m   1779\u001b[0m         nrows\n\u001b[0;32m   1780\u001b[0m     )\n\u001b[0;32m   1781\u001b[0m \u001b[39mexcept\u001b[39;00m \u001b[39mException\u001b[39;00m:\n\u001b[0;32m   1782\u001b[0m     \u001b[39mself\u001b[39m\u001b[39m.\u001b[39mclose()\n",
      "File \u001b[1;32mc:\\ProgramData\\anaconda3\\lib\\site-packages\\pandas\\io\\parsers\\c_parser_wrapper.py:230\u001b[0m, in \u001b[0;36mCParserWrapper.read\u001b[1;34m(self, nrows)\u001b[0m\n\u001b[0;32m    228\u001b[0m \u001b[39mtry\u001b[39;00m:\n\u001b[0;32m    229\u001b[0m     \u001b[39mif\u001b[39;00m \u001b[39mself\u001b[39m\u001b[39m.\u001b[39mlow_memory:\n\u001b[1;32m--> 230\u001b[0m         chunks \u001b[39m=\u001b[39m \u001b[39mself\u001b[39;49m\u001b[39m.\u001b[39;49m_reader\u001b[39m.\u001b[39;49mread_low_memory(nrows)\n\u001b[0;32m    231\u001b[0m         \u001b[39m# destructive to chunks\u001b[39;00m\n\u001b[0;32m    232\u001b[0m         data \u001b[39m=\u001b[39m _concatenate_chunks(chunks)\n",
      "File \u001b[1;32mc:\\ProgramData\\anaconda3\\lib\\site-packages\\pandas\\_libs\\parsers.pyx:808\u001b[0m, in \u001b[0;36mpandas._libs.parsers.TextReader.read_low_memory\u001b[1;34m()\u001b[0m\n",
      "File \u001b[1;32mc:\\ProgramData\\anaconda3\\lib\\site-packages\\pandas\\_libs\\parsers.pyx:866\u001b[0m, in \u001b[0;36mpandas._libs.parsers.TextReader._read_rows\u001b[1;34m()\u001b[0m\n",
      "File \u001b[1;32mc:\\ProgramData\\anaconda3\\lib\\site-packages\\pandas\\_libs\\parsers.pyx:852\u001b[0m, in \u001b[0;36mpandas._libs.parsers.TextReader._tokenize_rows\u001b[1;34m()\u001b[0m\n",
      "File \u001b[1;32mc:\\ProgramData\\anaconda3\\lib\\site-packages\\pandas\\_libs\\parsers.pyx:1973\u001b[0m, in \u001b[0;36mpandas._libs.parsers.raise_parser_error\u001b[1;34m()\u001b[0m\n",
      "\u001b[1;31mParserError\u001b[0m: Error tokenizing data. C error: Expected 4 fields in line 11, saw 5\n"
     ]
    }
   ],
   "source": [
    "Dataset = dict()\n",
    "\n",
    "for data_name in data_list[:]:\n",
    "    \n",
    "    for encoding in ['cp949', 'utf-8']:\n",
    "        try:\n",
    "            Dataset[data_name[0:-4]] = pd.read_csv(cur_dir + f'/data/{data_name}', encoding=encoding)\n",
    "            print(f\"Successfully read {data_name} with encoding: {encoding}\")\n",
    "            break  # 읽기에 성공한 경우 반복문 종료\n",
    "        except UnicodeDecodeError:\n",
    "            print(f\"Failed to read {data_name} with encoding: {encoding}\")"
   ]
  },
  {
   "cell_type": "markdown",
   "id": "1353d921",
   "metadata": {},
   "source": [
    "# 초등학생수 데이터 전처리"
   ]
  },
  {
   "cell_type": "code",
   "execution_count": 13,
   "id": "b218c5e6",
   "metadata": {},
   "outputs": [],
   "source": [
    "df_1 = Dataset['2017~2022 초등학교 학생 수']\n",
    "\n",
    "# [출처] 한국교육개발원, 2022, 2023.08.10, 초등학교 학생수(시도/시/군/구)"
   ]
  },
  {
   "cell_type": "code",
   "execution_count": 14,
   "id": "6314169f",
   "metadata": {},
   "outputs": [
    {
     "data": {
      "text/html": [
       "<div>\n",
       "<style scoped>\n",
       "    .dataframe tbody tr th:only-of-type {\n",
       "        vertical-align: middle;\n",
       "    }\n",
       "\n",
       "    .dataframe tbody tr th {\n",
       "        vertical-align: top;\n",
       "    }\n",
       "\n",
       "    .dataframe thead th {\n",
       "        text-align: right;\n",
       "    }\n",
       "</style>\n",
       "<table border=\"1\" class=\"dataframe\">\n",
       "  <thead>\n",
       "    <tr style=\"text-align: right;\">\n",
       "      <th></th>\n",
       "      <th>행정구역별</th>\n",
       "      <th>2017</th>\n",
       "      <th>2018</th>\n",
       "      <th>2019</th>\n",
       "      <th>2020</th>\n",
       "      <th>2021</th>\n",
       "      <th>2022</th>\n",
       "    </tr>\n",
       "  </thead>\n",
       "  <tbody>\n",
       "    <tr>\n",
       "      <th>1</th>\n",
       "      <td>전국</td>\n",
       "      <td>9189413</td>\n",
       "      <td>8981562</td>\n",
       "      <td>8763576</td>\n",
       "      <td>8593199</td>\n",
       "      <td>8449890</td>\n",
       "      <td>8285220</td>\n",
       "    </tr>\n",
       "    <tr>\n",
       "      <th>2</th>\n",
       "      <td>서울특별시</td>\n",
       "      <td>1587612</td>\n",
       "      <td>1546841</td>\n",
       "      <td>1507375</td>\n",
       "      <td>1479479</td>\n",
       "      <td>1455703</td>\n",
       "      <td>1425037</td>\n",
       "    </tr>\n",
       "    <tr>\n",
       "      <th>3</th>\n",
       "      <td>종로구</td>\n",
       "      <td>60257</td>\n",
       "      <td>58800</td>\n",
       "      <td>57498</td>\n",
       "      <td>56258</td>\n",
       "      <td>55087</td>\n",
       "      <td>53537</td>\n",
       "    </tr>\n",
       "    <tr>\n",
       "      <th>4</th>\n",
       "      <td>중구</td>\n",
       "      <td>39008</td>\n",
       "      <td>38546</td>\n",
       "      <td>37968</td>\n",
       "      <td>37344</td>\n",
       "      <td>36209</td>\n",
       "      <td>34946</td>\n",
       "    </tr>\n",
       "    <tr>\n",
       "      <th>5</th>\n",
       "      <td>용산구</td>\n",
       "      <td>32769</td>\n",
       "      <td>31589</td>\n",
       "      <td>30400</td>\n",
       "      <td>29290</td>\n",
       "      <td>28532</td>\n",
       "      <td>27552</td>\n",
       "    </tr>\n",
       "    <tr>\n",
       "      <th>...</th>\n",
       "      <td>...</td>\n",
       "      <td>...</td>\n",
       "      <td>...</td>\n",
       "      <td>...</td>\n",
       "      <td>...</td>\n",
       "      <td>...</td>\n",
       "      <td>...</td>\n",
       "    </tr>\n",
       "    <tr>\n",
       "      <th>243</th>\n",
       "      <td>거창군</td>\n",
       "      <td>10768</td>\n",
       "      <td>10512</td>\n",
       "      <td>10110</td>\n",
       "      <td>9747</td>\n",
       "      <td>9415</td>\n",
       "      <td>9189</td>\n",
       "    </tr>\n",
       "    <tr>\n",
       "      <th>244</th>\n",
       "      <td>합천군</td>\n",
       "      <td>3249</td>\n",
       "      <td>3093</td>\n",
       "      <td>2943</td>\n",
       "      <td>2787</td>\n",
       "      <td>2648</td>\n",
       "      <td>2504</td>\n",
       "    </tr>\n",
       "    <tr>\n",
       "      <th>245</th>\n",
       "      <td>제주특별자치도</td>\n",
       "      <td>116963</td>\n",
       "      <td>116642</td>\n",
       "      <td>115489</td>\n",
       "      <td>113890</td>\n",
       "      <td>113479</td>\n",
       "      <td>85792</td>\n",
       "    </tr>\n",
       "    <tr>\n",
       "      <th>246</th>\n",
       "      <td>제주시</td>\n",
       "      <td>97083</td>\n",
       "      <td>96692</td>\n",
       "      <td>95829</td>\n",
       "      <td>94534</td>\n",
       "      <td>93747</td>\n",
       "      <td>91703</td>\n",
       "    </tr>\n",
       "    <tr>\n",
       "      <th>247</th>\n",
       "      <td>서귀포시</td>\n",
       "      <td>19880</td>\n",
       "      <td>19950</td>\n",
       "      <td>19660</td>\n",
       "      <td>19356</td>\n",
       "      <td>19732</td>\n",
       "      <td>20053</td>\n",
       "    </tr>\n",
       "  </tbody>\n",
       "</table>\n",
       "<p>247 rows × 7 columns</p>\n",
       "</div>"
      ],
      "text/plain": [
       "       행정구역별     2017     2018     2019     2020     2021     2022\n",
       "1         전국  9189413  8981562  8763576  8593199  8449890  8285220\n",
       "2      서울특별시  1587612  1546841  1507375  1479479  1455703  1425037\n",
       "3        종로구    60257    58800    57498    56258    55087    53537\n",
       "4         중구    39008    38546    37968    37344    36209    34946\n",
       "5        용산구    32769    31589    30400    29290    28532    27552\n",
       "..       ...      ...      ...      ...      ...      ...      ...\n",
       "243      거창군    10768    10512    10110     9747     9415     9189\n",
       "244      합천군     3249     3093     2943     2787     2648     2504\n",
       "245  제주특별자치도   116963   116642   115489   113890   113479    85792\n",
       "246      제주시    97083    96692    95829    94534    93747    91703\n",
       "247     서귀포시    19880    19950    19660    19356    19732    20053\n",
       "\n",
       "[247 rows x 7 columns]"
      ]
     },
     "execution_count": 14,
     "metadata": {},
     "output_type": "execute_result"
    }
   ],
   "source": [
    "df_1 = df_1.drop([0])\n",
    "df_1"
   ]
  },
  {
   "cell_type": "code",
   "execution_count": 15,
   "id": "4d73220b",
   "metadata": {},
   "outputs": [],
   "source": [
    "# 지역을 새로운 컬럼으로 만들어 주눈 코드\n",
    "def region_new(df, col_name, loc, new_name ):\n",
    "    data = df.copy()\n",
    "    new_column = []\n",
    "    current_area = None\n",
    "    list_reg = ['전국','서울특별시', '부산광역시', '대구광역시', '인천광역시', \n",
    "                 '광주광역시', '대전광역시', '울산광역시', '세종특별자치시', \n",
    "                 '경기도', '강원특별자치도', '충청북도', '충청남도', '전라북도', \n",
    "                 '전라남도', '경상북도', '경상남도', '제주특별자치도']\n",
    "    for value in data[col_name]:\n",
    "        if value in list_reg:\n",
    "            current_area = value\n",
    "            new_column.append(f'{value}')  \n",
    "        else:\n",
    "            new_value = f'{current_area}'\n",
    "            new_column.append(new_value)\n",
    "    # 새로운 컬럼을 데이터 프레임에 추가\n",
    "    data.insert(loc, new_name, new_column)\n",
    "    # 지역별 합산 데이터 제거\n",
    "    data = data[~data['행정구역별'].isin(list_reg)]\n",
    "    \n",
    "    return data"
   ]
  },
  {
   "cell_type": "code",
   "execution_count": 16,
   "id": "86bc2ddf",
   "metadata": {},
   "outputs": [],
   "source": [
    "df_stu = region_new(df_1, '행정구역별' ,0 ,'지역')\n"
   ]
  },
  {
   "cell_type": "code",
   "execution_count": 17,
   "id": "53f338e8",
   "metadata": {
    "scrolled": true
   },
   "outputs": [],
   "source": [
    "\n",
    "# 인덱스 초기화\n",
    "df_stu=df_stu.reset_index(drop = True)\n"
   ]
  },
  {
   "cell_type": "code",
   "execution_count": 33,
   "id": "dc53fa02",
   "metadata": {},
   "outputs": [
    {
     "data": {
      "text/html": [
       "<div>\n",
       "<style scoped>\n",
       "    .dataframe tbody tr th:only-of-type {\n",
       "        vertical-align: middle;\n",
       "    }\n",
       "\n",
       "    .dataframe tbody tr th {\n",
       "        vertical-align: top;\n",
       "    }\n",
       "\n",
       "    .dataframe thead th {\n",
       "        text-align: right;\n",
       "    }\n",
       "</style>\n",
       "<table border=\"1\" class=\"dataframe\">\n",
       "  <thead>\n",
       "    <tr style=\"text-align: right;\">\n",
       "      <th></th>\n",
       "      <th>지역</th>\n",
       "      <th>행정구역별</th>\n",
       "      <th>2017</th>\n",
       "      <th>2018</th>\n",
       "      <th>2019</th>\n",
       "      <th>2020</th>\n",
       "      <th>2021</th>\n",
       "      <th>2022</th>\n",
       "    </tr>\n",
       "  </thead>\n",
       "  <tbody>\n",
       "    <tr>\n",
       "      <th>0</th>\n",
       "      <td>서울특별시</td>\n",
       "      <td>종로구</td>\n",
       "      <td>60257</td>\n",
       "      <td>58800</td>\n",
       "      <td>57498</td>\n",
       "      <td>56258</td>\n",
       "      <td>55087</td>\n",
       "      <td>53537</td>\n",
       "    </tr>\n",
       "    <tr>\n",
       "      <th>1</th>\n",
       "      <td>서울특별시</td>\n",
       "      <td>중구</td>\n",
       "      <td>39008</td>\n",
       "      <td>38546</td>\n",
       "      <td>37968</td>\n",
       "      <td>37344</td>\n",
       "      <td>36209</td>\n",
       "      <td>34946</td>\n",
       "    </tr>\n",
       "    <tr>\n",
       "      <th>2</th>\n",
       "      <td>서울특별시</td>\n",
       "      <td>용산구</td>\n",
       "      <td>32769</td>\n",
       "      <td>31589</td>\n",
       "      <td>30400</td>\n",
       "      <td>29290</td>\n",
       "      <td>28532</td>\n",
       "      <td>27552</td>\n",
       "    </tr>\n",
       "    <tr>\n",
       "      <th>3</th>\n",
       "      <td>서울특별시</td>\n",
       "      <td>성동구</td>\n",
       "      <td>56128</td>\n",
       "      <td>55521</td>\n",
       "      <td>54277</td>\n",
       "      <td>52763</td>\n",
       "      <td>51649</td>\n",
       "      <td>50768</td>\n",
       "    </tr>\n",
       "    <tr>\n",
       "      <th>4</th>\n",
       "      <td>서울특별시</td>\n",
       "      <td>광진구</td>\n",
       "      <td>75173</td>\n",
       "      <td>73913</td>\n",
       "      <td>72904</td>\n",
       "      <td>71684</td>\n",
       "      <td>70450</td>\n",
       "      <td>69065</td>\n",
       "    </tr>\n",
       "    <tr>\n",
       "      <th>...</th>\n",
       "      <td>...</td>\n",
       "      <td>...</td>\n",
       "      <td>...</td>\n",
       "      <td>...</td>\n",
       "      <td>...</td>\n",
       "      <td>...</td>\n",
       "      <td>...</td>\n",
       "      <td>...</td>\n",
       "    </tr>\n",
       "    <tr>\n",
       "      <th>224</th>\n",
       "      <td>경상남도</td>\n",
       "      <td>함양군</td>\n",
       "      <td>3782</td>\n",
       "      <td>3610</td>\n",
       "      <td>3412</td>\n",
       "      <td>3270</td>\n",
       "      <td>3215</td>\n",
       "      <td>3124</td>\n",
       "    </tr>\n",
       "    <tr>\n",
       "      <th>225</th>\n",
       "      <td>경상남도</td>\n",
       "      <td>거창군</td>\n",
       "      <td>10768</td>\n",
       "      <td>10512</td>\n",
       "      <td>10110</td>\n",
       "      <td>9747</td>\n",
       "      <td>9415</td>\n",
       "      <td>9189</td>\n",
       "    </tr>\n",
       "    <tr>\n",
       "      <th>226</th>\n",
       "      <td>경상남도</td>\n",
       "      <td>합천군</td>\n",
       "      <td>3249</td>\n",
       "      <td>3093</td>\n",
       "      <td>2943</td>\n",
       "      <td>2787</td>\n",
       "      <td>2648</td>\n",
       "      <td>2504</td>\n",
       "    </tr>\n",
       "    <tr>\n",
       "      <th>227</th>\n",
       "      <td>제주특별자치도</td>\n",
       "      <td>제주시</td>\n",
       "      <td>97083</td>\n",
       "      <td>96692</td>\n",
       "      <td>95829</td>\n",
       "      <td>94534</td>\n",
       "      <td>93747</td>\n",
       "      <td>91703</td>\n",
       "    </tr>\n",
       "    <tr>\n",
       "      <th>228</th>\n",
       "      <td>제주특별자치도</td>\n",
       "      <td>서귀포시</td>\n",
       "      <td>19880</td>\n",
       "      <td>19950</td>\n",
       "      <td>19660</td>\n",
       "      <td>19356</td>\n",
       "      <td>19732</td>\n",
       "      <td>20053</td>\n",
       "    </tr>\n",
       "  </tbody>\n",
       "</table>\n",
       "<p>229 rows × 8 columns</p>\n",
       "</div>"
      ],
      "text/plain": [
       "          지역 행정구역별   2017   2018   2019   2020   2021   2022\n",
       "0      서울특별시   종로구  60257  58800  57498  56258  55087  53537\n",
       "1      서울특별시    중구  39008  38546  37968  37344  36209  34946\n",
       "2      서울특별시   용산구  32769  31589  30400  29290  28532  27552\n",
       "3      서울특별시   성동구  56128  55521  54277  52763  51649  50768\n",
       "4      서울특별시   광진구  75173  73913  72904  71684  70450  69065\n",
       "..       ...   ...    ...    ...    ...    ...    ...    ...\n",
       "224     경상남도   함양군   3782   3610   3412   3270   3215   3124\n",
       "225     경상남도   거창군  10768  10512  10110   9747   9415   9189\n",
       "226     경상남도   합천군   3249   3093   2943   2787   2648   2504\n",
       "227  제주특별자치도   제주시  97083  96692  95829  94534  93747  91703\n",
       "228  제주특별자치도  서귀포시  19880  19950  19660  19356  19732  20053\n",
       "\n",
       "[229 rows x 8 columns]"
      ]
     },
     "execution_count": 33,
     "metadata": {},
     "output_type": "execute_result"
    }
   ],
   "source": [
    "\n",
    "df_stu.to_csv('./pre_data/2017~2022 초등학교 학생 수.csv', index=False)\n",
    "df_stu"
   ]
  },
  {
   "cell_type": "markdown",
   "id": "ea42e39a",
   "metadata": {},
   "source": [
    "# 사설학원수 데이터 전처리"
   ]
  },
  {
   "cell_type": "code",
   "execution_count": 19,
   "id": "b8a3635f",
   "metadata": {},
   "outputs": [],
   "source": [
    "df_2 = Dataset['2017~2022 사설학원수']"
   ]
  },
  {
   "cell_type": "code",
   "execution_count": 20,
   "id": "52b3b752",
   "metadata": {},
   "outputs": [],
   "source": [
    "df_edu = region_new(df_2, '행정구역별' ,0 ,'지역')"
   ]
  },
  {
   "cell_type": "code",
   "execution_count": 21,
   "id": "17dd9688",
   "metadata": {},
   "outputs": [
    {
     "data": {
      "text/html": [
       "<div>\n",
       "<style scoped>\n",
       "    .dataframe tbody tr th:only-of-type {\n",
       "        vertical-align: middle;\n",
       "    }\n",
       "\n",
       "    .dataframe tbody tr th {\n",
       "        vertical-align: top;\n",
       "    }\n",
       "\n",
       "    .dataframe thead th {\n",
       "        text-align: right;\n",
       "    }\n",
       "</style>\n",
       "<table border=\"1\" class=\"dataframe\">\n",
       "  <thead>\n",
       "    <tr style=\"text-align: right;\">\n",
       "      <th></th>\n",
       "      <th>지역</th>\n",
       "      <th>행정구역별</th>\n",
       "      <th>2017</th>\n",
       "      <th>2018</th>\n",
       "      <th>2019</th>\n",
       "      <th>2020</th>\n",
       "      <th>2021</th>\n",
       "      <th>2022</th>\n",
       "    </tr>\n",
       "  </thead>\n",
       "  <tbody>\n",
       "    <tr>\n",
       "      <th>3</th>\n",
       "      <td>서울특별시</td>\n",
       "      <td>종로구</td>\n",
       "      <td>297</td>\n",
       "      <td>274</td>\n",
       "      <td>259</td>\n",
       "      <td>243</td>\n",
       "      <td>217</td>\n",
       "      <td>248</td>\n",
       "    </tr>\n",
       "    <tr>\n",
       "      <th>4</th>\n",
       "      <td>서울특별시</td>\n",
       "      <td>중구</td>\n",
       "      <td>128</td>\n",
       "      <td>119</td>\n",
       "      <td>118</td>\n",
       "      <td>109</td>\n",
       "      <td>91</td>\n",
       "      <td>108</td>\n",
       "    </tr>\n",
       "    <tr>\n",
       "      <th>5</th>\n",
       "      <td>서울특별시</td>\n",
       "      <td>용산구</td>\n",
       "      <td>175</td>\n",
       "      <td>158</td>\n",
       "      <td>155</td>\n",
       "      <td>154</td>\n",
       "      <td>137</td>\n",
       "      <td>151</td>\n",
       "    </tr>\n",
       "    <tr>\n",
       "      <th>6</th>\n",
       "      <td>서울특별시</td>\n",
       "      <td>성동구</td>\n",
       "      <td>295</td>\n",
       "      <td>314</td>\n",
       "      <td>293</td>\n",
       "      <td>289</td>\n",
       "      <td>290</td>\n",
       "      <td>294</td>\n",
       "    </tr>\n",
       "    <tr>\n",
       "      <th>7</th>\n",
       "      <td>서울특별시</td>\n",
       "      <td>광진구</td>\n",
       "      <td>442</td>\n",
       "      <td>430</td>\n",
       "      <td>406</td>\n",
       "      <td>405</td>\n",
       "      <td>426</td>\n",
       "      <td>441</td>\n",
       "    </tr>\n",
       "    <tr>\n",
       "      <th>...</th>\n",
       "      <td>...</td>\n",
       "      <td>...</td>\n",
       "      <td>...</td>\n",
       "      <td>...</td>\n",
       "      <td>...</td>\n",
       "      <td>...</td>\n",
       "      <td>...</td>\n",
       "      <td>...</td>\n",
       "    </tr>\n",
       "    <tr>\n",
       "      <th>242</th>\n",
       "      <td>경상남도</td>\n",
       "      <td>함양군</td>\n",
       "      <td>44</td>\n",
       "      <td>39</td>\n",
       "      <td>40</td>\n",
       "      <td>40</td>\n",
       "      <td>39</td>\n",
       "      <td>40</td>\n",
       "    </tr>\n",
       "    <tr>\n",
       "      <th>243</th>\n",
       "      <td>경상남도</td>\n",
       "      <td>거창군</td>\n",
       "      <td>84</td>\n",
       "      <td>85</td>\n",
       "      <td>78</td>\n",
       "      <td>79</td>\n",
       "      <td>83</td>\n",
       "      <td>86</td>\n",
       "    </tr>\n",
       "    <tr>\n",
       "      <th>244</th>\n",
       "      <td>경상남도</td>\n",
       "      <td>합천군</td>\n",
       "      <td>41</td>\n",
       "      <td>39</td>\n",
       "      <td>32</td>\n",
       "      <td>31</td>\n",
       "      <td>28</td>\n",
       "      <td>30</td>\n",
       "    </tr>\n",
       "    <tr>\n",
       "      <th>246</th>\n",
       "      <td>제주특별자치도</td>\n",
       "      <td>제주시</td>\n",
       "      <td>829</td>\n",
       "      <td>847</td>\n",
       "      <td>853</td>\n",
       "      <td>860</td>\n",
       "      <td>890</td>\n",
       "      <td>930</td>\n",
       "    </tr>\n",
       "    <tr>\n",
       "      <th>247</th>\n",
       "      <td>제주특별자치도</td>\n",
       "      <td>서귀포시</td>\n",
       "      <td>165</td>\n",
       "      <td>170</td>\n",
       "      <td>173</td>\n",
       "      <td>191</td>\n",
       "      <td>205</td>\n",
       "      <td>237</td>\n",
       "    </tr>\n",
       "  </tbody>\n",
       "</table>\n",
       "<p>229 rows × 8 columns</p>\n",
       "</div>"
      ],
      "text/plain": [
       "          지역 행정구역별 2017 2018 2019 2020 2021 2022\n",
       "3      서울특별시   종로구  297  274  259  243  217  248\n",
       "4      서울특별시    중구  128  119  118  109   91  108\n",
       "5      서울특별시   용산구  175  158  155  154  137  151\n",
       "6      서울특별시   성동구  295  314  293  289  290  294\n",
       "7      서울특별시   광진구  442  430  406  405  426  441\n",
       "..       ...   ...  ...  ...  ...  ...  ...  ...\n",
       "242     경상남도   함양군   44   39   40   40   39   40\n",
       "243     경상남도   거창군   84   85   78   79   83   86\n",
       "244     경상남도   합천군   41   39   32   31   28   30\n",
       "246  제주특별자치도   제주시  829  847  853  860  890  930\n",
       "247  제주특별자치도  서귀포시  165  170  173  191  205  237\n",
       "\n",
       "[229 rows x 8 columns]"
      ]
     },
     "execution_count": 21,
     "metadata": {},
     "output_type": "execute_result"
    }
   ],
   "source": [
    "df_edu = df_edu.drop([0])\n",
    "df_edu"
   ]
  },
  {
   "cell_type": "code",
   "execution_count": 34,
   "id": "c672327b",
   "metadata": {
    "scrolled": true
   },
   "outputs": [
    {
     "data": {
      "text/html": [
       "<div>\n",
       "<style scoped>\n",
       "    .dataframe tbody tr th:only-of-type {\n",
       "        vertical-align: middle;\n",
       "    }\n",
       "\n",
       "    .dataframe tbody tr th {\n",
       "        vertical-align: top;\n",
       "    }\n",
       "\n",
       "    .dataframe thead th {\n",
       "        text-align: right;\n",
       "    }\n",
       "</style>\n",
       "<table border=\"1\" class=\"dataframe\">\n",
       "  <thead>\n",
       "    <tr style=\"text-align: right;\">\n",
       "      <th></th>\n",
       "      <th>지역</th>\n",
       "      <th>행정구역별</th>\n",
       "      <th>2017</th>\n",
       "      <th>2018</th>\n",
       "      <th>2019</th>\n",
       "      <th>2020</th>\n",
       "      <th>2021</th>\n",
       "      <th>2022</th>\n",
       "    </tr>\n",
       "  </thead>\n",
       "  <tbody>\n",
       "    <tr>\n",
       "      <th>0</th>\n",
       "      <td>서울특별시</td>\n",
       "      <td>종로구</td>\n",
       "      <td>297</td>\n",
       "      <td>274</td>\n",
       "      <td>259</td>\n",
       "      <td>243</td>\n",
       "      <td>217</td>\n",
       "      <td>248</td>\n",
       "    </tr>\n",
       "    <tr>\n",
       "      <th>1</th>\n",
       "      <td>서울특별시</td>\n",
       "      <td>중구</td>\n",
       "      <td>128</td>\n",
       "      <td>119</td>\n",
       "      <td>118</td>\n",
       "      <td>109</td>\n",
       "      <td>91</td>\n",
       "      <td>108</td>\n",
       "    </tr>\n",
       "    <tr>\n",
       "      <th>2</th>\n",
       "      <td>서울특별시</td>\n",
       "      <td>용산구</td>\n",
       "      <td>175</td>\n",
       "      <td>158</td>\n",
       "      <td>155</td>\n",
       "      <td>154</td>\n",
       "      <td>137</td>\n",
       "      <td>151</td>\n",
       "    </tr>\n",
       "    <tr>\n",
       "      <th>3</th>\n",
       "      <td>서울특별시</td>\n",
       "      <td>성동구</td>\n",
       "      <td>295</td>\n",
       "      <td>314</td>\n",
       "      <td>293</td>\n",
       "      <td>289</td>\n",
       "      <td>290</td>\n",
       "      <td>294</td>\n",
       "    </tr>\n",
       "    <tr>\n",
       "      <th>4</th>\n",
       "      <td>서울특별시</td>\n",
       "      <td>광진구</td>\n",
       "      <td>442</td>\n",
       "      <td>430</td>\n",
       "      <td>406</td>\n",
       "      <td>405</td>\n",
       "      <td>426</td>\n",
       "      <td>441</td>\n",
       "    </tr>\n",
       "    <tr>\n",
       "      <th>...</th>\n",
       "      <td>...</td>\n",
       "      <td>...</td>\n",
       "      <td>...</td>\n",
       "      <td>...</td>\n",
       "      <td>...</td>\n",
       "      <td>...</td>\n",
       "      <td>...</td>\n",
       "      <td>...</td>\n",
       "    </tr>\n",
       "    <tr>\n",
       "      <th>224</th>\n",
       "      <td>경상남도</td>\n",
       "      <td>함양군</td>\n",
       "      <td>44</td>\n",
       "      <td>39</td>\n",
       "      <td>40</td>\n",
       "      <td>40</td>\n",
       "      <td>39</td>\n",
       "      <td>40</td>\n",
       "    </tr>\n",
       "    <tr>\n",
       "      <th>225</th>\n",
       "      <td>경상남도</td>\n",
       "      <td>거창군</td>\n",
       "      <td>84</td>\n",
       "      <td>85</td>\n",
       "      <td>78</td>\n",
       "      <td>79</td>\n",
       "      <td>83</td>\n",
       "      <td>86</td>\n",
       "    </tr>\n",
       "    <tr>\n",
       "      <th>226</th>\n",
       "      <td>경상남도</td>\n",
       "      <td>합천군</td>\n",
       "      <td>41</td>\n",
       "      <td>39</td>\n",
       "      <td>32</td>\n",
       "      <td>31</td>\n",
       "      <td>28</td>\n",
       "      <td>30</td>\n",
       "    </tr>\n",
       "    <tr>\n",
       "      <th>227</th>\n",
       "      <td>제주특별자치도</td>\n",
       "      <td>제주시</td>\n",
       "      <td>829</td>\n",
       "      <td>847</td>\n",
       "      <td>853</td>\n",
       "      <td>860</td>\n",
       "      <td>890</td>\n",
       "      <td>930</td>\n",
       "    </tr>\n",
       "    <tr>\n",
       "      <th>228</th>\n",
       "      <td>제주특별자치도</td>\n",
       "      <td>서귀포시</td>\n",
       "      <td>165</td>\n",
       "      <td>170</td>\n",
       "      <td>173</td>\n",
       "      <td>191</td>\n",
       "      <td>205</td>\n",
       "      <td>237</td>\n",
       "    </tr>\n",
       "  </tbody>\n",
       "</table>\n",
       "<p>229 rows × 8 columns</p>\n",
       "</div>"
      ],
      "text/plain": [
       "          지역 행정구역별 2017 2018 2019 2020 2021 2022\n",
       "0      서울특별시   종로구  297  274  259  243  217  248\n",
       "1      서울특별시    중구  128  119  118  109   91  108\n",
       "2      서울특별시   용산구  175  158  155  154  137  151\n",
       "3      서울특별시   성동구  295  314  293  289  290  294\n",
       "4      서울특별시   광진구  442  430  406  405  426  441\n",
       "..       ...   ...  ...  ...  ...  ...  ...  ...\n",
       "224     경상남도   함양군   44   39   40   40   39   40\n",
       "225     경상남도   거창군   84   85   78   79   83   86\n",
       "226     경상남도   합천군   41   39   32   31   28   30\n",
       "227  제주특별자치도   제주시  829  847  853  860  890  930\n",
       "228  제주특별자치도  서귀포시  165  170  173  191  205  237\n",
       "\n",
       "[229 rows x 8 columns]"
      ]
     },
     "execution_count": 34,
     "metadata": {},
     "output_type": "execute_result"
    }
   ],
   "source": [
    "# 인덱스 초기화\n",
    "df_edu=df_edu.reset_index(drop = True)\n",
    "df_edu.to_csv('./pre_data/2017~2022 사설학원수.csv', index=False)\n",
    "df_edu"
   ]
  },
  {
   "cell_type": "markdown",
   "id": "f5be8f5c",
   "metadata": {},
   "source": [
    "# 연말정산 데이터 전처리"
   ]
  },
  {
   "cell_type": "code",
   "execution_count": 23,
   "id": "f450df32",
   "metadata": {},
   "outputs": [],
   "source": [
    "df_3 = Dataset['4.2.15_시·군·구별_근로소득_연말정산_신고현황_주소지_2016_20230810140813']"
   ]
  },
  {
   "cell_type": "code",
   "execution_count": 24,
   "id": "b6248be1",
   "metadata": {},
   "outputs": [],
   "source": [
    "df_3=df_3.drop([0,1])"
   ]
  },
  {
   "cell_type": "code",
   "execution_count": 26,
   "id": "0f4f4716",
   "metadata": {},
   "outputs": [],
   "source": [
    "df_3 = df_3[~df_3['행정구역(시군구)별(2)'].isin(['소계'])]"
   ]
  },
  {
   "cell_type": "code",
   "execution_count": 27,
   "id": "2946ff70",
   "metadata": {},
   "outputs": [
    {
     "data": {
      "text/html": [
       "<div>\n",
       "<style scoped>\n",
       "    .dataframe tbody tr th:only-of-type {\n",
       "        vertical-align: middle;\n",
       "    }\n",
       "\n",
       "    .dataframe tbody tr th {\n",
       "        vertical-align: top;\n",
       "    }\n",
       "\n",
       "    .dataframe thead th {\n",
       "        text-align: right;\n",
       "    }\n",
       "</style>\n",
       "<table border=\"1\" class=\"dataframe\">\n",
       "  <thead>\n",
       "    <tr style=\"text-align: right;\">\n",
       "      <th></th>\n",
       "      <th>행정구역(시군구)별(1)</th>\n",
       "      <th>행정구역(시군구)별(2)</th>\n",
       "      <th>2017</th>\n",
       "      <th>2017.1</th>\n",
       "      <th>2018</th>\n",
       "      <th>2018.1</th>\n",
       "      <th>2019</th>\n",
       "      <th>2019.1</th>\n",
       "      <th>2020</th>\n",
       "      <th>2020.1</th>\n",
       "      <th>2021</th>\n",
       "      <th>2021.1</th>\n",
       "    </tr>\n",
       "  </thead>\n",
       "  <tbody>\n",
       "    <tr>\n",
       "      <th>0</th>\n",
       "      <td>서울</td>\n",
       "      <td>강남구</td>\n",
       "      <td>201206</td>\n",
       "      <td>14142558</td>\n",
       "      <td>206821</td>\n",
       "      <td>14403588</td>\n",
       "      <td>209653</td>\n",
       "      <td>14926829</td>\n",
       "      <td>210941</td>\n",
       "      <td>15754700</td>\n",
       "      <td>215632</td>\n",
       "      <td>17477665</td>\n",
       "    </tr>\n",
       "    <tr>\n",
       "      <th>1</th>\n",
       "      <td>서울</td>\n",
       "      <td>강동구</td>\n",
       "      <td>160371</td>\n",
       "      <td>5824940</td>\n",
       "      <td>165248</td>\n",
       "      <td>6291291</td>\n",
       "      <td>183833</td>\n",
       "      <td>7447177</td>\n",
       "      <td>189102</td>\n",
       "      <td>7865918</td>\n",
       "      <td>192080</td>\n",
       "      <td>8488374</td>\n",
       "    </tr>\n",
       "    <tr>\n",
       "      <th>2</th>\n",
       "      <td>서울</td>\n",
       "      <td>강북구</td>\n",
       "      <td>102117</td>\n",
       "      <td>2764297</td>\n",
       "      <td>103391</td>\n",
       "      <td>2913526</td>\n",
       "      <td>105025</td>\n",
       "      <td>3075447</td>\n",
       "      <td>105321</td>\n",
       "      <td>3109922</td>\n",
       "      <td>105489</td>\n",
       "      <td>3274497</td>\n",
       "    </tr>\n",
       "    <tr>\n",
       "      <th>3</th>\n",
       "      <td>서울</td>\n",
       "      <td>강서구</td>\n",
       "      <td>236070</td>\n",
       "      <td>8221014</td>\n",
       "      <td>242516</td>\n",
       "      <td>8809099</td>\n",
       "      <td>245495</td>\n",
       "      <td>9178851</td>\n",
       "      <td>247909</td>\n",
       "      <td>9287969</td>\n",
       "      <td>252396</td>\n",
       "      <td>9964209</td>\n",
       "    </tr>\n",
       "    <tr>\n",
       "      <th>4</th>\n",
       "      <td>서울</td>\n",
       "      <td>관악구</td>\n",
       "      <td>205325</td>\n",
       "      <td>6098873</td>\n",
       "      <td>212016</td>\n",
       "      <td>6521099</td>\n",
       "      <td>217483</td>\n",
       "      <td>6865539</td>\n",
       "      <td>217065</td>\n",
       "      <td>6961669</td>\n",
       "      <td>224352</td>\n",
       "      <td>7550177</td>\n",
       "    </tr>\n",
       "    <tr>\n",
       "      <th>...</th>\n",
       "      <td>...</td>\n",
       "      <td>...</td>\n",
       "      <td>...</td>\n",
       "      <td>...</td>\n",
       "      <td>...</td>\n",
       "      <td>...</td>\n",
       "      <td>...</td>\n",
       "      <td>...</td>\n",
       "      <td>...</td>\n",
       "      <td>...</td>\n",
       "      <td>...</td>\n",
       "      <td>...</td>\n",
       "    </tr>\n",
       "    <tr>\n",
       "      <th>223</th>\n",
       "      <td>경남</td>\n",
       "      <td>함안군</td>\n",
       "      <td>22078</td>\n",
       "      <td>660556</td>\n",
       "      <td>21965</td>\n",
       "      <td>680748</td>\n",
       "      <td>21884</td>\n",
       "      <td>696932</td>\n",
       "      <td>21447</td>\n",
       "      <td>693680</td>\n",
       "      <td>20864</td>\n",
       "      <td>714257</td>\n",
       "    </tr>\n",
       "    <tr>\n",
       "      <th>224</th>\n",
       "      <td>경남</td>\n",
       "      <td>함양군</td>\n",
       "      <td>8904</td>\n",
       "      <td>254163</td>\n",
       "      <td>9153</td>\n",
       "      <td>272742</td>\n",
       "      <td>9343</td>\n",
       "      <td>288482</td>\n",
       "      <td>9374</td>\n",
       "      <td>300136</td>\n",
       "      <td>9506</td>\n",
       "      <td>311678</td>\n",
       "    </tr>\n",
       "    <tr>\n",
       "      <th>225</th>\n",
       "      <td>경남</td>\n",
       "      <td>합천군</td>\n",
       "      <td>9187</td>\n",
       "      <td>270618</td>\n",
       "      <td>9175</td>\n",
       "      <td>283536</td>\n",
       "      <td>9211</td>\n",
       "      <td>290330</td>\n",
       "      <td>9322</td>\n",
       "      <td>302771</td>\n",
       "      <td>9838</td>\n",
       "      <td>317420</td>\n",
       "    </tr>\n",
       "    <tr>\n",
       "      <th>226</th>\n",
       "      <td>제주</td>\n",
       "      <td>제주시</td>\n",
       "      <td>157011</td>\n",
       "      <td>4803882</td>\n",
       "      <td>164636</td>\n",
       "      <td>5213420</td>\n",
       "      <td>171469</td>\n",
       "      <td>5584793</td>\n",
       "      <td>173124</td>\n",
       "      <td>5730762</td>\n",
       "      <td>175810</td>\n",
       "      <td>6064037</td>\n",
       "    </tr>\n",
       "    <tr>\n",
       "      <th>227</th>\n",
       "      <td>제주</td>\n",
       "      <td>서귀포시</td>\n",
       "      <td>50517</td>\n",
       "      <td>1478653</td>\n",
       "      <td>52815</td>\n",
       "      <td>1606768</td>\n",
       "      <td>54529</td>\n",
       "      <td>1712400</td>\n",
       "      <td>55593</td>\n",
       "      <td>1787320</td>\n",
       "      <td>56761</td>\n",
       "      <td>1921607</td>\n",
       "    </tr>\n",
       "  </tbody>\n",
       "</table>\n",
       "<p>228 rows × 12 columns</p>\n",
       "</div>"
      ],
      "text/plain": [
       "    행정구역(시군구)별(1) 행정구역(시군구)별(2)    2017    2017.1    2018    2018.1    2019  \\\n",
       "0              서울           강남구  201206  14142558  206821  14403588  209653   \n",
       "1              서울           강동구  160371   5824940  165248   6291291  183833   \n",
       "2              서울           강북구  102117   2764297  103391   2913526  105025   \n",
       "3              서울           강서구  236070   8221014  242516   8809099  245495   \n",
       "4              서울           관악구  205325   6098873  212016   6521099  217483   \n",
       "..            ...           ...     ...       ...     ...       ...     ...   \n",
       "223            경남           함안군   22078    660556   21965    680748   21884   \n",
       "224            경남           함양군    8904    254163    9153    272742    9343   \n",
       "225            경남           합천군    9187    270618    9175    283536    9211   \n",
       "226            제주           제주시  157011   4803882  164636   5213420  171469   \n",
       "227            제주          서귀포시   50517   1478653   52815   1606768   54529   \n",
       "\n",
       "       2019.1    2020    2020.1    2021    2021.1  \n",
       "0    14926829  210941  15754700  215632  17477665  \n",
       "1     7447177  189102   7865918  192080   8488374  \n",
       "2     3075447  105321   3109922  105489   3274497  \n",
       "3     9178851  247909   9287969  252396   9964209  \n",
       "4     6865539  217065   6961669  224352   7550177  \n",
       "..        ...     ...       ...     ...       ...  \n",
       "223    696932   21447    693680   20864    714257  \n",
       "224    288482    9374    300136    9506    311678  \n",
       "225    290330    9322    302771    9838    317420  \n",
       "226   5584793  173124   5730762  175810   6064037  \n",
       "227   1712400   55593   1787320   56761   1921607  \n",
       "\n",
       "[228 rows x 12 columns]"
      ]
     },
     "execution_count": 27,
     "metadata": {},
     "output_type": "execute_result"
    }
   ],
   "source": [
    "df_3=df_3.reset_index(drop = True)\n",
    "df_3"
   ]
  },
  {
   "cell_type": "code",
   "execution_count": 28,
   "id": "0159408e",
   "metadata": {},
   "outputs": [],
   "source": [
    "# 이전 데이터들과 자치구 이름을 맞춰주기위한 코드\n",
    "def change_region_name(region):\n",
    "    region_mapping = {\n",
    "        '서울': '서울특별시',\n",
    "        '부산': '부산광역시',\n",
    "        '대구': '대구광역시',\n",
    "        '인천': '인천광역시',\n",
    "        '광주': '광주광역시',\n",
    "        '대전': '대전광역시',\n",
    "        '울산': '울산광역시',\n",
    "        '세종': '세종특별자치시',\n",
    "        '경기': '경기도',\n",
    "        '강원': '강원특별자치도',\n",
    "        '충북': '충청북도',\n",
    "        '충남': '충청남도',\n",
    "        '전북': '전라북도',\n",
    "        '전남': '전라남도',\n",
    "        '경북': '경상북도',\n",
    "        '경남': '경상남도',\n",
    "        '제주': '제주특별자치도'\n",
    "    }\n",
    "    \n",
    "    if region in region_mapping:\n",
    "        return region_mapping[region]\n",
    "    return region"
   ]
  },
  {
   "cell_type": "code",
   "execution_count": 29,
   "id": "58bdce93",
   "metadata": {},
   "outputs": [],
   "source": [
    "df_3['행정구역(시군구)별(1)'] = df_3['행정구역(시군구)별(1)'].apply(change_region_name)"
   ]
  },
  {
   "cell_type": "code",
   "execution_count": null,
   "id": "07a10de7",
   "metadata": {},
   "outputs": [],
   "source": []
  },
  {
   "cell_type": "code",
   "execution_count": 30,
   "id": "e4da0d23",
   "metadata": {},
   "outputs": [],
   "source": [
    "# 금여총계에서 인원수를 나누어주어 1인당 급여 평균을 나타내 준다\n",
    "for i in range(2017,2022):\n",
    "    df_3[f'{i}년 평균급여(백만원)']=(pd.to_numeric(df_3[f'{i}.1']) / pd.to_numeric(df_3[f'{i}']))"
   ]
  },
  {
   "cell_type": "code",
   "execution_count": 31,
   "id": "9096986b",
   "metadata": {},
   "outputs": [],
   "source": [
    "df_3=df_3.drop(['2017', '2017.1', '2018', '2018.1',\n",
    "       '2019', '2019.1', '2020', '2020.1', '2021', '2021.1'], axis = 1)"
   ]
  },
  {
   "cell_type": "code",
   "execution_count": 35,
   "id": "13ac54f5",
   "metadata": {
    "scrolled": true
   },
   "outputs": [
    {
     "data": {
      "text/html": [
       "<div>\n",
       "<style scoped>\n",
       "    .dataframe tbody tr th:only-of-type {\n",
       "        vertical-align: middle;\n",
       "    }\n",
       "\n",
       "    .dataframe tbody tr th {\n",
       "        vertical-align: top;\n",
       "    }\n",
       "\n",
       "    .dataframe thead th {\n",
       "        text-align: right;\n",
       "    }\n",
       "</style>\n",
       "<table border=\"1\" class=\"dataframe\">\n",
       "  <thead>\n",
       "    <tr style=\"text-align: right;\">\n",
       "      <th></th>\n",
       "      <th>행정구역(시군구)별(1)</th>\n",
       "      <th>행정구역(시군구)별(2)</th>\n",
       "      <th>2017년 평균급여(백만원)</th>\n",
       "      <th>2018년 평균급여(백만원)</th>\n",
       "      <th>2019년 평균급여(백만원)</th>\n",
       "      <th>2020년 평균급여(백만원)</th>\n",
       "      <th>2021년 평균급여(백만원)</th>\n",
       "    </tr>\n",
       "  </thead>\n",
       "  <tbody>\n",
       "    <tr>\n",
       "      <th>0</th>\n",
       "      <td>서울특별시</td>\n",
       "      <td>강남구</td>\n",
       "      <td>70.288948</td>\n",
       "      <td>69.642773</td>\n",
       "      <td>71.197784</td>\n",
       "      <td>74.687709</td>\n",
       "      <td>81.053206</td>\n",
       "    </tr>\n",
       "    <tr>\n",
       "      <th>1</th>\n",
       "      <td>서울특별시</td>\n",
       "      <td>강동구</td>\n",
       "      <td>36.321654</td>\n",
       "      <td>38.071813</td>\n",
       "      <td>40.510556</td>\n",
       "      <td>41.596165</td>\n",
       "      <td>44.191868</td>\n",
       "    </tr>\n",
       "    <tr>\n",
       "      <th>2</th>\n",
       "      <td>서울특별시</td>\n",
       "      <td>강북구</td>\n",
       "      <td>27.069900</td>\n",
       "      <td>28.179687</td>\n",
       "      <td>29.282999</td>\n",
       "      <td>29.528033</td>\n",
       "      <td>31.041123</td>\n",
       "    </tr>\n",
       "    <tr>\n",
       "      <th>3</th>\n",
       "      <td>서울특별시</td>\n",
       "      <td>강서구</td>\n",
       "      <td>34.824476</td>\n",
       "      <td>36.323785</td>\n",
       "      <td>37.389157</td>\n",
       "      <td>37.465235</td>\n",
       "      <td>39.478474</td>\n",
       "    </tr>\n",
       "    <tr>\n",
       "      <th>4</th>\n",
       "      <td>서울특별시</td>\n",
       "      <td>관악구</td>\n",
       "      <td>29.703509</td>\n",
       "      <td>30.757580</td>\n",
       "      <td>31.568164</td>\n",
       "      <td>32.071817</td>\n",
       "      <td>33.653264</td>\n",
       "    </tr>\n",
       "    <tr>\n",
       "      <th>...</th>\n",
       "      <td>...</td>\n",
       "      <td>...</td>\n",
       "      <td>...</td>\n",
       "      <td>...</td>\n",
       "      <td>...</td>\n",
       "      <td>...</td>\n",
       "      <td>...</td>\n",
       "    </tr>\n",
       "    <tr>\n",
       "      <th>223</th>\n",
       "      <td>경상남도</td>\n",
       "      <td>함안군</td>\n",
       "      <td>29.919196</td>\n",
       "      <td>30.992397</td>\n",
       "      <td>31.846646</td>\n",
       "      <td>32.343918</td>\n",
       "      <td>34.233944</td>\n",
       "    </tr>\n",
       "    <tr>\n",
       "      <th>224</th>\n",
       "      <td>경상남도</td>\n",
       "      <td>함양군</td>\n",
       "      <td>28.544811</td>\n",
       "      <td>29.798099</td>\n",
       "      <td>30.876806</td>\n",
       "      <td>32.017922</td>\n",
       "      <td>32.787503</td>\n",
       "    </tr>\n",
       "    <tr>\n",
       "      <th>225</th>\n",
       "      <td>경상남도</td>\n",
       "      <td>합천군</td>\n",
       "      <td>29.456623</td>\n",
       "      <td>30.903106</td>\n",
       "      <td>31.519922</td>\n",
       "      <td>32.479189</td>\n",
       "      <td>32.264688</td>\n",
       "    </tr>\n",
       "    <tr>\n",
       "      <th>226</th>\n",
       "      <td>제주특별자치도</td>\n",
       "      <td>제주시</td>\n",
       "      <td>30.595831</td>\n",
       "      <td>31.666343</td>\n",
       "      <td>32.570278</td>\n",
       "      <td>33.102066</td>\n",
       "      <td>34.491991</td>\n",
       "    </tr>\n",
       "    <tr>\n",
       "      <th>227</th>\n",
       "      <td>제주특별자치도</td>\n",
       "      <td>서귀포시</td>\n",
       "      <td>29.270404</td>\n",
       "      <td>30.422569</td>\n",
       "      <td>31.403473</td>\n",
       "      <td>32.150091</td>\n",
       "      <td>33.854354</td>\n",
       "    </tr>\n",
       "  </tbody>\n",
       "</table>\n",
       "<p>228 rows × 7 columns</p>\n",
       "</div>"
      ],
      "text/plain": [
       "    행정구역(시군구)별(1) 행정구역(시군구)별(2)  2017년 평균급여(백만원)  2018년 평균급여(백만원)  \\\n",
       "0           서울특별시           강남구        70.288948        69.642773   \n",
       "1           서울특별시           강동구        36.321654        38.071813   \n",
       "2           서울특별시           강북구        27.069900        28.179687   \n",
       "3           서울특별시           강서구        34.824476        36.323785   \n",
       "4           서울특별시           관악구        29.703509        30.757580   \n",
       "..            ...           ...              ...              ...   \n",
       "223          경상남도           함안군        29.919196        30.992397   \n",
       "224          경상남도           함양군        28.544811        29.798099   \n",
       "225          경상남도           합천군        29.456623        30.903106   \n",
       "226       제주특별자치도           제주시        30.595831        31.666343   \n",
       "227       제주특별자치도          서귀포시        29.270404        30.422569   \n",
       "\n",
       "     2019년 평균급여(백만원)  2020년 평균급여(백만원)  2021년 평균급여(백만원)  \n",
       "0          71.197784        74.687709        81.053206  \n",
       "1          40.510556        41.596165        44.191868  \n",
       "2          29.282999        29.528033        31.041123  \n",
       "3          37.389157        37.465235        39.478474  \n",
       "4          31.568164        32.071817        33.653264  \n",
       "..               ...              ...              ...  \n",
       "223        31.846646        32.343918        34.233944  \n",
       "224        30.876806        32.017922        32.787503  \n",
       "225        31.519922        32.479189        32.264688  \n",
       "226        32.570278        33.102066        34.491991  \n",
       "227        31.403473        32.150091        33.854354  \n",
       "\n",
       "[228 rows x 7 columns]"
      ]
     },
     "execution_count": 35,
     "metadata": {},
     "output_type": "execute_result"
    }
   ],
   "source": [
    "df_3.to_csv('./pre_data/시·군·구별_근로소득_연말정산_신고현황_주소지.csv', index=False)\n",
    "df_3"
   ]
  },
  {
   "cell_type": "markdown",
   "id": "3417a86c",
   "metadata": {},
   "source": [
    "# 2022년 평균급여 예측 모델 생성"
   ]
  },
  {
   "cell_type": "code",
   "execution_count": 179,
   "id": "20f3407e",
   "metadata": {},
   "outputs": [],
   "source": [
    "from tensorflow.keras.models import Sequential\n",
    "from tensorflow.keras.layers import LSTM, Dense"
   ]
  },
  {
   "cell_type": "code",
   "execution_count": 180,
   "id": "0099aee0",
   "metadata": {},
   "outputs": [],
   "source": [
    "df = df_3.copy()"
   ]
  },
  {
   "cell_type": "code",
   "execution_count": 181,
   "id": "63a5cb5a",
   "metadata": {},
   "outputs": [],
   "source": [
    "def pred_avg(df, ind):\n",
    "    data = np.array([df['2017년 평균급여(백만원)'][ind], df['2018년 평균급여(백만원)'][ind],\n",
    "                     df['2019년 평균급여(백만원)'][ind], df['2020년 평균급여(백만원)'][ind],\n",
    "                     df['2021년 평균급여(백만원)'][ind]])\n",
    "\n",
    "    \n",
    "    \n",
    "    # 데이터 전처리 (모델학습을 위한 스케일 조정)\n",
    "    data_normalized = (data - np.min(data)) / (np.max(data) - np.min(data))\n",
    "\n",
    "    # 예측을 위해 4년치 데이터를 입력으로 사용(17~20년 X, 21년 y)\n",
    "    time_steps = 4 \n",
    "\n",
    "    X = []\n",
    "    y = []\n",
    "    for i in range(len(data_normalized) - time_steps):\n",
    "        X.append(data_normalized[i:i+time_steps])\n",
    "        y.append(data_normalized[i+time_steps])\n",
    "\n",
    "    X = np.array(X)\n",
    "    y = np.array(y)\n",
    "\n",
    "    # 모델 생성\n",
    "    model = Sequential([\n",
    "        LSTM(50, activation='relu', input_shape=(time_steps, 1)),\n",
    "        Dense(1)\n",
    "    ])\n",
    "\n",
    "    model.compile(optimizer='adam', loss='mse')\n",
    "    \n",
    "    # 모델 훈련\n",
    "    model.fit(X.reshape(-1, time_steps, 1), y, epochs=100, verbose=0)  # verbose를 0으로 설정하여 출력 제거\n",
    "\n",
    "    # 최근 4년치를 통해 다음 연도 값 예측\n",
    "    last_data = data_normalized[-time_steps:]\n",
    "    next_year_prediction = model.predict(np.array([last_data]))\n",
    "\n",
    "    # 실제 데이터의 스케일로 복원\n",
    "    predicted_value = next_year_prediction * (np.max(data) - np.min(data)) + np.min(data)\n",
    "\n",
    "    return predicted_value\n"
   ]
  },
  {
   "cell_type": "raw",
   "id": "00afd46f",
   "metadata": {},
   "source": [
    "df['2022년 평균급여_예측값(백만원)'] = None\n",
    "for i in range(len(df)):\n",
    "    predicted_22 = pred_avg(df, ind=i)\n",
    "    df['2022년 평균급여_예측값(백만원)'][i] = predicted_22[0,0]"
   ]
  },
  {
   "cell_type": "markdown",
   "id": "ffa34380",
   "metadata": {},
   "source": [
    "### 매번 예측모델을 돌리기엔 시간이 오래걸려 데이터를 저장 및 새로 불러옴"
   ]
  },
  {
   "cell_type": "raw",
   "id": "523c3293",
   "metadata": {},
   "source": [
    "df.to_csv('./pre_data/급여 2022 예측값.csv',index=False)"
   ]
  },
  {
   "cell_type": "code",
   "execution_count": 36,
   "id": "28f971fc",
   "metadata": {},
   "outputs": [],
   "source": [
    "df = pd.read_csv(\"./pre_data/급여 2022 예측값.csv\")"
   ]
  },
  {
   "cell_type": "code",
   "execution_count": 37,
   "id": "980b9ac0",
   "metadata": {},
   "outputs": [
    {
     "data": {
      "text/html": [
       "<div>\n",
       "<style scoped>\n",
       "    .dataframe tbody tr th:only-of-type {\n",
       "        vertical-align: middle;\n",
       "    }\n",
       "\n",
       "    .dataframe tbody tr th {\n",
       "        vertical-align: top;\n",
       "    }\n",
       "\n",
       "    .dataframe thead th {\n",
       "        text-align: right;\n",
       "    }\n",
       "</style>\n",
       "<table border=\"1\" class=\"dataframe\">\n",
       "  <thead>\n",
       "    <tr style=\"text-align: right;\">\n",
       "      <th></th>\n",
       "      <th>행정구역(시군구)별(1)</th>\n",
       "      <th>행정구역(시군구)별(2)</th>\n",
       "      <th>2017년 평균급여(백만원)</th>\n",
       "      <th>2018년 평균급여(백만원)</th>\n",
       "      <th>2019년 평균급여(백만원)</th>\n",
       "      <th>2020년 평균급여(백만원)</th>\n",
       "      <th>2021년 평균급여(백만원)</th>\n",
       "      <th>2022년 평균급여_예측값(백만원)</th>\n",
       "    </tr>\n",
       "  </thead>\n",
       "  <tbody>\n",
       "    <tr>\n",
       "      <th>115</th>\n",
       "      <td>광주광역시</td>\n",
       "      <td>광산구</td>\n",
       "      <td>32.910870</td>\n",
       "      <td>33.883924</td>\n",
       "      <td>34.794204</td>\n",
       "      <td>35.833613</td>\n",
       "      <td>37.383785</td>\n",
       "      <td>39.617447</td>\n",
       "    </tr>\n",
       "    <tr>\n",
       "      <th>116</th>\n",
       "      <td>광주광역시</td>\n",
       "      <td>남구</td>\n",
       "      <td>34.738983</td>\n",
       "      <td>36.159077</td>\n",
       "      <td>37.102379</td>\n",
       "      <td>38.034050</td>\n",
       "      <td>39.548014</td>\n",
       "      <td>42.153584</td>\n",
       "    </tr>\n",
       "    <tr>\n",
       "      <th>117</th>\n",
       "      <td>광주광역시</td>\n",
       "      <td>동구</td>\n",
       "      <td>33.435783</td>\n",
       "      <td>35.310270</td>\n",
       "      <td>36.370739</td>\n",
       "      <td>37.182448</td>\n",
       "      <td>39.354556</td>\n",
       "      <td>42.536842</td>\n",
       "    </tr>\n",
       "    <tr>\n",
       "      <th>118</th>\n",
       "      <td>광주광역시</td>\n",
       "      <td>북구</td>\n",
       "      <td>31.452545</td>\n",
       "      <td>32.392437</td>\n",
       "      <td>33.320902</td>\n",
       "      <td>34.140176</td>\n",
       "      <td>35.239432</td>\n",
       "      <td>36.990300</td>\n",
       "    </tr>\n",
       "    <tr>\n",
       "      <th>119</th>\n",
       "      <td>광주광역시</td>\n",
       "      <td>서구</td>\n",
       "      <td>35.289445</td>\n",
       "      <td>36.350680</td>\n",
       "      <td>37.301218</td>\n",
       "      <td>37.696259</td>\n",
       "      <td>39.230623</td>\n",
       "      <td>41.715610</td>\n",
       "    </tr>\n",
       "  </tbody>\n",
       "</table>\n",
       "</div>"
      ],
      "text/plain": [
       "    행정구역(시군구)별(1) 행정구역(시군구)별(2)  2017년 평균급여(백만원)  2018년 평균급여(백만원)  \\\n",
       "115         광주광역시           광산구        32.910870        33.883924   \n",
       "116         광주광역시            남구        34.738983        36.159077   \n",
       "117         광주광역시            동구        33.435783        35.310270   \n",
       "118         광주광역시            북구        31.452545        32.392437   \n",
       "119         광주광역시            서구        35.289445        36.350680   \n",
       "\n",
       "     2019년 평균급여(백만원)  2020년 평균급여(백만원)  2021년 평균급여(백만원)  2022년 평균급여_예측값(백만원)  \n",
       "115        34.794204        35.833613        37.383785            39.617447  \n",
       "116        37.102379        38.034050        39.548014            42.153584  \n",
       "117        36.370739        37.182448        39.354556            42.536842  \n",
       "118        33.320902        34.140176        35.239432            36.990300  \n",
       "119        37.301218        37.696259        39.230623            41.715610  "
      ]
     },
     "execution_count": 37,
     "metadata": {},
     "output_type": "execute_result"
    }
   ],
   "source": [
    "df[df['행정구역(시군구)별(1)']=='광주광역시']"
   ]
  },
  {
   "cell_type": "code",
   "execution_count": 38,
   "id": "a9054e16",
   "metadata": {
    "scrolled": false
   },
   "outputs": [
    {
     "name": "stderr",
     "output_type": "stream",
     "text": [
      "c:\\ProgramData\\anaconda3\\lib\\site-packages\\IPython\\core\\pylabtools.py:152: UserWarning: Glyph 44305 (\\N{HANGUL SYLLABLE GWANG}) missing from current font.\n",
      "  fig.canvas.print_figure(bytes_io, **kw)\n",
      "c:\\ProgramData\\anaconda3\\lib\\site-packages\\IPython\\core\\pylabtools.py:152: UserWarning: Glyph 51452 (\\N{HANGUL SYLLABLE JU}) missing from current font.\n",
      "  fig.canvas.print_figure(bytes_io, **kw)\n",
      "c:\\ProgramData\\anaconda3\\lib\\site-packages\\IPython\\core\\pylabtools.py:152: UserWarning: Glyph 50669 (\\N{HANGUL SYLLABLE YEOG}) missing from current font.\n",
      "  fig.canvas.print_figure(bytes_io, **kw)\n",
      "c:\\ProgramData\\anaconda3\\lib\\site-packages\\IPython\\core\\pylabtools.py:152: UserWarning: Glyph 49884 (\\N{HANGUL SYLLABLE SI}) missing from current font.\n",
      "  fig.canvas.print_figure(bytes_io, **kw)\n",
      "c:\\ProgramData\\anaconda3\\lib\\site-packages\\IPython\\core\\pylabtools.py:152: UserWarning: Glyph 46041 (\\N{HANGUL SYLLABLE DONG}) missing from current font.\n",
      "  fig.canvas.print_figure(bytes_io, **kw)\n",
      "c:\\ProgramData\\anaconda3\\lib\\site-packages\\IPython\\core\\pylabtools.py:152: UserWarning: Glyph 45348 (\\N{HANGUL SYLLABLE NE}) missing from current font.\n",
      "  fig.canvas.print_figure(bytes_io, **kw)\n",
      "c:\\ProgramData\\anaconda3\\lib\\site-packages\\IPython\\core\\pylabtools.py:152: UserWarning: Glyph 48324 (\\N{HANGUL SYLLABLE BYEOL}) missing from current font.\n",
      "  fig.canvas.print_figure(bytes_io, **kw)\n",
      "c:\\ProgramData\\anaconda3\\lib\\site-packages\\IPython\\core\\pylabtools.py:152: UserWarning: Glyph 54217 (\\N{HANGUL SYLLABLE PYEONG}) missing from current font.\n",
      "  fig.canvas.print_figure(bytes_io, **kw)\n",
      "c:\\ProgramData\\anaconda3\\lib\\site-packages\\IPython\\core\\pylabtools.py:152: UserWarning: Glyph 44512 (\\N{HANGUL SYLLABLE GYUN}) missing from current font.\n",
      "  fig.canvas.print_figure(bytes_io, **kw)\n",
      "c:\\ProgramData\\anaconda3\\lib\\site-packages\\IPython\\core\\pylabtools.py:152: UserWarning: Glyph 44553 (\\N{HANGUL SYLLABLE GEUB}) missing from current font.\n",
      "  fig.canvas.print_figure(bytes_io, **kw)\n",
      "c:\\ProgramData\\anaconda3\\lib\\site-packages\\IPython\\core\\pylabtools.py:152: UserWarning: Glyph 50668 (\\N{HANGUL SYLLABLE YEO}) missing from current font.\n",
      "  fig.canvas.print_figure(bytes_io, **kw)\n",
      "c:\\ProgramData\\anaconda3\\lib\\site-packages\\IPython\\core\\pylabtools.py:152: UserWarning: Glyph 52628 (\\N{HANGUL SYLLABLE CU}) missing from current font.\n",
      "  fig.canvas.print_figure(bytes_io, **kw)\n",
      "c:\\ProgramData\\anaconda3\\lib\\site-packages\\IPython\\core\\pylabtools.py:152: UserWarning: Glyph 51060 (\\N{HANGUL SYLLABLE I}) missing from current font.\n",
      "  fig.canvas.print_figure(bytes_io, **kw)\n",
      "c:\\ProgramData\\anaconda3\\lib\\site-packages\\IPython\\core\\pylabtools.py:152: UserWarning: Glyph 49328 (\\N{HANGUL SYLLABLE SAN}) missing from current font.\n",
      "  fig.canvas.print_figure(bytes_io, **kw)\n",
      "c:\\ProgramData\\anaconda3\\lib\\site-packages\\IPython\\core\\pylabtools.py:152: UserWarning: Glyph 44396 (\\N{HANGUL SYLLABLE GU}) missing from current font.\n",
      "  fig.canvas.print_figure(bytes_io, **kw)\n",
      "c:\\ProgramData\\anaconda3\\lib\\site-packages\\IPython\\core\\pylabtools.py:152: UserWarning: Glyph 45224 (\\N{HANGUL SYLLABLE NAM}) missing from current font.\n",
      "  fig.canvas.print_figure(bytes_io, **kw)\n",
      "c:\\ProgramData\\anaconda3\\lib\\site-packages\\IPython\\core\\pylabtools.py:152: UserWarning: Glyph 48513 (\\N{HANGUL SYLLABLE BUG}) missing from current font.\n",
      "  fig.canvas.print_figure(bytes_io, **kw)\n",
      "c:\\ProgramData\\anaconda3\\lib\\site-packages\\IPython\\core\\pylabtools.py:152: UserWarning: Glyph 49436 (\\N{HANGUL SYLLABLE SEO}) missing from current font.\n",
      "  fig.canvas.print_figure(bytes_io, **kw)\n"
     ]
    },
    {
     "data": {
      "image/png": "[encoded data removed]",
      "text/plain": [
       "<Figure size 1000x600 with 1 Axes>"
      ]
     },
     "metadata": {},
     "output_type": "display_data"
    }
   ],
   "source": [
    "import matplotlib.pyplot as plt\n",
    "from sklearn.linear_model import LinearRegression\n",
    "\n",
    "# 추세선 계산을 위한 연도 데이터\n",
    "years = np.array([2017, 2018, 2019, 2020, 2021,2022])\n",
    "df_3_A = df[df['행정구역(시군구)별(1)']=='광주광역시']\n",
    "\n",
    "\n",
    "\n",
    "# 추세선 계산을 위한 함수 정의\n",
    "def calculate_trend(data):\n",
    "    model = LinearRegression()\n",
    "    model.fit(years.reshape(-1, 1), data)\n",
    "    return model.predict(years.reshape(-1, 1))\n",
    "\n",
    "# 그래프 그리기\n",
    "plt.figure(figsize=(10, 6))\n",
    "for i, row in df_3_A.iterrows():\n",
    "    trend_data = row[2:8]  # 2017년부터 2021년까지의 데이터\n",
    "    trend_line = calculate_trend(trend_data)\n",
    "    plt.plot(years, trend_line, label=row['행정구역(시군구)별(2)'])\n",
    "\n",
    "plt.xlabel('Year')\n",
    "plt.ylabel('Average Salary (Million Won)')\n",
    "plt.title('광주광역시 동네별 평균급여 추이')\n",
    "plt.legend()\n",
    "plt.grid(True)\n",
    "plt.show()"
   ]
  },
  {
   "cell_type": "code",
   "execution_count": null,
   "id": "c34bf69f",
   "metadata": {},
   "outputs": [],
   "source": []
  },
  {
   "cell_type": "code",
   "execution_count": null,
   "id": "17119e82",
   "metadata": {},
   "outputs": [],
   "source": []
  },
  {
   "cell_type": "code",
   "execution_count": null,
   "id": "89fb90ee",
   "metadata": {},
   "outputs": [],
   "source": []
  },
  {
   "cell_type": "code",
   "execution_count": null,
   "id": "93f1529c",
   "metadata": {},
   "outputs": [],
   "source": []
  },
  {
   "cell_type": "code",
   "execution_count": null,
   "id": "dd887ec6",
   "metadata": {},
   "outputs": [],
   "source": []
  },
  {
   "cell_type": "markdown",
   "id": "dba75e3a",
   "metadata": {},
   "source": [
    "# 데이터 합치기"
   ]
  },
  {
   "cell_type": "code",
   "execution_count": 185,
   "id": "2c0f069d",
   "metadata": {},
   "outputs": [],
   "source": [
    "new_df = pd.merge(df_stu,df_edu,left_on =['지역','행정구역별'], right_on=['지역', '행정구역별'] )\n",
    "new_df_3 = pd.merge(new_df,df,left_on =['지역','행정구역별'], right_on=['행정구역(시군구)별(1)', '행정구역(시군구)별(2)'], how = 'outer' )"
   ]
  },
  {
   "cell_type": "code",
   "execution_count": 186,
   "id": "a0b9dbd3",
   "metadata": {},
   "outputs": [],
   "source": [
    "new_df_3=new_df_3.drop(['행정구역(시군구)별(1)','행정구역(시군구)별(2)'], axis=1)"
   ]
  },
  {
   "cell_type": "code",
   "execution_count": 187,
   "id": "d91bb824",
   "metadata": {},
   "outputs": [
    {
     "data": {
      "text/html": [
       "<div>\n",
       "<style scoped>\n",
       "    .dataframe tbody tr th:only-of-type {\n",
       "        vertical-align: middle;\n",
       "    }\n",
       "\n",
       "    .dataframe tbody tr th {\n",
       "        vertical-align: top;\n",
       "    }\n",
       "\n",
       "    .dataframe thead th {\n",
       "        text-align: right;\n",
       "    }\n",
       "</style>\n",
       "<table border=\"1\" class=\"dataframe\">\n",
       "  <thead>\n",
       "    <tr style=\"text-align: right;\">\n",
       "      <th></th>\n",
       "      <th>지역</th>\n",
       "      <th>행정구역별</th>\n",
       "      <th>2017_x</th>\n",
       "      <th>2018_x</th>\n",
       "      <th>2019_x</th>\n",
       "      <th>2020_x</th>\n",
       "      <th>2021_x</th>\n",
       "      <th>2022_x</th>\n",
       "      <th>2017_y</th>\n",
       "      <th>2018_y</th>\n",
       "      <th>2019_y</th>\n",
       "      <th>2020_y</th>\n",
       "      <th>2021_y</th>\n",
       "      <th>2022_y</th>\n",
       "      <th>2017년 평균급여(백만원)</th>\n",
       "      <th>2018년 평균급여(백만원)</th>\n",
       "      <th>2019년 평균급여(백만원)</th>\n",
       "      <th>2020년 평균급여(백만원)</th>\n",
       "      <th>2021년 평균급여(백만원)</th>\n",
       "      <th>2022년 평균급여_예측값(백만원)</th>\n",
       "    </tr>\n",
       "  </thead>\n",
       "  <tbody>\n",
       "    <tr>\n",
       "      <th>0</th>\n",
       "      <td>서울특별시</td>\n",
       "      <td>종로구</td>\n",
       "      <td>60257</td>\n",
       "      <td>58800</td>\n",
       "      <td>57498</td>\n",
       "      <td>56258</td>\n",
       "      <td>55087</td>\n",
       "      <td>53537</td>\n",
       "      <td>297</td>\n",
       "      <td>274</td>\n",
       "      <td>259</td>\n",
       "      <td>243</td>\n",
       "      <td>217</td>\n",
       "      <td>248</td>\n",
       "      <td>46.59</td>\n",
       "      <td>47.63</td>\n",
       "      <td>48.70</td>\n",
       "      <td>49.05</td>\n",
       "      <td>52.23</td>\n",
       "      <td>55.40</td>\n",
       "    </tr>\n",
       "    <tr>\n",
       "      <th>1</th>\n",
       "      <td>서울특별시</td>\n",
       "      <td>중구</td>\n",
       "      <td>39008</td>\n",
       "      <td>38546</td>\n",
       "      <td>37968</td>\n",
       "      <td>37344</td>\n",
       "      <td>36209</td>\n",
       "      <td>34946</td>\n",
       "      <td>128</td>\n",
       "      <td>119</td>\n",
       "      <td>118</td>\n",
       "      <td>109</td>\n",
       "      <td>91</td>\n",
       "      <td>108</td>\n",
       "      <td>43.24</td>\n",
       "      <td>44.89</td>\n",
       "      <td>46.20</td>\n",
       "      <td>47.32</td>\n",
       "      <td>49.50</td>\n",
       "      <td>51.57</td>\n",
       "    </tr>\n",
       "  </tbody>\n",
       "</table>\n",
       "</div>"
      ],
      "text/plain": [
       "      지역 행정구역별 2017_x 2018_x 2019_x 2020_x 2021_x 2022_x 2017_y 2018_y 2019_y  \\\n",
       "0  서울특별시   종로구  60257  58800  57498  56258  55087  53537    297    274    259   \n",
       "1  서울특별시    중구  39008  38546  37968  37344  36209  34946    128    119    118   \n",
       "\n",
       "  2020_y 2021_y 2022_y  2017년 평균급여(백만원)  2018년 평균급여(백만원)  2019년 평균급여(백만원)  \\\n",
       "0    243    217    248            46.59            47.63            48.70   \n",
       "1    109     91    108            43.24            44.89            46.20   \n",
       "\n",
       "   2020년 평균급여(백만원)  2021년 평균급여(백만원)  2022년 평균급여_예측값(백만원)  \n",
       "0            49.05            52.23                55.40  \n",
       "1            47.32            49.50                51.57  "
      ]
     },
     "execution_count": 187,
     "metadata": {},
     "output_type": "execute_result"
    }
   ],
   "source": [
    "new_df_3.head(2)"
   ]
  },
  {
   "cell_type": "code",
   "execution_count": 188,
   "id": "a53ed980",
   "metadata": {},
   "outputs": [],
   "source": [
    "# 결측치가 많은 데이터 제거(인천광역시)\n",
    "new_df_3 = new_df_3[new_df_3.isnull().sum(axis=1) < 10]"
   ]
  },
  {
   "cell_type": "markdown",
   "id": "81455fc2",
   "metadata": {},
   "source": [
    "### 데이터들을 보기 편하게 재정열"
   ]
  },
  {
   "cell_type": "code",
   "execution_count": 189,
   "id": "5093a527",
   "metadata": {},
   "outputs": [],
   "source": [
    "new_order = ['지역', '행정구역별', '2017_x','2017_y','2017년 평균급여(백만원)',\n",
    "             '2018_x','2018_y','2018년 평균급여(백만원)','2019_x','2019_y','2019년 평균급여(백만원)',\n",
    "             '2020_x','2020_y','2020년 평균급여(백만원)',\n",
    "             '2021_x','2021_y','2021년 평균급여(백만원)','2022_x','2022_y','2022년 평균급여_예측값(백만원)']"
   ]
  },
  {
   "cell_type": "code",
   "execution_count": 190,
   "id": "0e5aec08",
   "metadata": {},
   "outputs": [],
   "source": [
    "new_df_3= new_df_3[new_order]"
   ]
  },
  {
   "cell_type": "code",
   "execution_count": 191,
   "id": "66fca669",
   "metadata": {},
   "outputs": [
    {
     "data": {
      "text/html": [
       "<div>\n",
       "<style scoped>\n",
       "    .dataframe tbody tr th:only-of-type {\n",
       "        vertical-align: middle;\n",
       "    }\n",
       "\n",
       "    .dataframe tbody tr th {\n",
       "        vertical-align: top;\n",
       "    }\n",
       "\n",
       "    .dataframe thead th {\n",
       "        text-align: right;\n",
       "    }\n",
       "</style>\n",
       "<table border=\"1\" class=\"dataframe\">\n",
       "  <thead>\n",
       "    <tr style=\"text-align: right;\">\n",
       "      <th></th>\n",
       "      <th>지역</th>\n",
       "      <th>행정구역별</th>\n",
       "      <th>2017_x</th>\n",
       "      <th>2017_y</th>\n",
       "      <th>2017년 평균급여(백만원)</th>\n",
       "      <th>2018_x</th>\n",
       "      <th>2018_y</th>\n",
       "      <th>2018년 평균급여(백만원)</th>\n",
       "      <th>2019_x</th>\n",
       "      <th>2019_y</th>\n",
       "      <th>2019년 평균급여(백만원)</th>\n",
       "      <th>2020_x</th>\n",
       "      <th>2020_y</th>\n",
       "      <th>2020년 평균급여(백만원)</th>\n",
       "      <th>2021_x</th>\n",
       "      <th>2021_y</th>\n",
       "      <th>2021년 평균급여(백만원)</th>\n",
       "      <th>2022_x</th>\n",
       "      <th>2022_y</th>\n",
       "      <th>2022년 평균급여_예측값(백만원)</th>\n",
       "    </tr>\n",
       "  </thead>\n",
       "  <tbody>\n",
       "    <tr>\n",
       "      <th>0</th>\n",
       "      <td>서울특별시</td>\n",
       "      <td>종로구</td>\n",
       "      <td>60257</td>\n",
       "      <td>297</td>\n",
       "      <td>46.59</td>\n",
       "      <td>58800</td>\n",
       "      <td>274</td>\n",
       "      <td>47.63</td>\n",
       "      <td>57498</td>\n",
       "      <td>259</td>\n",
       "      <td>48.70</td>\n",
       "      <td>56258</td>\n",
       "      <td>243</td>\n",
       "      <td>49.05</td>\n",
       "      <td>55087</td>\n",
       "      <td>217</td>\n",
       "      <td>52.23</td>\n",
       "      <td>53537</td>\n",
       "      <td>248</td>\n",
       "      <td>55.40</td>\n",
       "    </tr>\n",
       "    <tr>\n",
       "      <th>1</th>\n",
       "      <td>서울특별시</td>\n",
       "      <td>중구</td>\n",
       "      <td>39008</td>\n",
       "      <td>128</td>\n",
       "      <td>43.24</td>\n",
       "      <td>38546</td>\n",
       "      <td>119</td>\n",
       "      <td>44.89</td>\n",
       "      <td>37968</td>\n",
       "      <td>118</td>\n",
       "      <td>46.20</td>\n",
       "      <td>37344</td>\n",
       "      <td>109</td>\n",
       "      <td>47.32</td>\n",
       "      <td>36209</td>\n",
       "      <td>91</td>\n",
       "      <td>49.50</td>\n",
       "      <td>34946</td>\n",
       "      <td>108</td>\n",
       "      <td>51.57</td>\n",
       "    </tr>\n",
       "    <tr>\n",
       "      <th>2</th>\n",
       "      <td>서울특별시</td>\n",
       "      <td>용산구</td>\n",
       "      <td>32769</td>\n",
       "      <td>175</td>\n",
       "      <td>57.26</td>\n",
       "      <td>31589</td>\n",
       "      <td>158</td>\n",
       "      <td>58.85</td>\n",
       "      <td>30400</td>\n",
       "      <td>155</td>\n",
       "      <td>62.70</td>\n",
       "      <td>29290</td>\n",
       "      <td>154</td>\n",
       "      <td>64.92</td>\n",
       "      <td>28532</td>\n",
       "      <td>137</td>\n",
       "      <td>69.80</td>\n",
       "      <td>27552</td>\n",
       "      <td>151</td>\n",
       "      <td>75.40</td>\n",
       "    </tr>\n",
       "  </tbody>\n",
       "</table>\n",
       "</div>"
      ],
      "text/plain": [
       "      지역 행정구역별 2017_x 2017_y  2017년 평균급여(백만원) 2018_x 2018_y  2018년 평균급여(백만원)  \\\n",
       "0  서울특별시   종로구  60257    297            46.59  58800    274            47.63   \n",
       "1  서울특별시    중구  39008    128            43.24  38546    119            44.89   \n",
       "2  서울특별시   용산구  32769    175            57.26  31589    158            58.85   \n",
       "\n",
       "  2019_x 2019_y  2019년 평균급여(백만원) 2020_x 2020_y  2020년 평균급여(백만원) 2021_x 2021_y  \\\n",
       "0  57498    259            48.70  56258    243            49.05  55087    217   \n",
       "1  37968    118            46.20  37344    109            47.32  36209     91   \n",
       "2  30400    155            62.70  29290    154            64.92  28532    137   \n",
       "\n",
       "   2021년 평균급여(백만원) 2022_x 2022_y  2022년 평균급여_예측값(백만원)  \n",
       "0            52.23  53537    248                55.40  \n",
       "1            49.50  34946    108                51.57  \n",
       "2            69.80  27552    151                75.40  "
      ]
     },
     "execution_count": 191,
     "metadata": {},
     "output_type": "execute_result"
    }
   ],
   "source": [
    "new_df_3.head(3)"
   ]
  },
  {
   "cell_type": "code",
   "execution_count": null,
   "id": "1a62941d",
   "metadata": {},
   "outputs": [],
   "source": []
  },
  {
   "cell_type": "code",
   "execution_count": null,
   "id": "c4856ada",
   "metadata": {},
   "outputs": [],
   "source": []
  },
  {
   "cell_type": "markdown",
   "id": "97c057cb",
   "metadata": {},
   "source": [
    "### 2022년 데이터만 따로 빼와 분석"
   ]
  },
  {
   "cell_type": "code",
   "execution_count": 192,
   "id": "55e514e5",
   "metadata": {},
   "outputs": [],
   "source": [
    "df_2022 = new_df_3[['지역','행정구역별','2022_x','2022_y','2022년 평균급여_예측값(백만원)']]"
   ]
  },
  {
   "cell_type": "code",
   "execution_count": 193,
   "id": "832c9732",
   "metadata": {},
   "outputs": [
    {
     "data": {
      "text/html": [
       "<div>\n",
       "<style scoped>\n",
       "    .dataframe tbody tr th:only-of-type {\n",
       "        vertical-align: middle;\n",
       "    }\n",
       "\n",
       "    .dataframe tbody tr th {\n",
       "        vertical-align: top;\n",
       "    }\n",
       "\n",
       "    .dataframe thead th {\n",
       "        text-align: right;\n",
       "    }\n",
       "</style>\n",
       "<table border=\"1\" class=\"dataframe\">\n",
       "  <thead>\n",
       "    <tr style=\"text-align: right;\">\n",
       "      <th></th>\n",
       "      <th>지역</th>\n",
       "      <th>행정구역별</th>\n",
       "      <th>2022_x</th>\n",
       "      <th>2022_y</th>\n",
       "      <th>2022년 평균급여_예측값(백만원)</th>\n",
       "    </tr>\n",
       "  </thead>\n",
       "  <tbody>\n",
       "    <tr>\n",
       "      <th>0</th>\n",
       "      <td>서울특별시</td>\n",
       "      <td>종로구</td>\n",
       "      <td>53537</td>\n",
       "      <td>248</td>\n",
       "      <td>55.40</td>\n",
       "    </tr>\n",
       "    <tr>\n",
       "      <th>1</th>\n",
       "      <td>서울특별시</td>\n",
       "      <td>중구</td>\n",
       "      <td>34946</td>\n",
       "      <td>108</td>\n",
       "      <td>51.57</td>\n",
       "    </tr>\n",
       "    <tr>\n",
       "      <th>2</th>\n",
       "      <td>서울특별시</td>\n",
       "      <td>용산구</td>\n",
       "      <td>27552</td>\n",
       "      <td>151</td>\n",
       "      <td>75.40</td>\n",
       "    </tr>\n",
       "    <tr>\n",
       "      <th>3</th>\n",
       "      <td>서울특별시</td>\n",
       "      <td>성동구</td>\n",
       "      <td>50768</td>\n",
       "      <td>294</td>\n",
       "      <td>58.09</td>\n",
       "    </tr>\n",
       "    <tr>\n",
       "      <th>4</th>\n",
       "      <td>서울특별시</td>\n",
       "      <td>광진구</td>\n",
       "      <td>69065</td>\n",
       "      <td>441</td>\n",
       "      <td>43.27</td>\n",
       "    </tr>\n",
       "    <tr>\n",
       "      <th>...</th>\n",
       "      <td>...</td>\n",
       "      <td>...</td>\n",
       "      <td>...</td>\n",
       "      <td>...</td>\n",
       "      <td>...</td>\n",
       "    </tr>\n",
       "    <tr>\n",
       "      <th>224</th>\n",
       "      <td>경상남도</td>\n",
       "      <td>함양군</td>\n",
       "      <td>3124</td>\n",
       "      <td>40</td>\n",
       "      <td>34.54</td>\n",
       "    </tr>\n",
       "    <tr>\n",
       "      <th>225</th>\n",
       "      <td>경상남도</td>\n",
       "      <td>거창군</td>\n",
       "      <td>9189</td>\n",
       "      <td>86</td>\n",
       "      <td>34.76</td>\n",
       "    </tr>\n",
       "    <tr>\n",
       "      <th>226</th>\n",
       "      <td>경상남도</td>\n",
       "      <td>합천군</td>\n",
       "      <td>2504</td>\n",
       "      <td>30</td>\n",
       "      <td>33.63</td>\n",
       "    </tr>\n",
       "    <tr>\n",
       "      <th>227</th>\n",
       "      <td>제주특별자치도</td>\n",
       "      <td>제주시</td>\n",
       "      <td>91703</td>\n",
       "      <td>930</td>\n",
       "      <td>35.93</td>\n",
       "    </tr>\n",
       "    <tr>\n",
       "      <th>228</th>\n",
       "      <td>제주특별자치도</td>\n",
       "      <td>서귀포시</td>\n",
       "      <td>20053</td>\n",
       "      <td>237</td>\n",
       "      <td>36.34</td>\n",
       "    </tr>\n",
       "  </tbody>\n",
       "</table>\n",
       "<p>229 rows × 5 columns</p>\n",
       "</div>"
      ],
      "text/plain": [
       "          지역 행정구역별 2022_x 2022_y  2022년 평균급여_예측값(백만원)\n",
       "0      서울특별시   종로구  53537    248                55.40\n",
       "1      서울특별시    중구  34946    108                51.57\n",
       "2      서울특별시   용산구  27552    151                75.40\n",
       "3      서울특별시   성동구  50768    294                58.09\n",
       "4      서울특별시   광진구  69065    441                43.27\n",
       "..       ...   ...    ...    ...                  ...\n",
       "224     경상남도   함양군   3124     40                34.54\n",
       "225     경상남도   거창군   9189     86                34.76\n",
       "226     경상남도   합천군   2504     30                33.63\n",
       "227  제주특별자치도   제주시  91703    930                35.93\n",
       "228  제주특별자치도  서귀포시  20053    237                36.34\n",
       "\n",
       "[229 rows x 5 columns]"
      ]
     },
     "execution_count": 193,
     "metadata": {},
     "output_type": "execute_result"
    }
   ],
   "source": [
    "df_2022"
   ]
  },
  {
   "cell_type": "code",
   "execution_count": 194,
   "id": "2c0fad19",
   "metadata": {},
   "outputs": [],
   "source": [
    "df_2022.columns= ['지역','행정구역별','초등학교 학생수','사설학원수(개)','평균 급여(백만원)']"
   ]
  },
  {
   "cell_type": "code",
   "execution_count": 195,
   "id": "209eb8dc",
   "metadata": {},
   "outputs": [
    {
     "name": "stderr",
     "output_type": "stream",
     "text": [
      "C:\\Users\\user\\AppData\\Local\\Temp\\ipykernel_14616\\3942111640.py:3: SettingWithCopyWarning:\n",
      "\n",
      "\n",
      "A value is trying to be set on a copy of a slice from a DataFrame.\n",
      "Try using .loc[row_indexer,col_indexer] = value instead\n",
      "\n",
      "See the caveats in the documentation: https://pandas.pydata.org/pandas-docs/stable/user_guide/indexing.html#returning-a-view-versus-a-copy\n",
      "\n",
      "C:\\Users\\user\\AppData\\Local\\Temp\\ipykernel_14616\\3942111640.py:4: SettingWithCopyWarning:\n",
      "\n",
      "\n",
      "A value is trying to be set on a copy of a slice from a DataFrame.\n",
      "Try using .loc[row_indexer,col_indexer] = value instead\n",
      "\n",
      "See the caveats in the documentation: https://pandas.pydata.org/pandas-docs/stable/user_guide/indexing.html#returning-a-view-versus-a-copy\n",
      "\n",
      "C:\\Users\\user\\AppData\\Local\\Temp\\ipykernel_14616\\3942111640.py:5: SettingWithCopyWarning:\n",
      "\n",
      "\n",
      "A value is trying to be set on a copy of a slice from a DataFrame.\n",
      "Try using .loc[row_indexer,col_indexer] = value instead\n",
      "\n",
      "See the caveats in the documentation: https://pandas.pydata.org/pandas-docs/stable/user_guide/indexing.html#returning-a-view-versus-a-copy\n",
      "\n"
     ]
    }
   ],
   "source": [
    "# 문자형으로 잘못 표현된 데이터에 대해 숫자형으로 변환\n",
    "\n",
    "df_2022['초등학교 학생수'] = pd.to_numeric(df_2022['초등학교 학생수'], errors='coerce')\n",
    "df_2022['사설학원수(개)'] = pd.to_numeric(df_2022['사설학원수(개)'], errors='coerce')\n",
    "df_2022['평균 급여(백만원)'] = pd.to_numeric(df_2022['평균 급여(백만원)'], errors='coerce')\n"
   ]
  },
  {
   "cell_type": "markdown",
   "id": "f05e1eee",
   "metadata": {},
   "source": [
    "## 가중치 설정을 위해 중요도 분석\n"
   ]
  },
  {
   "cell_type": "markdown",
   "id": "136a7997",
   "metadata": {},
   "source": [
    "### 사교육비를 타켓으로 삼기위해 시도별 사교육비 평균보다 높은것을 1 낮은것을 1로 설정"
   ]
  },
  {
   "cell_type": "code",
   "execution_count": 280,
   "id": "a113a395",
   "metadata": {},
   "outputs": [],
   "source": [
    "df_expen = Dataset['학교급_및_시도별__학생_1인당_월평균_사교육비_20230811081450']\n",
    "# 출처\n"
   ]
  },
  {
   "cell_type": "code",
   "execution_count": 197,
   "id": "814347d9",
   "metadata": {},
   "outputs": [],
   "source": [
    "df_expen=df_expen.drop([0,1])\n",
    "df_expen=df_expen.drop(['2022'],axis=1)\n",
    "df_expen['2022.1'] = pd.to_numeric(df_expen['2022.1'], errors='coerce')"
   ]
  },
  {
   "cell_type": "code",
   "execution_count": 198,
   "id": "d9028e17",
   "metadata": {},
   "outputs": [],
   "source": [
    "average = df_expen['2022.1'].mean()\n",
    "df_expen['2022.1'] = df_expen['2022.1'].apply(lambda x: 1 if x > average else 0)"
   ]
  },
  {
   "cell_type": "code",
   "execution_count": 199,
   "id": "4d611ac0",
   "metadata": {},
   "outputs": [],
   "source": [
    "df_expen['시도별'] = df_expen['시도별'].apply(lambda x: x.replace(' ',''))\n",
    "df_expen['시도별'] = df_expen['시도별'].apply(change_region_name)"
   ]
  },
  {
   "cell_type": "code",
   "execution_count": 281,
   "id": "e515b41e",
   "metadata": {},
   "outputs": [
    {
     "data": {
      "text/html": [
       "<div>\n",
       "<style scoped>\n",
       "    .dataframe tbody tr th:only-of-type {\n",
       "        vertical-align: middle;\n",
       "    }\n",
       "\n",
       "    .dataframe tbody tr th {\n",
       "        vertical-align: top;\n",
       "    }\n",
       "\n",
       "    .dataframe thead th {\n",
       "        text-align: right;\n",
       "    }\n",
       "</style>\n",
       "<table border=\"1\" class=\"dataframe\">\n",
       "  <thead>\n",
       "    <tr style=\"text-align: right;\">\n",
       "      <th></th>\n",
       "      <th>시도별</th>\n",
       "      <th>2022</th>\n",
       "      <th>2022.1</th>\n",
       "    </tr>\n",
       "  </thead>\n",
       "  <tbody>\n",
       "    <tr>\n",
       "      <th>0</th>\n",
       "      <td>시도별</td>\n",
       "      <td>평  균 (만원)</td>\n",
       "      <td>초등학교 (만원)</td>\n",
       "    </tr>\n",
       "    <tr>\n",
       "      <th>1</th>\n",
       "      <td>전 체</td>\n",
       "      <td>41.0</td>\n",
       "      <td>37.2</td>\n",
       "    </tr>\n",
       "    <tr>\n",
       "      <th>2</th>\n",
       "      <td>서 울</td>\n",
       "      <td>59.6</td>\n",
       "      <td>53.6</td>\n",
       "    </tr>\n",
       "    <tr>\n",
       "      <th>3</th>\n",
       "      <td>부 산</td>\n",
       "      <td>39.5</td>\n",
       "      <td>35.1</td>\n",
       "    </tr>\n",
       "    <tr>\n",
       "      <th>4</th>\n",
       "      <td>대 구</td>\n",
       "      <td>43.7</td>\n",
       "      <td>40.4</td>\n",
       "    </tr>\n",
       "    <tr>\n",
       "      <th>5</th>\n",
       "      <td>인 천</td>\n",
       "      <td>38.6</td>\n",
       "      <td>35.1</td>\n",
       "    </tr>\n",
       "    <tr>\n",
       "      <th>6</th>\n",
       "      <td>광 주</td>\n",
       "      <td>35.6</td>\n",
       "      <td>31.0</td>\n",
       "    </tr>\n",
       "    <tr>\n",
       "      <th>7</th>\n",
       "      <td>대 전</td>\n",
       "      <td>38.9</td>\n",
       "      <td>37.0</td>\n",
       "    </tr>\n",
       "    <tr>\n",
       "      <th>8</th>\n",
       "      <td>울 산</td>\n",
       "      <td>36.7</td>\n",
       "      <td>35.4</td>\n",
       "    </tr>\n",
       "    <tr>\n",
       "      <th>9</th>\n",
       "      <td>세 종</td>\n",
       "      <td>41.8</td>\n",
       "      <td>37.7</td>\n",
       "    </tr>\n",
       "    <tr>\n",
       "      <th>10</th>\n",
       "      <td>경 기</td>\n",
       "      <td>44.6</td>\n",
       "      <td>40.1</td>\n",
       "    </tr>\n",
       "    <tr>\n",
       "      <th>11</th>\n",
       "      <td>강 원</td>\n",
       "      <td>29.6</td>\n",
       "      <td>28.8</td>\n",
       "    </tr>\n",
       "    <tr>\n",
       "      <th>12</th>\n",
       "      <td>충 북</td>\n",
       "      <td>31.8</td>\n",
       "      <td>30.0</td>\n",
       "    </tr>\n",
       "    <tr>\n",
       "      <th>13</th>\n",
       "      <td>충 남</td>\n",
       "      <td>29.2</td>\n",
       "      <td>25.9</td>\n",
       "    </tr>\n",
       "    <tr>\n",
       "      <th>14</th>\n",
       "      <td>전 북</td>\n",
       "      <td>29.6</td>\n",
       "      <td>26.6</td>\n",
       "    </tr>\n",
       "    <tr>\n",
       "      <th>15</th>\n",
       "      <td>전 남</td>\n",
       "      <td>26.1</td>\n",
       "      <td>25.1</td>\n",
       "    </tr>\n",
       "    <tr>\n",
       "      <th>16</th>\n",
       "      <td>경 북</td>\n",
       "      <td>29.4</td>\n",
       "      <td>28.4</td>\n",
       "    </tr>\n",
       "    <tr>\n",
       "      <th>17</th>\n",
       "      <td>경 남</td>\n",
       "      <td>31.1</td>\n",
       "      <td>28.6</td>\n",
       "    </tr>\n",
       "    <tr>\n",
       "      <th>18</th>\n",
       "      <td>제 주</td>\n",
       "      <td>31.4</td>\n",
       "      <td>28.5</td>\n",
       "    </tr>\n",
       "  </tbody>\n",
       "</table>\n",
       "</div>"
      ],
      "text/plain": [
       "    시도별       2022     2022.1\n",
       "0   시도별  평  균 (만원)  초등학교 (만원)\n",
       "1   전 체       41.0       37.2\n",
       "2   서 울       59.6       53.6\n",
       "3   부 산       39.5       35.1\n",
       "4   대 구       43.7       40.4\n",
       "5   인 천       38.6       35.1\n",
       "6   광 주       35.6       31.0\n",
       "7   대 전       38.9       37.0\n",
       "8   울 산       36.7       35.4\n",
       "9   세 종       41.8       37.7\n",
       "10  경 기       44.6       40.1\n",
       "11  강 원       29.6       28.8\n",
       "12  충 북       31.8       30.0\n",
       "13  충 남       29.2       25.9\n",
       "14  전 북       29.6       26.6\n",
       "15  전 남       26.1       25.1\n",
       "16  경 북       29.4       28.4\n",
       "17  경 남       31.1       28.6\n",
       "18  제 주       31.4       28.5"
      ]
     },
     "execution_count": 281,
     "metadata": {},
     "output_type": "execute_result"
    }
   ],
   "source": [
    "df_expen"
   ]
  },
  {
   "cell_type": "markdown",
   "id": "f6b83947",
   "metadata": {},
   "source": [
    "### 2022 데이터에 타켓데이터를 추가 "
   ]
  },
  {
   "cell_type": "code",
   "execution_count": 201,
   "id": "268b4350",
   "metadata": {},
   "outputs": [],
   "source": [
    "from sklearn.preprocessing import LabelEncoder\n",
    "from sklearn.tree import DecisionTreeClassifier\n",
    "from sklearn.model_selection import train_test_split\n",
    "\n",
    "from sklearn import preprocessing\n",
    "\n",
    "from sklearn.metrics import accuracy_score, precision_score, recall_score, f1_score, roc_auc_score, roc_curve, auc, classification_report\n"
   ]
  },
  {
   "cell_type": "code",
   "execution_count": null,
   "id": "243c8d1a",
   "metadata": {},
   "outputs": [],
   "source": []
  },
  {
   "cell_type": "code",
   "execution_count": 202,
   "id": "4cbb56a4",
   "metadata": {},
   "outputs": [
    {
     "name": "stderr",
     "output_type": "stream",
     "text": [
      "C:\\Users\\user\\AppData\\Local\\Temp\\ipykernel_14616\\3476654974.py:1: SettingWithCopyWarning:\n",
      "\n",
      "\n",
      "A value is trying to be set on a copy of a slice from a DataFrame.\n",
      "Try using .loc[row_indexer,col_indexer] = value instead\n",
      "\n",
      "See the caveats in the documentation: https://pandas.pydata.org/pandas-docs/stable/user_guide/indexing.html#returning-a-view-versus-a-copy\n",
      "\n"
     ]
    }
   ],
   "source": [
    "df_2022['Target'] = df_2022['지역'].map(df_expen.set_index('시도별')['2022.1']).fillna(0)"
   ]
  },
  {
   "cell_type": "code",
   "execution_count": 203,
   "id": "1dee3a57",
   "metadata": {},
   "outputs": [
    {
     "data": {
      "text/html": [
       "<div>\n",
       "<style scoped>\n",
       "    .dataframe tbody tr th:only-of-type {\n",
       "        vertical-align: middle;\n",
       "    }\n",
       "\n",
       "    .dataframe tbody tr th {\n",
       "        vertical-align: top;\n",
       "    }\n",
       "\n",
       "    .dataframe thead th {\n",
       "        text-align: right;\n",
       "    }\n",
       "</style>\n",
       "<table border=\"1\" class=\"dataframe\">\n",
       "  <thead>\n",
       "    <tr style=\"text-align: right;\">\n",
       "      <th></th>\n",
       "      <th>지역</th>\n",
       "      <th>행정구역별</th>\n",
       "      <th>초등학교 학생수</th>\n",
       "      <th>사설학원수(개)</th>\n",
       "      <th>평균 급여(백만원)</th>\n",
       "      <th>Target</th>\n",
       "    </tr>\n",
       "  </thead>\n",
       "  <tbody>\n",
       "    <tr>\n",
       "      <th>0</th>\n",
       "      <td>서울특별시</td>\n",
       "      <td>종로구</td>\n",
       "      <td>53537.00</td>\n",
       "      <td>248.00</td>\n",
       "      <td>55.40</td>\n",
       "      <td>1</td>\n",
       "    </tr>\n",
       "    <tr>\n",
       "      <th>1</th>\n",
       "      <td>서울특별시</td>\n",
       "      <td>중구</td>\n",
       "      <td>34946.00</td>\n",
       "      <td>108.00</td>\n",
       "      <td>51.57</td>\n",
       "      <td>1</td>\n",
       "    </tr>\n",
       "    <tr>\n",
       "      <th>2</th>\n",
       "      <td>서울특별시</td>\n",
       "      <td>용산구</td>\n",
       "      <td>27552.00</td>\n",
       "      <td>151.00</td>\n",
       "      <td>75.40</td>\n",
       "      <td>1</td>\n",
       "    </tr>\n",
       "    <tr>\n",
       "      <th>3</th>\n",
       "      <td>서울특별시</td>\n",
       "      <td>성동구</td>\n",
       "      <td>50768.00</td>\n",
       "      <td>294.00</td>\n",
       "      <td>58.09</td>\n",
       "      <td>1</td>\n",
       "    </tr>\n",
       "    <tr>\n",
       "      <th>4</th>\n",
       "      <td>서울특별시</td>\n",
       "      <td>광진구</td>\n",
       "      <td>69065.00</td>\n",
       "      <td>441.00</td>\n",
       "      <td>43.27</td>\n",
       "      <td>1</td>\n",
       "    </tr>\n",
       "    <tr>\n",
       "      <th>...</th>\n",
       "      <td>...</td>\n",
       "      <td>...</td>\n",
       "      <td>...</td>\n",
       "      <td>...</td>\n",
       "      <td>...</td>\n",
       "      <td>...</td>\n",
       "    </tr>\n",
       "    <tr>\n",
       "      <th>224</th>\n",
       "      <td>경상남도</td>\n",
       "      <td>함양군</td>\n",
       "      <td>3124.00</td>\n",
       "      <td>40.00</td>\n",
       "      <td>34.54</td>\n",
       "      <td>0</td>\n",
       "    </tr>\n",
       "    <tr>\n",
       "      <th>225</th>\n",
       "      <td>경상남도</td>\n",
       "      <td>거창군</td>\n",
       "      <td>9189.00</td>\n",
       "      <td>86.00</td>\n",
       "      <td>34.76</td>\n",
       "      <td>0</td>\n",
       "    </tr>\n",
       "    <tr>\n",
       "      <th>226</th>\n",
       "      <td>경상남도</td>\n",
       "      <td>합천군</td>\n",
       "      <td>2504.00</td>\n",
       "      <td>30.00</td>\n",
       "      <td>33.63</td>\n",
       "      <td>0</td>\n",
       "    </tr>\n",
       "    <tr>\n",
       "      <th>227</th>\n",
       "      <td>제주특별자치도</td>\n",
       "      <td>제주시</td>\n",
       "      <td>91703.00</td>\n",
       "      <td>930.00</td>\n",
       "      <td>35.93</td>\n",
       "      <td>0</td>\n",
       "    </tr>\n",
       "    <tr>\n",
       "      <th>228</th>\n",
       "      <td>제주특별자치도</td>\n",
       "      <td>서귀포시</td>\n",
       "      <td>20053.00</td>\n",
       "      <td>237.00</td>\n",
       "      <td>36.34</td>\n",
       "      <td>0</td>\n",
       "    </tr>\n",
       "  </tbody>\n",
       "</table>\n",
       "<p>229 rows × 6 columns</p>\n",
       "</div>"
      ],
      "text/plain": [
       "          지역 행정구역별  초등학교 학생수  사설학원수(개)  평균 급여(백만원)  Target\n",
       "0      서울특별시   종로구  53537.00    248.00       55.40       1\n",
       "1      서울특별시    중구  34946.00    108.00       51.57       1\n",
       "2      서울특별시   용산구  27552.00    151.00       75.40       1\n",
       "3      서울특별시   성동구  50768.00    294.00       58.09       1\n",
       "4      서울특별시   광진구  69065.00    441.00       43.27       1\n",
       "..       ...   ...       ...       ...         ...     ...\n",
       "224     경상남도   함양군   3124.00     40.00       34.54       0\n",
       "225     경상남도   거창군   9189.00     86.00       34.76       0\n",
       "226     경상남도   합천군   2504.00     30.00       33.63       0\n",
       "227  제주특별자치도   제주시  91703.00    930.00       35.93       0\n",
       "228  제주특별자치도  서귀포시  20053.00    237.00       36.34       0\n",
       "\n",
       "[229 rows x 6 columns]"
      ]
     },
     "execution_count": 203,
     "metadata": {},
     "output_type": "execute_result"
    }
   ],
   "source": [
    "df_2022"
   ]
  },
  {
   "cell_type": "code",
   "execution_count": 284,
   "id": "91a9c70e",
   "metadata": {},
   "outputs": [
    {
     "data": {
      "text/html": [
       "<div>\n",
       "<style scoped>\n",
       "    .dataframe tbody tr th:only-of-type {\n",
       "        vertical-align: middle;\n",
       "    }\n",
       "\n",
       "    .dataframe tbody tr th {\n",
       "        vertical-align: top;\n",
       "    }\n",
       "\n",
       "    .dataframe thead th {\n",
       "        text-align: right;\n",
       "    }\n",
       "</style>\n",
       "<table border=\"1\" class=\"dataframe\">\n",
       "  <thead>\n",
       "    <tr style=\"text-align: right;\">\n",
       "      <th></th>\n",
       "      <th>지역</th>\n",
       "      <th>행정구역별</th>\n",
       "      <th>초등학교 학생수</th>\n",
       "      <th>사설학원수(개)</th>\n",
       "      <th>평균 급여(백만원)</th>\n",
       "      <th>Target</th>\n",
       "      <th>초등학교 학생수_scaled</th>\n",
       "      <th>사설학원수(개)_scaled</th>\n",
       "      <th>평균 급여(백만원)_scaled</th>\n",
       "      <th>가중합</th>\n",
       "      <th>순위</th>\n",
       "      <th>지역별 순위</th>\n",
       "      <th>지역별 학생수 순위</th>\n",
       "    </tr>\n",
       "  </thead>\n",
       "  <tbody>\n",
       "    <tr>\n",
       "      <th>70</th>\n",
       "      <td>울산광역시</td>\n",
       "      <td>중구</td>\n",
       "      <td>23734.00</td>\n",
       "      <td>443.00</td>\n",
       "      <td>45.59</td>\n",
       "      <td>1</td>\n",
       "      <td>0.19</td>\n",
       "      <td>0.14</td>\n",
       "      <td>0.64</td>\n",
       "      <td>0.97</td>\n",
       "      <td>89.00</td>\n",
       "      <td>4.00</td>\n",
       "      <td>5.00</td>\n",
       "    </tr>\n",
       "    <tr>\n",
       "      <th>71</th>\n",
       "      <td>울산광역시</td>\n",
       "      <td>남구</td>\n",
       "      <td>54029.00</td>\n",
       "      <td>1012.00</td>\n",
       "      <td>48.74</td>\n",
       "      <td>1</td>\n",
       "      <td>0.43</td>\n",
       "      <td>0.32</td>\n",
       "      <td>0.68</td>\n",
       "      <td>1.44</td>\n",
       "      <td>41.00</td>\n",
       "      <td>1.00</td>\n",
       "      <td>1.00</td>\n",
       "    </tr>\n",
       "    <tr>\n",
       "      <th>72</th>\n",
       "      <td>울산광역시</td>\n",
       "      <td>동구</td>\n",
       "      <td>29415.00</td>\n",
       "      <td>274.00</td>\n",
       "      <td>41.82</td>\n",
       "      <td>1</td>\n",
       "      <td>0.24</td>\n",
       "      <td>0.09</td>\n",
       "      <td>0.59</td>\n",
       "      <td>0.91</td>\n",
       "      <td>96.00</td>\n",
       "      <td>5.00</td>\n",
       "      <td>4.00</td>\n",
       "    </tr>\n",
       "    <tr>\n",
       "      <th>73</th>\n",
       "      <td>울산광역시</td>\n",
       "      <td>북구</td>\n",
       "      <td>34119.00</td>\n",
       "      <td>454.00</td>\n",
       "      <td>47.91</td>\n",
       "      <td>1</td>\n",
       "      <td>0.27</td>\n",
       "      <td>0.15</td>\n",
       "      <td>0.67</td>\n",
       "      <td>1.09</td>\n",
       "      <td>68.00</td>\n",
       "      <td>2.00</td>\n",
       "      <td>2.00</td>\n",
       "    </tr>\n",
       "    <tr>\n",
       "      <th>74</th>\n",
       "      <td>울산광역시</td>\n",
       "      <td>울주군</td>\n",
       "      <td>32584.00</td>\n",
       "      <td>401.00</td>\n",
       "      <td>43.03</td>\n",
       "      <td>1</td>\n",
       "      <td>0.26</td>\n",
       "      <td>0.13</td>\n",
       "      <td>0.60</td>\n",
       "      <td>0.99</td>\n",
       "      <td>85.00</td>\n",
       "      <td>3.00</td>\n",
       "      <td>3.00</td>\n",
       "    </tr>\n",
       "  </tbody>\n",
       "</table>\n",
       "</div>"
      ],
      "text/plain": [
       "       지역 행정구역별  초등학교 학생수  사설학원수(개)  평균 급여(백만원)  Target  초등학교 학생수_scaled  \\\n",
       "70  울산광역시    중구  23734.00    443.00       45.59       1             0.19   \n",
       "71  울산광역시    남구  54029.00   1012.00       48.74       1             0.43   \n",
       "72  울산광역시    동구  29415.00    274.00       41.82       1             0.24   \n",
       "73  울산광역시    북구  34119.00    454.00       47.91       1             0.27   \n",
       "74  울산광역시   울주군  32584.00    401.00       43.03       1             0.26   \n",
       "\n",
       "    사설학원수(개)_scaled  평균 급여(백만원)_scaled  가중합    순위  지역별 순위  지역별 학생수 순위  \n",
       "70             0.14               0.64 0.97 89.00    4.00        5.00  \n",
       "71             0.32               0.68 1.44 41.00    1.00        1.00  \n",
       "72             0.09               0.59 0.91 96.00    5.00        4.00  \n",
       "73             0.15               0.67 1.09 68.00    2.00        2.00  \n",
       "74             0.13               0.60 0.99 85.00    3.00        3.00  "
      ]
     },
     "execution_count": 284,
     "metadata": {},
     "output_type": "execute_result"
    }
   ],
   "source": [
    "df_2022[df_2022['지역']=='울산광역시']"
   ]
  },
  {
   "cell_type": "code",
   "execution_count": 204,
   "id": "5e8c8c04",
   "metadata": {},
   "outputs": [
    {
     "data": {
      "text/html": [
       "<div>\n",
       "<style scoped>\n",
       "    .dataframe tbody tr th:only-of-type {\n",
       "        vertical-align: middle;\n",
       "    }\n",
       "\n",
       "    .dataframe tbody tr th {\n",
       "        vertical-align: top;\n",
       "    }\n",
       "\n",
       "    .dataframe thead th {\n",
       "        text-align: right;\n",
       "    }\n",
       "</style>\n",
       "<table border=\"1\" class=\"dataframe\">\n",
       "  <thead>\n",
       "    <tr style=\"text-align: right;\">\n",
       "      <th></th>\n",
       "      <th>index</th>\n",
       "      <th>null_count</th>\n",
       "      <th>null_ratio</th>\n",
       "    </tr>\n",
       "  </thead>\n",
       "  <tbody>\n",
       "    <tr>\n",
       "      <th>0</th>\n",
       "      <td>지역</td>\n",
       "      <td>0</td>\n",
       "      <td>0.00</td>\n",
       "    </tr>\n",
       "    <tr>\n",
       "      <th>1</th>\n",
       "      <td>행정구역별</td>\n",
       "      <td>0</td>\n",
       "      <td>0.00</td>\n",
       "    </tr>\n",
       "    <tr>\n",
       "      <th>2</th>\n",
       "      <td>초등학교 학생수</td>\n",
       "      <td>1</td>\n",
       "      <td>0.44</td>\n",
       "    </tr>\n",
       "    <tr>\n",
       "      <th>3</th>\n",
       "      <td>사설학원수(개)</td>\n",
       "      <td>1</td>\n",
       "      <td>0.44</td>\n",
       "    </tr>\n",
       "    <tr>\n",
       "      <th>4</th>\n",
       "      <td>평균 급여(백만원)</td>\n",
       "      <td>2</td>\n",
       "      <td>0.87</td>\n",
       "    </tr>\n",
       "    <tr>\n",
       "      <th>5</th>\n",
       "      <td>Target</td>\n",
       "      <td>0</td>\n",
       "      <td>0.00</td>\n",
       "    </tr>\n",
       "  </tbody>\n",
       "</table>\n",
       "</div>"
      ],
      "text/plain": [
       "        index  null_count  null_ratio\n",
       "0          지역           0        0.00\n",
       "1       행정구역별           0        0.00\n",
       "2    초등학교 학생수           1        0.44\n",
       "3    사설학원수(개)           1        0.44\n",
       "4  평균 급여(백만원)           2        0.87\n",
       "5      Target           0        0.00"
      ]
     },
     "execution_count": 204,
     "metadata": {},
     "output_type": "execute_result"
    }
   ],
   "source": [
    "null_cnt_df = pd.DataFrame(df_2022.isnull().sum()).rename(columns = {0:'null_count'}).reset_index()\n",
    "null_cnt_df['null_ratio'] = round(null_cnt_df['null_count']/len(df_2022) * 100, 2)\n",
    "null_cnt_df"
   ]
  },
  {
   "cell_type": "code",
   "execution_count": 205,
   "id": "025e7ba5",
   "metadata": {},
   "outputs": [],
   "source": [
    "df_2022=df_2022.fillna(0)"
   ]
  },
  {
   "cell_type": "code",
   "execution_count": 206,
   "id": "d5566eaf",
   "metadata": {},
   "outputs": [
    {
     "data": {
      "text/html": [
       "<div>\n",
       "<style scoped>\n",
       "    .dataframe tbody tr th:only-of-type {\n",
       "        vertical-align: middle;\n",
       "    }\n",
       "\n",
       "    .dataframe tbody tr th {\n",
       "        vertical-align: top;\n",
       "    }\n",
       "\n",
       "    .dataframe thead th {\n",
       "        text-align: right;\n",
       "    }\n",
       "</style>\n",
       "<table border=\"1\" class=\"dataframe\">\n",
       "  <thead>\n",
       "    <tr style=\"text-align: right;\">\n",
       "      <th></th>\n",
       "      <th>index</th>\n",
       "      <th>null_count</th>\n",
       "      <th>null_ratio</th>\n",
       "    </tr>\n",
       "  </thead>\n",
       "  <tbody>\n",
       "    <tr>\n",
       "      <th>0</th>\n",
       "      <td>지역</td>\n",
       "      <td>0</td>\n",
       "      <td>0.00</td>\n",
       "    </tr>\n",
       "    <tr>\n",
       "      <th>1</th>\n",
       "      <td>행정구역별</td>\n",
       "      <td>0</td>\n",
       "      <td>0.00</td>\n",
       "    </tr>\n",
       "    <tr>\n",
       "      <th>2</th>\n",
       "      <td>초등학교 학생수</td>\n",
       "      <td>0</td>\n",
       "      <td>0.00</td>\n",
       "    </tr>\n",
       "    <tr>\n",
       "      <th>3</th>\n",
       "      <td>사설학원수(개)</td>\n",
       "      <td>0</td>\n",
       "      <td>0.00</td>\n",
       "    </tr>\n",
       "    <tr>\n",
       "      <th>4</th>\n",
       "      <td>평균 급여(백만원)</td>\n",
       "      <td>0</td>\n",
       "      <td>0.00</td>\n",
       "    </tr>\n",
       "    <tr>\n",
       "      <th>5</th>\n",
       "      <td>Target</td>\n",
       "      <td>0</td>\n",
       "      <td>0.00</td>\n",
       "    </tr>\n",
       "  </tbody>\n",
       "</table>\n",
       "</div>"
      ],
      "text/plain": [
       "        index  null_count  null_ratio\n",
       "0          지역           0        0.00\n",
       "1       행정구역별           0        0.00\n",
       "2    초등학교 학생수           0        0.00\n",
       "3    사설학원수(개)           0        0.00\n",
       "4  평균 급여(백만원)           0        0.00\n",
       "5      Target           0        0.00"
      ]
     },
     "execution_count": 206,
     "metadata": {},
     "output_type": "execute_result"
    }
   ],
   "source": [
    "null_cnt_df = pd.DataFrame(df_2022.isnull().sum()).rename(columns = {0:'null_count'}).reset_index()\n",
    "null_cnt_df['null_ratio'] = round(null_cnt_df['null_count']/len(df_2022) * 100, 2)\n",
    "null_cnt_df"
   ]
  },
  {
   "cell_type": "code",
   "execution_count": null,
   "id": "0b478f7e",
   "metadata": {},
   "outputs": [],
   "source": []
  },
  {
   "cell_type": "markdown",
   "id": "b45c6dc3",
   "metadata": {},
   "source": [
    "### 모델학습을 통해 중요도 확인"
   ]
  },
  {
   "cell_type": "code",
   "execution_count": 207,
   "id": "853d6293",
   "metadata": {},
   "outputs": [],
   "source": [
    "X = df_2022.drop(['지역','행정구역별','Target'], axis = 1) # input 데이터\n",
    "y = df_2022['Target'] # Target 데이터"
   ]
  },
  {
   "cell_type": "code",
   "execution_count": null,
   "id": "e47d8937",
   "metadata": {},
   "outputs": [],
   "source": []
  },
  {
   "cell_type": "code",
   "execution_count": 208,
   "id": "4daf9bf5",
   "metadata": {},
   "outputs": [],
   "source": [
    "X_train, X_test, y_train, y_test = train_test_split(X, y, test_size = 0.2, random_state= 777)"
   ]
  },
  {
   "cell_type": "code",
   "execution_count": 209,
   "id": "bd42137d",
   "metadata": {},
   "outputs": [],
   "source": [
    "scaler = preprocessing.MinMaxScaler()\n",
    "X = scaler.fit_transform(X_train)\n",
    "y = scaler.transform(X_test)"
   ]
  },
  {
   "cell_type": "code",
   "execution_count": 210,
   "id": "dbe17dd4",
   "metadata": {},
   "outputs": [],
   "source": [
    "# 모델 불러오기, 정의\n",
    "DT = DecisionTreeClassifier()\n",
    "# 학습 데이터로 모델(Decision Tree) 학습\n",
    "DT.fit(X_train, y_train) \n",
    "\n",
    "\n",
    "# 학습된 모델로 test 결과값 출력\n",
    "y_pred = DT.predict(X_test) # X_test를 입력했을때 y예측값을 반환함"
   ]
  },
  {
   "cell_type": "code",
   "execution_count": 211,
   "id": "5d95804f",
   "metadata": {},
   "outputs": [
    {
     "name": "stdout",
     "output_type": "stream",
     "text": [
      "accuracy :  0.674 \n",
      " precision :  0.66 \n",
      " recall :  0.663\n"
     ]
    }
   ],
   "source": [
    "# 정확도\n",
    "accuracy = round(accuracy_score(y_test, y_pred), 3)\n",
    "# 정밀도\n",
    "precision = round(precision_score(y_test, y_pred, average = 'macro'), 3)\n",
    "# 재현율\n",
    "recall = round(recall_score(y_test, y_pred, average = 'macro'), 3)\n",
    "\n",
    "print('accuracy : ', accuracy, '\\n',\n",
    "      'precision : ', precision, '\\n',\n",
    "      'recall : ', recall)"
   ]
  },
  {
   "cell_type": "code",
   "execution_count": null,
   "id": "b8b87054",
   "metadata": {},
   "outputs": [],
   "source": []
  },
  {
   "cell_type": "code",
   "execution_count": null,
   "id": "29901547",
   "metadata": {},
   "outputs": [],
   "source": []
  },
  {
   "cell_type": "code",
   "execution_count": 212,
   "id": "41a03996",
   "metadata": {},
   "outputs": [
    {
     "data": {
      "image/png": "[encoded data removed]",
      "text/plain": [
       "<Figure size 1000x600 with 1 Axes>"
      ]
     },
     "metadata": {},
     "output_type": "display_data"
    }
   ],
   "source": [
    "import koreanize_matplotlib\n",
    "from sklearn.tree import DecisionTreeClassifier\n",
    "import numpy as np\n",
    "import matplotlib.pyplot as plt\n",
    "feature_importances = DT.feature_importances_\n",
    "\n",
    "# 특성 이름 리스트 (만약 특성의 이름이 있다면)\n",
    "feature_names = ['초등학교 학생수','사설학원수(개)','평균 급여(백만원)']  \n",
    "\n",
    "# 특성 중요도 시각화\n",
    "plt.figure(figsize=(10, 6))\n",
    "plt.barh(range(len(feature_importances)), feature_importances, align='center')\n",
    "plt.yticks(np.arange(len(feature_importances)), feature_names)\n",
    "\n",
    "plt.xlabel('Feature Importance')\n",
    "plt.ylabel('Feature')\n",
    "plt.show()"
   ]
  },
  {
   "cell_type": "code",
   "execution_count": null,
   "id": "cab2fd2c",
   "metadata": {},
   "outputs": [],
   "source": []
  },
  {
   "cell_type": "code",
   "execution_count": null,
   "id": "6ac68cb4",
   "metadata": {},
   "outputs": [],
   "source": []
  },
  {
   "cell_type": "markdown",
   "id": "380cbea6",
   "metadata": {},
   "source": [
    "### 데이터들을 스케일링한 후 위에서 확인한 중요도에 맞춰 가중치를 주어 값을 계산한다."
   ]
  },
  {
   "cell_type": "code",
   "execution_count": 213,
   "id": "311e5774",
   "metadata": {},
   "outputs": [],
   "source": [
    "from sklearn.preprocessing import MinMaxScaler\n",
    "\n",
    "columns_to_scale = ['초등학교 학생수', '사설학원수(개)', '평균 급여(백만원)']\n",
    "weights = [1.5, 0.8, 1.2]\n",
    "scaler = MinMaxScaler()\n",
    "for i, col in enumerate(columns_to_scale):\n",
    "    new_col_name = col + '_scaled'\n",
    "    df_2022[new_col_name] = scaler.fit_transform(df_2022[[col]]) * weights[i]\n",
    "    \n",
    "df_2022['가중합'] = df_2022[[col + '_scaled' for col in columns_to_scale]].sum(axis=1)"
   ]
  },
  {
   "cell_type": "code",
   "execution_count": 214,
   "id": "f86446f0",
   "metadata": {},
   "outputs": [],
   "source": [
    "# 가중합을 기준으로 하여 순위를 매긴다\n",
    "df_2022['순위'] = df_2022['가중합'].rank(ascending=False, method='min')\n",
    "# 지역별 가중합을 기준으로 순위\n",
    "df_2022['지역별 순위'] = df_2022.groupby('지역')['가중합'].rank(ascending=False)\n",
    "# 지역별 학생수를 기준으로 순위\n",
    "df_2022['지역별 학생수 순위'] = df_2022.groupby('지역')['초등학교 학생수'].rank(ascending=False)"
   ]
  },
  {
   "cell_type": "code",
   "execution_count": 215,
   "id": "ab805bf8",
   "metadata": {},
   "outputs": [
    {
     "data": {
      "text/html": [
       "<div>\n",
       "<style scoped>\n",
       "    .dataframe tbody tr th:only-of-type {\n",
       "        vertical-align: middle;\n",
       "    }\n",
       "\n",
       "    .dataframe tbody tr th {\n",
       "        vertical-align: top;\n",
       "    }\n",
       "\n",
       "    .dataframe thead th {\n",
       "        text-align: right;\n",
       "    }\n",
       "</style>\n",
       "<table border=\"1\" class=\"dataframe\">\n",
       "  <thead>\n",
       "    <tr style=\"text-align: right;\">\n",
       "      <th></th>\n",
       "      <th>지역</th>\n",
       "      <th>행정구역별</th>\n",
       "      <th>초등학교 학생수</th>\n",
       "      <th>사설학원수(개)</th>\n",
       "      <th>평균 급여(백만원)</th>\n",
       "      <th>Target</th>\n",
       "      <th>초등학교 학생수_scaled</th>\n",
       "      <th>사설학원수(개)_scaled</th>\n",
       "      <th>평균 급여(백만원)_scaled</th>\n",
       "      <th>가중합</th>\n",
       "      <th>순위</th>\n",
       "      <th>지역별 순위</th>\n",
       "      <th>지역별 학생수 순위</th>\n",
       "    </tr>\n",
       "  </thead>\n",
       "  <tbody>\n",
       "    <tr>\n",
       "      <th>0</th>\n",
       "      <td>서울특별시</td>\n",
       "      <td>종로구</td>\n",
       "      <td>53537.00</td>\n",
       "      <td>248.00</td>\n",
       "      <td>55.40</td>\n",
       "      <td>1</td>\n",
       "      <td>0.43</td>\n",
       "      <td>0.08</td>\n",
       "      <td>0.78</td>\n",
       "      <td>1.28</td>\n",
       "      <td>51.00</td>\n",
       "      <td>14.00</td>\n",
       "      <td>12.00</td>\n",
       "    </tr>\n",
       "    <tr>\n",
       "      <th>1</th>\n",
       "      <td>서울특별시</td>\n",
       "      <td>중구</td>\n",
       "      <td>34946.00</td>\n",
       "      <td>108.00</td>\n",
       "      <td>51.57</td>\n",
       "      <td>1</td>\n",
       "      <td>0.28</td>\n",
       "      <td>0.03</td>\n",
       "      <td>0.72</td>\n",
       "      <td>1.04</td>\n",
       "      <td>77.00</td>\n",
       "      <td>21.00</td>\n",
       "      <td>20.00</td>\n",
       "    </tr>\n",
       "    <tr>\n",
       "      <th>2</th>\n",
       "      <td>서울특별시</td>\n",
       "      <td>용산구</td>\n",
       "      <td>27552.00</td>\n",
       "      <td>151.00</td>\n",
       "      <td>75.40</td>\n",
       "      <td>1</td>\n",
       "      <td>0.22</td>\n",
       "      <td>0.05</td>\n",
       "      <td>1.06</td>\n",
       "      <td>1.32</td>\n",
       "      <td>45.00</td>\n",
       "      <td>11.00</td>\n",
       "      <td>23.00</td>\n",
       "    </tr>\n",
       "    <tr>\n",
       "      <th>3</th>\n",
       "      <td>서울특별시</td>\n",
       "      <td>성동구</td>\n",
       "      <td>50768.00</td>\n",
       "      <td>294.00</td>\n",
       "      <td>58.09</td>\n",
       "      <td>1</td>\n",
       "      <td>0.41</td>\n",
       "      <td>0.09</td>\n",
       "      <td>0.81</td>\n",
       "      <td>1.31</td>\n",
       "      <td>46.00</td>\n",
       "      <td>12.00</td>\n",
       "      <td>14.00</td>\n",
       "    </tr>\n",
       "    <tr>\n",
       "      <th>4</th>\n",
       "      <td>서울특별시</td>\n",
       "      <td>광진구</td>\n",
       "      <td>69065.00</td>\n",
       "      <td>441.00</td>\n",
       "      <td>43.27</td>\n",
       "      <td>1</td>\n",
       "      <td>0.55</td>\n",
       "      <td>0.14</td>\n",
       "      <td>0.61</td>\n",
       "      <td>1.30</td>\n",
       "      <td>49.00</td>\n",
       "      <td>13.00</td>\n",
       "      <td>7.00</td>\n",
       "    </tr>\n",
       "    <tr>\n",
       "      <th>...</th>\n",
       "      <td>...</td>\n",
       "      <td>...</td>\n",
       "      <td>...</td>\n",
       "      <td>...</td>\n",
       "      <td>...</td>\n",
       "      <td>...</td>\n",
       "      <td>...</td>\n",
       "      <td>...</td>\n",
       "      <td>...</td>\n",
       "      <td>...</td>\n",
       "      <td>...</td>\n",
       "      <td>...</td>\n",
       "      <td>...</td>\n",
       "    </tr>\n",
       "    <tr>\n",
       "      <th>224</th>\n",
       "      <td>경상남도</td>\n",
       "      <td>함양군</td>\n",
       "      <td>3124.00</td>\n",
       "      <td>40.00</td>\n",
       "      <td>34.54</td>\n",
       "      <td>0</td>\n",
       "      <td>0.02</td>\n",
       "      <td>0.01</td>\n",
       "      <td>0.48</td>\n",
       "      <td>0.52</td>\n",
       "      <td>195.00</td>\n",
       "      <td>12.00</td>\n",
       "      <td>14.00</td>\n",
       "    </tr>\n",
       "    <tr>\n",
       "      <th>225</th>\n",
       "      <td>경상남도</td>\n",
       "      <td>거창군</td>\n",
       "      <td>9189.00</td>\n",
       "      <td>86.00</td>\n",
       "      <td>34.76</td>\n",
       "      <td>0</td>\n",
       "      <td>0.07</td>\n",
       "      <td>0.03</td>\n",
       "      <td>0.49</td>\n",
       "      <td>0.59</td>\n",
       "      <td>150.00</td>\n",
       "      <td>9.00</td>\n",
       "      <td>9.00</td>\n",
       "    </tr>\n",
       "    <tr>\n",
       "      <th>226</th>\n",
       "      <td>경상남도</td>\n",
       "      <td>합천군</td>\n",
       "      <td>2504.00</td>\n",
       "      <td>30.00</td>\n",
       "      <td>33.63</td>\n",
       "      <td>0</td>\n",
       "      <td>0.02</td>\n",
       "      <td>0.01</td>\n",
       "      <td>0.47</td>\n",
       "      <td>0.50</td>\n",
       "      <td>216.00</td>\n",
       "      <td>17.00</td>\n",
       "      <td>16.00</td>\n",
       "    </tr>\n",
       "    <tr>\n",
       "      <th>227</th>\n",
       "      <td>제주특별자치도</td>\n",
       "      <td>제주시</td>\n",
       "      <td>91703.00</td>\n",
       "      <td>930.00</td>\n",
       "      <td>35.93</td>\n",
       "      <td>0</td>\n",
       "      <td>0.73</td>\n",
       "      <td>0.30</td>\n",
       "      <td>0.50</td>\n",
       "      <td>1.53</td>\n",
       "      <td>27.00</td>\n",
       "      <td>1.00</td>\n",
       "      <td>1.00</td>\n",
       "    </tr>\n",
       "    <tr>\n",
       "      <th>228</th>\n",
       "      <td>제주특별자치도</td>\n",
       "      <td>서귀포시</td>\n",
       "      <td>20053.00</td>\n",
       "      <td>237.00</td>\n",
       "      <td>36.34</td>\n",
       "      <td>0</td>\n",
       "      <td>0.16</td>\n",
       "      <td>0.08</td>\n",
       "      <td>0.51</td>\n",
       "      <td>0.74</td>\n",
       "      <td>120.00</td>\n",
       "      <td>2.00</td>\n",
       "      <td>2.00</td>\n",
       "    </tr>\n",
       "  </tbody>\n",
       "</table>\n",
       "<p>229 rows × 13 columns</p>\n",
       "</div>"
      ],
      "text/plain": [
       "          지역 행정구역별  초등학교 학생수  사설학원수(개)  평균 급여(백만원)  Target  초등학교 학생수_scaled  \\\n",
       "0      서울특별시   종로구  53537.00    248.00       55.40       1             0.43   \n",
       "1      서울특별시    중구  34946.00    108.00       51.57       1             0.28   \n",
       "2      서울특별시   용산구  27552.00    151.00       75.40       1             0.22   \n",
       "3      서울특별시   성동구  50768.00    294.00       58.09       1             0.41   \n",
       "4      서울특별시   광진구  69065.00    441.00       43.27       1             0.55   \n",
       "..       ...   ...       ...       ...         ...     ...              ...   \n",
       "224     경상남도   함양군   3124.00     40.00       34.54       0             0.02   \n",
       "225     경상남도   거창군   9189.00     86.00       34.76       0             0.07   \n",
       "226     경상남도   합천군   2504.00     30.00       33.63       0             0.02   \n",
       "227  제주특별자치도   제주시  91703.00    930.00       35.93       0             0.73   \n",
       "228  제주특별자치도  서귀포시  20053.00    237.00       36.34       0             0.16   \n",
       "\n",
       "     사설학원수(개)_scaled  평균 급여(백만원)_scaled  가중합     순위  지역별 순위  지역별 학생수 순위  \n",
       "0               0.08               0.78 1.28  51.00   14.00       12.00  \n",
       "1               0.03               0.72 1.04  77.00   21.00       20.00  \n",
       "2               0.05               1.06 1.32  45.00   11.00       23.00  \n",
       "3               0.09               0.81 1.31  46.00   12.00       14.00  \n",
       "4               0.14               0.61 1.30  49.00   13.00        7.00  \n",
       "..               ...                ...  ...    ...     ...         ...  \n",
       "224             0.01               0.48 0.52 195.00   12.00       14.00  \n",
       "225             0.03               0.49 0.59 150.00    9.00        9.00  \n",
       "226             0.01               0.47 0.50 216.00   17.00       16.00  \n",
       "227             0.30               0.50 1.53  27.00    1.00        1.00  \n",
       "228             0.08               0.51 0.74 120.00    2.00        2.00  \n",
       "\n",
       "[229 rows x 13 columns]"
      ]
     },
     "execution_count": 215,
     "metadata": {},
     "output_type": "execute_result"
    }
   ],
   "source": [
    "df_2022"
   ]
  },
  {
   "cell_type": "code",
   "execution_count": null,
   "id": "d96d00f5",
   "metadata": {},
   "outputs": [],
   "source": []
  },
  {
   "cell_type": "code",
   "execution_count": 235,
   "id": "a1b59d8d",
   "metadata": {},
   "outputs": [],
   "source": [
    "dff=df_2022[df_2022['순위']<100].groupby('지역').size()\n",
    "dff= pd.DataFrame(dff)\n",
    "dff = dff.reset_index(drop=False)"
   ]
  },
  {
   "cell_type": "code",
   "execution_count": 247,
   "id": "f5a55185",
   "metadata": {},
   "outputs": [
    {
     "data": {
      "application/vnd.plotly.v1+json": {
       "config": {
        "plotlyServerURL": "https://plot.ly"
       },
       "data": [
        {
         "domain": {
          "x": [
           0,
           1
          ],
          "y": [
           0,
           1
          ]
         },
         "hovertemplate": "지역=%{label}<br>0=%{value}<extra></extra>",
         "labels": [
          "강원특별자치도",
          "경기도",
          "경상남도",
          "경상북도",
          "광주광역시",
          "대구광역시",
          "대전광역시",
          "부산광역시",
          "서울특별시",
          "울산광역시",
          "인천광역시",
          "전라남도",
          "전라북도",
          "제주특별자치도",
          "충청남도",
          "충청북도"
         ],
         "legendgroup": "",
         "name": "",
         "showlegend": true,
         "textinfo": "percent+label",
         "type": "pie",
         "values": [
          3,
          23,
          5,
          4,
          5,
          5,
          3,
          8,
          21,
          5,
          4,
          4,
          3,
          1,
          3,
          2
         ]
        }
       ],
       "layout": {
        "legend": {
         "tracegroupgap": 0
        },
        "margin": {
         "t": 60
        },
        "template": {
         "data": {
          "bar": [
           {
            "error_x": {
             "color": "#2a3f5f"
            },
            "error_y": {
             "color": "#2a3f5f"
            },
            "marker": {
             "line": {
              "color": "#E5ECF6",
              "width": 0.5
             },
             "pattern": {
              "fillmode": "overlay",
              "size": 10,
              "solidity": 0.2
             }
            },
            "type": "bar"
           }
          ],
          "barpolar": [
           {
            "marker": {
             "line": {
              "color": "#E5ECF6",
              "width": 0.5
             },
             "pattern": {
              "fillmode": "overlay",
              "size": 10,
              "solidity": 0.2
             }
            },
            "type": "barpolar"
           }
          ],
          "carpet": [
           {
            "aaxis": {
             "endlinecolor": "#2a3f5f",
             "gridcolor": "white",
             "linecolor": "white",
             "minorgridcolor": "white",
             "startlinecolor": "#2a3f5f"
            },
            "baxis": {
             "endlinecolor": "#2a3f5f",
             "gridcolor": "white",
             "linecolor": "white",
             "minorgridcolor": "white",
             "startlinecolor": "#2a3f5f"
            },
            "type": "carpet"
           }
          ],
          "choropleth": [
           {
            "colorbar": {
             "outlinewidth": 0,
             "ticks": ""
            },
            "type": "choropleth"
           }
          ],
          "contour": [
           {
            "colorbar": {
             "outlinewidth": 0,
             "ticks": ""
            },
            "colorscale": [
             [
              0,
              "#0d0887"
             ],
             [
              0.1111111111111111,
              "#46039f"
             ],
             [
              0.2222222222222222,
              "#7201a8"
             ],
             [
              0.3333333333333333,
              "#9c179e"
             ],
             [
              0.4444444444444444,
              "#bd3786"
             ],
             [
              0.5555555555555556,
              "#d8576b"
             ],
             [
              0.6666666666666666,
              "#ed7953"
             ],
             [
              0.7777777777777778,
              "#fb9f3a"
             ],
             [
              0.8888888888888888,
              "#fdca26"
             ],
             [
              1,
              "#f0f921"
             ]
            ],
            "type": "contour"
           }
          ],
          "contourcarpet": [
           {
            "colorbar": {
             "outlinewidth": 0,
             "ticks": ""
            },
            "type": "contourcarpet"
           }
          ],
          "heatmap": [
           {
            "colorbar": {
             "outlinewidth": 0,
             "ticks": ""
            },
            "colorscale": [
             [
              0,
              "#0d0887"
             ],
             [
              0.1111111111111111,
              "#46039f"
             ],
             [
              0.2222222222222222,
              "#7201a8"
             ],
             [
              0.3333333333333333,
              "#9c179e"
             ],
             [
              0.4444444444444444,
              "#bd3786"
             ],
             [
              0.5555555555555556,
              "#d8576b"
             ],
             [
              0.6666666666666666,
              "#ed7953"
             ],
             [
              0.7777777777777778,
              "#fb9f3a"
             ],
             [
              0.8888888888888888,
              "#fdca26"
             ],
             [
              1,
              "#f0f921"
             ]
            ],
            "type": "heatmap"
           }
          ],
          "heatmapgl": [
           {
            "colorbar": {
             "outlinewidth": 0,
             "ticks": ""
            },
            "colorscale": [
             [
              0,
              "#0d0887"
             ],
             [
              0.1111111111111111,
              "#46039f"
             ],
             [
              0.2222222222222222,
              "#7201a8"
             ],
             [
              0.3333333333333333,
              "#9c179e"
             ],
             [
              0.4444444444444444,
              "#bd3786"
             ],
             [
              0.5555555555555556,
              "#d8576b"
             ],
             [
              0.6666666666666666,
              "#ed7953"
             ],
             [
              0.7777777777777778,
              "#fb9f3a"
             ],
             [
              0.8888888888888888,
              "#fdca26"
             ],
             [
              1,
              "#f0f921"
             ]
            ],
            "type": "heatmapgl"
           }
          ],
          "histogram": [
           {
            "marker": {
             "pattern": {
              "fillmode": "overlay",
              "size": 10,
              "solidity": 0.2
             }
            },
            "type": "histogram"
           }
          ],
          "histogram2d": [
           {
            "colorbar": {
             "outlinewidth": 0,
             "ticks": ""
            },
            "colorscale": [
             [
              0,
              "#0d0887"
             ],
             [
              0.1111111111111111,
              "#46039f"
             ],
             [
              0.2222222222222222,
              "#7201a8"
             ],
             [
              0.3333333333333333,
              "#9c179e"
             ],
             [
              0.4444444444444444,
              "#bd3786"
             ],
             [
              0.5555555555555556,
              "#d8576b"
             ],
             [
              0.6666666666666666,
              "#ed7953"
             ],
             [
              0.7777777777777778,
              "#fb9f3a"
             ],
             [
              0.8888888888888888,
              "#fdca26"
             ],
             [
              1,
              "#f0f921"
             ]
            ],
            "type": "histogram2d"
           }
          ],
          "histogram2dcontour": [
           {
            "colorbar": {
             "outlinewidth": 0,
             "ticks": ""
            },
            "colorscale": [
             [
              0,
              "#0d0887"
             ],
             [
              0.1111111111111111,
              "#46039f"
             ],
             [
              0.2222222222222222,
              "#7201a8"
             ],
             [
              0.3333333333333333,
              "#9c179e"
             ],
             [
              0.4444444444444444,
              "#bd3786"
             ],
             [
              0.5555555555555556,
              "#d8576b"
             ],
             [
              0.6666666666666666,
              "#ed7953"
             ],
             [
              0.7777777777777778,
              "#fb9f3a"
             ],
             [
              0.8888888888888888,
              "#fdca26"
             ],
             [
              1,
              "#f0f921"
             ]
            ],
            "type": "histogram2dcontour"
           }
          ],
          "mesh3d": [
           {
            "colorbar": {
             "outlinewidth": 0,
             "ticks": ""
            },
            "type": "mesh3d"
           }
          ],
          "parcoords": [
           {
            "line": {
             "colorbar": {
              "outlinewidth": 0,
              "ticks": ""
             }
            },
            "type": "parcoords"
           }
          ],
          "pie": [
           {
            "automargin": true,
            "type": "pie"
           }
          ],
          "scatter": [
           {
            "fillpattern": {
             "fillmode": "overlay",
             "size": 10,
             "solidity": 0.2
            },
            "type": "scatter"
           }
          ],
          "scatter3d": [
           {
            "line": {
             "colorbar": {
              "outlinewidth": 0,
              "ticks": ""
             }
            },
            "marker": {
             "colorbar": {
              "outlinewidth": 0,
              "ticks": ""
             }
            },
            "type": "scatter3d"
           }
          ],
          "scattercarpet": [
           {
            "marker": {
             "colorbar": {
              "outlinewidth": 0,
              "ticks": ""
             }
            },
            "type": "scattercarpet"
           }
          ],
          "scattergeo": [
           {
            "marker": {
             "colorbar": {
              "outlinewidth": 0,
              "ticks": ""
             }
            },
            "type": "scattergeo"
           }
          ],
          "scattergl": [
           {
            "marker": {
             "colorbar": {
              "outlinewidth": 0,
              "ticks": ""
             }
            },
            "type": "scattergl"
           }
          ],
          "scattermapbox": [
           {
            "marker": {
             "colorbar": {
              "outlinewidth": 0,
              "ticks": ""
             }
            },
            "type": "scattermapbox"
           }
          ],
          "scatterpolar": [
           {
            "marker": {
             "colorbar": {
              "outlinewidth": 0,
              "ticks": ""
             }
            },
            "type": "scatterpolar"
           }
          ],
          "scatterpolargl": [
           {
            "marker": {
             "colorbar": {
              "outlinewidth": 0,
              "ticks": ""
             }
            },
            "type": "scatterpolargl"
           }
          ],
          "scatterternary": [
           {
            "marker": {
             "colorbar": {
              "outlinewidth": 0,
              "ticks": ""
             }
            },
            "type": "scatterternary"
           }
          ],
          "surface": [
           {
            "colorbar": {
             "outlinewidth": 0,
             "ticks": ""
            },
            "colorscale": [
             [
              0,
              "#0d0887"
             ],
             [
              0.1111111111111111,
              "#46039f"
             ],
             [
              0.2222222222222222,
              "#7201a8"
             ],
             [
              0.3333333333333333,
              "#9c179e"
             ],
             [
              0.4444444444444444,
              "#bd3786"
             ],
             [
              0.5555555555555556,
              "#d8576b"
             ],
             [
              0.6666666666666666,
              "#ed7953"
             ],
             [
              0.7777777777777778,
              "#fb9f3a"
             ],
             [
              0.8888888888888888,
              "#fdca26"
             ],
             [
              1,
              "#f0f921"
             ]
            ],
            "type": "surface"
           }
          ],
          "table": [
           {
            "cells": {
             "fill": {
              "color": "#EBF0F8"
             },
             "line": {
              "color": "white"
             }
            },
            "header": {
             "fill": {
              "color": "#C8D4E3"
             },
             "line": {
              "color": "white"
             }
            },
            "type": "table"
           }
          ]
         },
         "layout": {
          "annotationdefaults": {
           "arrowcolor": "#2a3f5f",
           "arrowhead": 0,
           "arrowwidth": 1
          },
          "autotypenumbers": "strict",
          "coloraxis": {
           "colorbar": {
            "outlinewidth": 0,
            "ticks": ""
           }
          },
          "colorscale": {
           "diverging": [
            [
             0,
             "#8e0152"
            ],
            [
             0.1,
             "#c51b7d"
            ],
            [
             0.2,
             "#de77ae"
            ],
            [
             0.3,
             "#f1b6da"
            ],
            [
             0.4,
             "#fde0ef"
            ],
            [
             0.5,
             "#f7f7f7"
            ],
            [
             0.6,
             "#e6f5d0"
            ],
            [
             0.7,
             "#b8e186"
            ],
            [
             0.8,
             "#7fbc41"
            ],
            [
             0.9,
             "#4d9221"
            ],
            [
             1,
             "#276419"
            ]
           ],
           "sequential": [
            [
             0,
             "#0d0887"
            ],
            [
             0.1111111111111111,
             "#46039f"
            ],
            [
             0.2222222222222222,
             "#7201a8"
            ],
            [
             0.3333333333333333,
             "#9c179e"
            ],
            [
             0.4444444444444444,
             "#bd3786"
            ],
            [
             0.5555555555555556,
             "#d8576b"
            ],
            [
             0.6666666666666666,
             "#ed7953"
            ],
            [
             0.7777777777777778,
             "#fb9f3a"
            ],
            [
             0.8888888888888888,
             "#fdca26"
            ],
            [
             1,
             "#f0f921"
            ]
           ],
           "sequentialminus": [
            [
             0,
             "#0d0887"
            ],
            [
             0.1111111111111111,
             "#46039f"
            ],
            [
             0.2222222222222222,
             "#7201a8"
            ],
            [
             0.3333333333333333,
             "#9c179e"
            ],
            [
             0.4444444444444444,
             "#bd3786"
            ],
            [
             0.5555555555555556,
             "#d8576b"
            ],
            [
             0.6666666666666666,
             "#ed7953"
            ],
            [
             0.7777777777777778,
             "#fb9f3a"
            ],
            [
             0.8888888888888888,
             "#fdca26"
            ],
            [
             1,
             "#f0f921"
            ]
           ]
          },
          "colorway": [
           "#636efa",
           "#EF553B",
           "#00cc96",
           "#ab63fa",
           "#FFA15A",
           "#19d3f3",
           "#FF6692",
           "#B6E880",
           "#FF97FF",
           "#FECB52"
          ],
          "font": {
           "color": "#2a3f5f"
          },
          "geo": {
           "bgcolor": "white",
           "lakecolor": "white",
           "landcolor": "#E5ECF6",
           "showlakes": true,
           "showland": true,
           "subunitcolor": "white"
          },
          "hoverlabel": {
           "align": "left"
          },
          "hovermode": "closest",
          "mapbox": {
           "style": "light"
          },
          "paper_bgcolor": "white",
          "plot_bgcolor": "#E5ECF6",
          "polar": {
           "angularaxis": {
            "gridcolor": "white",
            "linecolor": "white",
            "ticks": ""
           },
           "bgcolor": "#E5ECF6",
           "radialaxis": {
            "gridcolor": "white",
            "linecolor": "white",
            "ticks": ""
           }
          },
          "scene": {
           "xaxis": {
            "backgroundcolor": "#E5ECF6",
            "gridcolor": "white",
            "gridwidth": 2,
            "linecolor": "white",
            "showbackground": true,
            "ticks": "",
            "zerolinecolor": "white"
           },
           "yaxis": {
            "backgroundcolor": "#E5ECF6",
            "gridcolor": "white",
            "gridwidth": 2,
            "linecolor": "white",
            "showbackground": true,
            "ticks": "",
            "zerolinecolor": "white"
           },
           "zaxis": {
            "backgroundcolor": "#E5ECF6",
            "gridcolor": "white",
            "gridwidth": 2,
            "linecolor": "white",
            "showbackground": true,
            "ticks": "",
            "zerolinecolor": "white"
           }
          },
          "shapedefaults": {
           "line": {
            "color": "#2a3f5f"
           }
          },
          "ternary": {
           "aaxis": {
            "gridcolor": "white",
            "linecolor": "white",
            "ticks": ""
           },
           "baxis": {
            "gridcolor": "white",
            "linecolor": "white",
            "ticks": ""
           },
           "bgcolor": "#E5ECF6",
           "caxis": {
            "gridcolor": "white",
            "linecolor": "white",
            "ticks": ""
           }
          },
          "title": {
           "x": 0.05
          },
          "xaxis": {
           "automargin": true,
           "gridcolor": "white",
           "linecolor": "white",
           "ticks": "",
           "title": {
            "standoff": 15
           },
           "zerolinecolor": "white",
           "zerolinewidth": 2
          },
          "yaxis": {
           "automargin": true,
           "gridcolor": "white",
           "linecolor": "white",
           "ticks": "",
           "title": {
            "standoff": 15
           },
           "zerolinecolor": "white",
           "zerolinewidth": 2
          }
         }
        }
       }
      },
      "text/html": [
       "<div>                            <div id=\"8f58a4a4-d196-47ca-9881-1213f00546a6\" class=\"plotly-graph-div\" style=\"height:525px; width:100%;\"></div>            <script type=\"text/javascript\">                require([\"plotly\"], function(Plotly) {                    window.PLOTLYENV=window.PLOTLYENV || {};                                    if (document.getElementById(\"8f58a4a4-d196-47ca-9881-1213f00546a6\")) {                    Plotly.newPlot(                        \"8f58a4a4-d196-47ca-9881-1213f00546a6\",                        [{\"domain\":{\"x\":[0.0,1.0],\"y\":[0.0,1.0]},\"hovertemplate\":\"\\uc9c0\\uc5ed=%{label}<br>0=%{value}<extra></extra>\",\"labels\":[\"\\uac15\\uc6d0\\ud2b9\\ubcc4\\uc790\\uce58\\ub3c4\",\"\\uacbd\\uae30\\ub3c4\",\"\\uacbd\\uc0c1\\ub0a8\\ub3c4\",\"\\uacbd\\uc0c1\\ubd81\\ub3c4\",\"\\uad11\\uc8fc\\uad11\\uc5ed\\uc2dc\",\"\\ub300\\uad6c\\uad11\\uc5ed\\uc2dc\",\"\\ub300\\uc804\\uad11\\uc5ed\\uc2dc\",\"\\ubd80\\uc0b0\\uad11\\uc5ed\\uc2dc\",\"\\uc11c\\uc6b8\\ud2b9\\ubcc4\\uc2dc\",\"\\uc6b8\\uc0b0\\uad11\\uc5ed\\uc2dc\",\"\\uc778\\ucc9c\\uad11\\uc5ed\\uc2dc\",\"\\uc804\\ub77c\\ub0a8\\ub3c4\",\"\\uc804\\ub77c\\ubd81\\ub3c4\",\"\\uc81c\\uc8fc\\ud2b9\\ubcc4\\uc790\\uce58\\ub3c4\",\"\\ucda9\\uccad\\ub0a8\\ub3c4\",\"\\ucda9\\uccad\\ubd81\\ub3c4\"],\"legendgroup\":\"\",\"name\":\"\",\"showlegend\":true,\"values\":[3,23,5,4,5,5,3,8,21,5,4,4,3,1,3,2],\"type\":\"pie\",\"textinfo\":\"percent+label\"}],                        {\"template\":{\"data\":{\"histogram2dcontour\":[{\"type\":\"histogram2dcontour\",\"colorbar\":{\"outlinewidth\":0,\"ticks\":\"\"},\"colorscale\":[[0.0,\"#0d0887\"],[0.1111111111111111,\"#46039f\"],[0.2222222222222222,\"#7201a8\"],[0.3333333333333333,\"#9c179e\"],[0.4444444444444444,\"#bd3786\"],[0.5555555555555556,\"#d8576b\"],[0.6666666666666666,\"#ed7953\"],[0.7777777777777778,\"#fb9f3a\"],[0.8888888888888888,\"#fdca26\"],[1.0,\"#f0f921\"]]}],\"choropleth\":[{\"type\":\"choropleth\",\"colorbar\":{\"outlinewidth\":0,\"ticks\":\"\"}}],\"histogram2d\":[{\"type\":\"histogram2d\",\"colorbar\":{\"outlinewidth\":0,\"ticks\":\"\"},\"colorscale\":[[0.0,\"#0d0887\"],[0.1111111111111111,\"#46039f\"],[0.2222222222222222,\"#7201a8\"],[0.3333333333333333,\"#9c179e\"],[0.4444444444444444,\"#bd3786\"],[0.5555555555555556,\"#d8576b\"],[0.6666666666666666,\"#ed7953\"],[0.7777777777777778,\"#fb9f3a\"],[0.8888888888888888,\"#fdca26\"],[1.0,\"#f0f921\"]]}],\"heatmap\":[{\"type\":\"heatmap\",\"colorbar\":{\"outlinewidth\":0,\"ticks\":\"\"},\"colorscale\":[[0.0,\"#0d0887\"],[0.1111111111111111,\"#46039f\"],[0.2222222222222222,\"#7201a8\"],[0.3333333333333333,\"#9c179e\"],[0.4444444444444444,\"#bd3786\"],[0.5555555555555556,\"#d8576b\"],[0.6666666666666666,\"#ed7953\"],[0.7777777777777778,\"#fb9f3a\"],[0.8888888888888888,\"#fdca26\"],[1.0,\"#f0f921\"]]}],\"heatmapgl\":[{\"type\":\"heatmapgl\",\"colorbar\":{\"outlinewidth\":0,\"ticks\":\"\"},\"colorscale\":[[0.0,\"#0d0887\"],[0.1111111111111111,\"#46039f\"],[0.2222222222222222,\"#7201a8\"],[0.3333333333333333,\"#9c179e\"],[0.4444444444444444,\"#bd3786\"],[0.5555555555555556,\"#d8576b\"],[0.6666666666666666,\"#ed7953\"],[0.7777777777777778,\"#fb9f3a\"],[0.8888888888888888,\"#fdca26\"],[1.0,\"#f0f921\"]]}],\"contourcarpet\":[{\"type\":\"contourcarpet\",\"colorbar\":{\"outlinewidth\":0,\"ticks\":\"\"}}],\"contour\":[{\"type\":\"contour\",\"colorbar\":{\"outlinewidth\":0,\"ticks\":\"\"},\"colorscale\":[[0.0,\"#0d0887\"],[0.1111111111111111,\"#46039f\"],[0.2222222222222222,\"#7201a8\"],[0.3333333333333333,\"#9c179e\"],[0.4444444444444444,\"#bd3786\"],[0.5555555555555556,\"#d8576b\"],[0.6666666666666666,\"#ed7953\"],[0.7777777777777778,\"#fb9f3a\"],[0.8888888888888888,\"#fdca26\"],[1.0,\"#f0f921\"]]}],\"surface\":[{\"type\":\"surface\",\"colorbar\":{\"outlinewidth\":0,\"ticks\":\"\"},\"colorscale\":[[0.0,\"#0d0887\"],[0.1111111111111111,\"#46039f\"],[0.2222222222222222,\"#7201a8\"],[0.3333333333333333,\"#9c179e\"],[0.4444444444444444,\"#bd3786\"],[0.5555555555555556,\"#d8576b\"],[0.6666666666666666,\"#ed7953\"],[0.7777777777777778,\"#fb9f3a\"],[0.8888888888888888,\"#fdca26\"],[1.0,\"#f0f921\"]]}],\"mesh3d\":[{\"type\":\"mesh3d\",\"colorbar\":{\"outlinewidth\":0,\"ticks\":\"\"}}],\"scatter\":[{\"fillpattern\":{\"fillmode\":\"overlay\",\"size\":10,\"solidity\":0.2},\"type\":\"scatter\"}],\"parcoords\":[{\"type\":\"parcoords\",\"line\":{\"colorbar\":{\"outlinewidth\":0,\"ticks\":\"\"}}}],\"scatterpolargl\":[{\"type\":\"scatterpolargl\",\"marker\":{\"colorbar\":{\"outlinewidth\":0,\"ticks\":\"\"}}}],\"bar\":[{\"error_x\":{\"color\":\"#2a3f5f\"},\"error_y\":{\"color\":\"#2a3f5f\"},\"marker\":{\"line\":{\"color\":\"#E5ECF6\",\"width\":0.5},\"pattern\":{\"fillmode\":\"overlay\",\"size\":10,\"solidity\":0.2}},\"type\":\"bar\"}],\"scattergeo\":[{\"type\":\"scattergeo\",\"marker\":{\"colorbar\":{\"outlinewidth\":0,\"ticks\":\"\"}}}],\"scatterpolar\":[{\"type\":\"scatterpolar\",\"marker\":{\"colorbar\":{\"outlinewidth\":0,\"ticks\":\"\"}}}],\"histogram\":[{\"marker\":{\"pattern\":{\"fillmode\":\"overlay\",\"size\":10,\"solidity\":0.2}},\"type\":\"histogram\"}],\"scattergl\":[{\"type\":\"scattergl\",\"marker\":{\"colorbar\":{\"outlinewidth\":0,\"ticks\":\"\"}}}],\"scatter3d\":[{\"type\":\"scatter3d\",\"line\":{\"colorbar\":{\"outlinewidth\":0,\"ticks\":\"\"}},\"marker\":{\"colorbar\":{\"outlinewidth\":0,\"ticks\":\"\"}}}],\"scattermapbox\":[{\"type\":\"scattermapbox\",\"marker\":{\"colorbar\":{\"outlinewidth\":0,\"ticks\":\"\"}}}],\"scatterternary\":[{\"type\":\"scatterternary\",\"marker\":{\"colorbar\":{\"outlinewidth\":0,\"ticks\":\"\"}}}],\"scattercarpet\":[{\"type\":\"scattercarpet\",\"marker\":{\"colorbar\":{\"outlinewidth\":0,\"ticks\":\"\"}}}],\"carpet\":[{\"aaxis\":{\"endlinecolor\":\"#2a3f5f\",\"gridcolor\":\"white\",\"linecolor\":\"white\",\"minorgridcolor\":\"white\",\"startlinecolor\":\"#2a3f5f\"},\"baxis\":{\"endlinecolor\":\"#2a3f5f\",\"gridcolor\":\"white\",\"linecolor\":\"white\",\"minorgridcolor\":\"white\",\"startlinecolor\":\"#2a3f5f\"},\"type\":\"carpet\"}],\"table\":[{\"cells\":{\"fill\":{\"color\":\"#EBF0F8\"},\"line\":{\"color\":\"white\"}},\"header\":{\"fill\":{\"color\":\"#C8D4E3\"},\"line\":{\"color\":\"white\"}},\"type\":\"table\"}],\"barpolar\":[{\"marker\":{\"line\":{\"color\":\"#E5ECF6\",\"width\":0.5},\"pattern\":{\"fillmode\":\"overlay\",\"size\":10,\"solidity\":0.2}},\"type\":\"barpolar\"}],\"pie\":[{\"automargin\":true,\"type\":\"pie\"}]},\"layout\":{\"autotypenumbers\":\"strict\",\"colorway\":[\"#636efa\",\"#EF553B\",\"#00cc96\",\"#ab63fa\",\"#FFA15A\",\"#19d3f3\",\"#FF6692\",\"#B6E880\",\"#FF97FF\",\"#FECB52\"],\"font\":{\"color\":\"#2a3f5f\"},\"hovermode\":\"closest\",\"hoverlabel\":{\"align\":\"left\"},\"paper_bgcolor\":\"white\",\"plot_bgcolor\":\"#E5ECF6\",\"polar\":{\"bgcolor\":\"#E5ECF6\",\"angularaxis\":{\"gridcolor\":\"white\",\"linecolor\":\"white\",\"ticks\":\"\"},\"radialaxis\":{\"gridcolor\":\"white\",\"linecolor\":\"white\",\"ticks\":\"\"}},\"ternary\":{\"bgcolor\":\"#E5ECF6\",\"aaxis\":{\"gridcolor\":\"white\",\"linecolor\":\"white\",\"ticks\":\"\"},\"baxis\":{\"gridcolor\":\"white\",\"linecolor\":\"white\",\"ticks\":\"\"},\"caxis\":{\"gridcolor\":\"white\",\"linecolor\":\"white\",\"ticks\":\"\"}},\"coloraxis\":{\"colorbar\":{\"outlinewidth\":0,\"ticks\":\"\"}},\"colorscale\":{\"sequential\":[[0.0,\"#0d0887\"],[0.1111111111111111,\"#46039f\"],[0.2222222222222222,\"#7201a8\"],[0.3333333333333333,\"#9c179e\"],[0.4444444444444444,\"#bd3786\"],[0.5555555555555556,\"#d8576b\"],[0.6666666666666666,\"#ed7953\"],[0.7777777777777778,\"#fb9f3a\"],[0.8888888888888888,\"#fdca26\"],[1.0,\"#f0f921\"]],\"sequentialminus\":[[0.0,\"#0d0887\"],[0.1111111111111111,\"#46039f\"],[0.2222222222222222,\"#7201a8\"],[0.3333333333333333,\"#9c179e\"],[0.4444444444444444,\"#bd3786\"],[0.5555555555555556,\"#d8576b\"],[0.6666666666666666,\"#ed7953\"],[0.7777777777777778,\"#fb9f3a\"],[0.8888888888888888,\"#fdca26\"],[1.0,\"#f0f921\"]],\"diverging\":[[0,\"#8e0152\"],[0.1,\"#c51b7d\"],[0.2,\"#de77ae\"],[0.3,\"#f1b6da\"],[0.4,\"#fde0ef\"],[0.5,\"#f7f7f7\"],[0.6,\"#e6f5d0\"],[0.7,\"#b8e186\"],[0.8,\"#7fbc41\"],[0.9,\"#4d9221\"],[1,\"#276419\"]]},\"xaxis\":{\"gridcolor\":\"white\",\"linecolor\":\"white\",\"ticks\":\"\",\"title\":{\"standoff\":15},\"zerolinecolor\":\"white\",\"automargin\":true,\"zerolinewidth\":2},\"yaxis\":{\"gridcolor\":\"white\",\"linecolor\":\"white\",\"ticks\":\"\",\"title\":{\"standoff\":15},\"zerolinecolor\":\"white\",\"automargin\":true,\"zerolinewidth\":2},\"scene\":{\"xaxis\":{\"backgroundcolor\":\"#E5ECF6\",\"gridcolor\":\"white\",\"linecolor\":\"white\",\"showbackground\":true,\"ticks\":\"\",\"zerolinecolor\":\"white\",\"gridwidth\":2},\"yaxis\":{\"backgroundcolor\":\"#E5ECF6\",\"gridcolor\":\"white\",\"linecolor\":\"white\",\"showbackground\":true,\"ticks\":\"\",\"zerolinecolor\":\"white\",\"gridwidth\":2},\"zaxis\":{\"backgroundcolor\":\"#E5ECF6\",\"gridcolor\":\"white\",\"linecolor\":\"white\",\"showbackground\":true,\"ticks\":\"\",\"zerolinecolor\":\"white\",\"gridwidth\":2}},\"shapedefaults\":{\"line\":{\"color\":\"#2a3f5f\"}},\"annotationdefaults\":{\"arrowcolor\":\"#2a3f5f\",\"arrowhead\":0,\"arrowwidth\":1},\"geo\":{\"bgcolor\":\"white\",\"landcolor\":\"#E5ECF6\",\"subunitcolor\":\"white\",\"showland\":true,\"showlakes\":true,\"lakecolor\":\"white\"},\"title\":{\"x\":0.05},\"mapbox\":{\"style\":\"light\"}}},\"legend\":{\"tracegroupgap\":0},\"margin\":{\"t\":60}},                        {\"responsive\": true}                    ).then(function(){\n",
       "                            \n",
       "var gd = document.getElementById('8f58a4a4-d196-47ca-9881-1213f00546a6');\n",
       "var x = new MutationObserver(function (mutations, observer) {{\n",
       "        var display = window.getComputedStyle(gd).display;\n",
       "        if (!display || display === 'none') {{\n",
       "            console.log([gd, 'removed!']);\n",
       "            Plotly.purge(gd);\n",
       "            observer.disconnect();\n",
       "        }}\n",
       "}});\n",
       "\n",
       "// Listen for the removal of the full notebook cells\n",
       "var notebookContainer = gd.closest('#notebook-container');\n",
       "if (notebookContainer) {{\n",
       "    x.observe(notebookContainer, {childList: true});\n",
       "}}\n",
       "\n",
       "// Listen for the clearing of the current output cell\n",
       "var outputEl = gd.closest('.output');\n",
       "if (outputEl) {{\n",
       "    x.observe(outputEl, {childList: true});\n",
       "}}\n",
       "\n",
       "                        })                };                });            </script>        </div>"
      ]
     },
     "metadata": {},
     "output_type": "display_data"
    }
   ],
   "source": [
    "import plotly.express as px\n",
    "# This dataframe has 244 lines, but 4 distinct values for `day`\n",
    "fig = px.pie(dff, values=0, names='지역')\n",
    "\n",
    "fig.update_traces(textinfo='percent+label')\n",
    "fig.show()"
   ]
  },
  {
   "cell_type": "markdown",
   "id": "123a954f",
   "metadata": {},
   "source": [
    "### 순위가 높은 일부 지역에 대해 시각화"
   ]
  },
  {
   "cell_type": "code",
   "execution_count": 217,
   "id": "b55c3eda",
   "metadata": {
    "scrolled": false
   },
   "outputs": [
    {
     "data": {
      "application/vnd.plotly.v1+json": {
       "config": {
        "plotlyServerURL": "https://plot.ly"
       },
       "data": [
        {
         "hovertemplate": "지역=서울특별시<br>행정구역별=성북구<br>초등학교 학생수_scaled=%{x}<br>사설학원수(개)_scaled=%{y}<br>평균 급여(백만원)_scaled=%{z}<extra></extra>",
         "legendgroup": "서울특별시, 성북구",
         "marker": {
          "color": "#636efa",
          "symbol": "circle"
         },
         "mode": "markers",
         "name": "서울특별시, 성북구",
         "scene": "scene",
         "showlegend": true,
         "type": "scatter3d",
         "x": [
          0.9982875161793767
         ],
         "y": [
          0.15008000000000002
         ],
         "z": [
          0.6261382340519364
         ]
        },
        {
         "hovertemplate": "지역=서울특별시<br>행정구역별=서초구<br>초등학교 학생수_scaled=%{x}<br>사설학원수(개)_scaled=%{y}<br>평균 급여(백만원)_scaled=%{z}<extra></extra>",
         "legendgroup": "서울특별시, 서초구",
         "marker": {
          "color": "#636efa",
          "symbol": "diamond"
         },
         "mode": "markers",
         "name": "서울특별시, 서초구",
         "scene": "scene",
         "showlegend": true,
         "type": "scatter3d",
         "x": [
          0.3798598053680908
         ],
         "y": [
          0.38176000000000004
         ],
         "z": [
          1.2
         ]
        },
        {
         "hovertemplate": "지역=서울특별시<br>행정구역별=강남구<br>초등학교 학생수_scaled=%{x}<br>사설학원수(개)_scaled=%{y}<br>평균 급여(백만원)_scaled=%{z}<extra></extra>",
         "legendgroup": "서울특별시, 강남구",
         "marker": {
          "color": "#636efa",
          "symbol": "square"
         },
         "mode": "markers",
         "name": "서울특별시, 강남구",
         "scene": "scene",
         "showlegend": true,
         "type": "scatter3d",
         "x": [
          0.4987482622150965
         ],
         "y": [
          0.8
         ],
         "z": [
          1.174778223971738
         ]
        },
        {
         "hovertemplate": "지역=부산광역시<br>행정구역별=남구<br>초등학교 학생수_scaled=%{x}<br>사설학원수(개)_scaled=%{y}<br>평균 급여(백만원)_scaled=%{z}<extra></extra>",
         "legendgroup": "부산광역시, 남구",
         "marker": {
          "color": "#EF553B",
          "symbol": "x"
         },
         "mode": "markers",
         "name": "부산광역시, 남구",
         "scene": "scene",
         "showlegend": true,
         "type": "scatter3d",
         "x": [
          0.6119479703204982
         ],
         "y": [
          0.11424000000000001
         ],
         "z": [
          0.5828909635222826
         ]
        },
        {
         "hovertemplate": "지역=부산광역시<br>행정구역별=해운대구<br>초등학교 학생수_scaled=%{x}<br>사설학원수(개)_scaled=%{y}<br>평균 급여(백만원)_scaled=%{z}<extra></extra>",
         "legendgroup": "부산광역시, 해운대구",
         "marker": {
          "color": "#EF553B",
          "symbol": "cross"
         },
         "mode": "markers",
         "name": "부산광역시, 해운대구",
         "scene": "scene",
         "showlegend": true,
         "type": "scatter3d",
         "x": [
          0.3785894246800079
         ],
         "y": [
          0.23552
         ],
         "z": [
          0.6873594500691846
         ]
        },
        {
         "hovertemplate": "지역=부산광역시<br>행정구역별=금정구<br>초등학교 학생수_scaled=%{x}<br>사설학원수(개)_scaled=%{y}<br>평균 급여(백만원)_scaled=%{z}<extra></extra>",
         "legendgroup": "부산광역시, 금정구",
         "marker": {
          "color": "#EF553B",
          "symbol": "circle"
         },
         "mode": "markers",
         "name": "부산광역시, 금정구",
         "scene": "scene",
         "showlegend": true,
         "type": "scatter3d",
         "x": [
          0.5292294089134384
         ],
         "y": [
          0.12544
         ],
         "z": [
          0.5524525028992237
         ]
        },
        {
         "hovertemplate": "지역=광주광역시<br>행정구역별=남구<br>초등학교 학생수_scaled=%{x}<br>사설학원수(개)_scaled=%{y}<br>평균 급여(백만원)_scaled=%{z}<extra></extra>",
         "legendgroup": "광주광역시, 남구",
         "marker": {
          "color": "#00cc96",
          "symbol": "x"
         },
         "mode": "markers",
         "name": "광주광역시, 남구",
         "scene": "scene",
         "showlegend": true,
         "type": "scatter3d",
         "x": [
          0.3773669828858149
         ],
         "y": [
          0.20224000000000003
         ],
         "z": [
          0.5901617825150561
         ]
        },
        {
         "hovertemplate": "지역=광주광역시<br>행정구역별=북구<br>초등학교 학생수_scaled=%{x}<br>사설학원수(개)_scaled=%{y}<br>평균 급여(백만원)_scaled=%{z}<extra></extra>",
         "legendgroup": "광주광역시, 북구",
         "marker": {
          "color": "#00cc96",
          "symbol": "diamond"
         },
         "mode": "markers",
         "name": "광주광역시, 북구",
         "scene": "scene",
         "showlegend": true,
         "type": "scatter3d",
         "x": [
          0.7021449991743858
         ],
         "y": [
          0.29760000000000003
         ],
         "z": [
          0.5178743848629023
         ]
        },
        {
         "hovertemplate": "지역=광주광역시<br>행정구역별=광산구<br>초등학교 학생수_scaled=%{x}<br>사설학원수(개)_scaled=%{y}<br>평균 급여(백만원)_scaled=%{z}<extra></extra>",
         "legendgroup": "광주광역시, 광산구",
         "marker": {
          "color": "#00cc96",
          "symbol": "square"
         },
         "mode": "markers",
         "name": "광주광역시, 광산구",
         "scene": "scene",
         "showlegend": true,
         "type": "scatter3d",
         "x": [
          0.6665423806454706
         ],
         "y": [
          0.3008
         ],
         "z": [
          0.5546551662182689
         ]
        },
        {
         "hovertemplate": "지역=경기도<br>행정구역별=수원시<br>초등학교 학생수_scaled=%{x}<br>사설학원수(개)_scaled=%{y}<br>평균 급여(백만원)_scaled=%{z}<extra></extra>",
         "legendgroup": "경기도, 수원시",
         "marker": {
          "color": "#ab63fa",
          "symbol": "x"
         },
         "mode": "markers",
         "name": "경기도, 수원시",
         "scene": "scene",
         "showlegend": true,
         "type": "scatter3d",
         "x": [
          1.4870485088340728
         ],
         "y": [
          0.69632
         ],
         "z": [
          0.6795997554618575
         ]
        },
        {
         "hovertemplate": "지역=경기도<br>행정구역별=용인시<br>초등학교 학생수_scaled=%{x}<br>사설학원수(개)_scaled=%{y}<br>평균 급여(백만원)_scaled=%{z}<extra></extra>",
         "legendgroup": "경기도, 용인시",
         "marker": {
          "color": "#ab63fa",
          "symbol": "cross"
         },
         "mode": "markers",
         "name": "경기도, 용인시",
         "scene": "scene",
         "showlegend": true,
         "type": "scatter3d",
         "x": [
          1.5
         ],
         "y": [
          0.6633600000000001
         ],
         "z": [
          0.7596408696037689
         ]
        },
        {
         "hovertemplate": "지역=경기도<br>행정구역별=화성시<br>초등학교 학생수_scaled=%{x}<br>사설학원수(개)_scaled=%{y}<br>평균 급여(백만원)_scaled=%{z}<extra></extra>",
         "legendgroup": "경기도, 화성시",
         "marker": {
          "color": "#ab63fa",
          "symbol": "circle"
         },
         "mode": "markers",
         "name": "경기도, 화성시",
         "scene": "scene",
         "showlegend": true,
         "type": "scatter3d",
         "x": [
          1.356407033168388
         ],
         "y": [
          0.58176
         ],
         "z": [
          0.7312518392861727
         ]
        }
       ],
       "layout": {
        "legend": {
         "title": {
          "text": "지역, 행정구역별"
         },
         "tracegroupgap": 0
        },
        "margin": {
         "t": 60
        },
        "scene": {
         "domain": {
          "x": [
           0,
           1
          ],
          "y": [
           0,
           1
          ]
         },
         "xaxis": {
          "title": {
           "text": "초등학교 학생수_scaled"
          }
         },
         "yaxis": {
          "title": {
           "text": "사설학원수(개)_scaled"
          }
         },
         "zaxis": {
          "title": {
           "text": "평균 급여(백만원)_scaled"
          }
         }
        },
        "template": {
         "data": {
          "bar": [
           {
            "error_x": {
             "color": "#2a3f5f"
            },
            "error_y": {
             "color": "#2a3f5f"
            },
            "marker": {
             "line": {
              "color": "#E5ECF6",
              "width": 0.5
             },
             "pattern": {
              "fillmode": "overlay",
              "size": 10,
              "solidity": 0.2
             }
            },
            "type": "bar"
           }
          ],
          "barpolar": [
           {
            "marker": {
             "line": {
              "color": "#E5ECF6",
              "width": 0.5
             },
             "pattern": {
              "fillmode": "overlay",
              "size": 10,
              "solidity": 0.2
             }
            },
            "type": "barpolar"
           }
          ],
          "carpet": [
           {
            "aaxis": {
             "endlinecolor": "#2a3f5f",
             "gridcolor": "white",
             "linecolor": "white",
             "minorgridcolor": "white",
             "startlinecolor": "#2a3f5f"
            },
            "baxis": {
             "endlinecolor": "#2a3f5f",
             "gridcolor": "white",
             "linecolor": "white",
             "minorgridcolor": "white",
             "startlinecolor": "#2a3f5f"
            },
            "type": "carpet"
           }
          ],
          "choropleth": [
           {
            "colorbar": {
             "outlinewidth": 0,
             "ticks": ""
            },
            "type": "choropleth"
           }
          ],
          "contour": [
           {
            "colorbar": {
             "outlinewidth": 0,
             "ticks": ""
            },
            "colorscale": [
             [
              0,
              "#0d0887"
             ],
             [
              0.1111111111111111,
              "#46039f"
             ],
             [
              0.2222222222222222,
              "#7201a8"
             ],
             [
              0.3333333333333333,
              "#9c179e"
             ],
             [
              0.4444444444444444,
              "#bd3786"
             ],
             [
              0.5555555555555556,
              "#d8576b"
             ],
             [
              0.6666666666666666,
              "#ed7953"
             ],
             [
              0.7777777777777778,
              "#fb9f3a"
             ],
             [
              0.8888888888888888,
              "#fdca26"
             ],
             [
              1,
              "#f0f921"
             ]
            ],
            "type": "contour"
           }
          ],
          "contourcarpet": [
           {
            "colorbar": {
             "outlinewidth": 0,
             "ticks": ""
            },
            "type": "contourcarpet"
           }
          ],
          "heatmap": [
           {
            "colorbar": {
             "outlinewidth": 0,
             "ticks": ""
            },
            "colorscale": [
             [
              0,
              "#0d0887"
             ],
             [
              0.1111111111111111,
              "#46039f"
             ],
             [
              0.2222222222222222,
              "#7201a8"
             ],
             [
              0.3333333333333333,
              "#9c179e"
             ],
             [
              0.4444444444444444,
              "#bd3786"
             ],
             [
              0.5555555555555556,
              "#d8576b"
             ],
             [
              0.6666666666666666,
              "#ed7953"
             ],
             [
              0.7777777777777778,
              "#fb9f3a"
             ],
             [
              0.8888888888888888,
              "#fdca26"
             ],
             [
              1,
              "#f0f921"
             ]
            ],
            "type": "heatmap"
           }
          ],
          "heatmapgl": [
           {
            "colorbar": {
             "outlinewidth": 0,
             "ticks": ""
            },
            "colorscale": [
             [
              0,
              "#0d0887"
             ],
             [
              0.1111111111111111,
              "#46039f"
             ],
             [
              0.2222222222222222,
              "#7201a8"
             ],
             [
              0.3333333333333333,
              "#9c179e"
             ],
             [
              0.4444444444444444,
              "#bd3786"
             ],
             [
              0.5555555555555556,
              "#d8576b"
             ],
             [
              0.6666666666666666,
              "#ed7953"
             ],
             [
              0.7777777777777778,
              "#fb9f3a"
             ],
             [
              0.8888888888888888,
              "#fdca26"
             ],
             [
              1,
              "#f0f921"
             ]
            ],
            "type": "heatmapgl"
           }
          ],
          "histogram": [
           {
            "marker": {
             "pattern": {
              "fillmode": "overlay",
              "size": 10,
              "solidity": 0.2
             }
            },
            "type": "histogram"
           }
          ],
          "histogram2d": [
           {
            "colorbar": {
             "outlinewidth": 0,
             "ticks": ""
            },
            "colorscale": [
             [
              0,
              "#0d0887"
             ],
             [
              0.1111111111111111,
              "#46039f"
             ],
             [
              0.2222222222222222,
              "#7201a8"
             ],
             [
              0.3333333333333333,
              "#9c179e"
             ],
             [
              0.4444444444444444,
              "#bd3786"
             ],
             [
              0.5555555555555556,
              "#d8576b"
             ],
             [
              0.6666666666666666,
              "#ed7953"
             ],
             [
              0.7777777777777778,
              "#fb9f3a"
             ],
             [
              0.8888888888888888,
              "#fdca26"
             ],
             [
              1,
              "#f0f921"
             ]
            ],
            "type": "histogram2d"
           }
          ],
          "histogram2dcontour": [
           {
            "colorbar": {
             "outlinewidth": 0,
             "ticks": ""
            },
            "colorscale": [
             [
              0,
              "#0d0887"
             ],
             [
              0.1111111111111111,
              "#46039f"
             ],
             [
              0.2222222222222222,
              "#7201a8"
             ],
             [
              0.3333333333333333,
              "#9c179e"
             ],
             [
              0.4444444444444444,
              "#bd3786"
             ],
             [
              0.5555555555555556,
              "#d8576b"
             ],
             [
              0.6666666666666666,
              "#ed7953"
             ],
             [
              0.7777777777777778,
              "#fb9f3a"
             ],
             [
              0.8888888888888888,
              "#fdca26"
             ],
             [
              1,
              "#f0f921"
             ]
            ],
            "type": "histogram2dcontour"
           }
          ],
          "mesh3d": [
           {
            "colorbar": {
             "outlinewidth": 0,
             "ticks": ""
            },
            "type": "mesh3d"
           }
          ],
          "parcoords": [
           {
            "line": {
             "colorbar": {
              "outlinewidth": 0,
              "ticks": ""
             }
            },
            "type": "parcoords"
           }
          ],
          "pie": [
           {
            "automargin": true,
            "type": "pie"
           }
          ],
          "scatter": [
           {
            "fillpattern": {
             "fillmode": "overlay",
             "size": 10,
             "solidity": 0.2
            },
            "type": "scatter"
           }
          ],
          "scatter3d": [
           {
            "line": {
             "colorbar": {
              "outlinewidth": 0,
              "ticks": ""
             }
            },
            "marker": {
             "colorbar": {
              "outlinewidth": 0,
              "ticks": ""
             }
            },
            "type": "scatter3d"
           }
          ],
          "scattercarpet": [
           {
            "marker": {
             "colorbar": {
              "outlinewidth": 0,
              "ticks": ""
             }
            },
            "type": "scattercarpet"
           }
          ],
          "scattergeo": [
           {
            "marker": {
             "colorbar": {
              "outlinewidth": 0,
              "ticks": ""
             }
            },
            "type": "scattergeo"
           }
          ],
          "scattergl": [
           {
            "marker": {
             "colorbar": {
              "outlinewidth": 0,
              "ticks": ""
             }
            },
            "type": "scattergl"
           }
          ],
          "scattermapbox": [
           {
            "marker": {
             "colorbar": {
              "outlinewidth": 0,
              "ticks": ""
             }
            },
            "type": "scattermapbox"
           }
          ],
          "scatterpolar": [
           {
            "marker": {
             "colorbar": {
              "outlinewidth": 0,
              "ticks": ""
             }
            },
            "type": "scatterpolar"
           }
          ],
          "scatterpolargl": [
           {
            "marker": {
             "colorbar": {
              "outlinewidth": 0,
              "ticks": ""
             }
            },
            "type": "scatterpolargl"
           }
          ],
          "scatterternary": [
           {
            "marker": {
             "colorbar": {
              "outlinewidth": 0,
              "ticks": ""
             }
            },
            "type": "scatterternary"
           }
          ],
          "surface": [
           {
            "colorbar": {
             "outlinewidth": 0,
             "ticks": ""
            },
            "colorscale": [
             [
              0,
              "#0d0887"
             ],
             [
              0.1111111111111111,
              "#46039f"
             ],
             [
              0.2222222222222222,
              "#7201a8"
             ],
             [
              0.3333333333333333,
              "#9c179e"
             ],
             [
              0.4444444444444444,
              "#bd3786"
             ],
             [
              0.5555555555555556,
              "#d8576b"
             ],
             [
              0.6666666666666666,
              "#ed7953"
             ],
             [
              0.7777777777777778,
              "#fb9f3a"
             ],
             [
              0.8888888888888888,
              "#fdca26"
             ],
             [
              1,
              "#f0f921"
             ]
            ],
            "type": "surface"
           }
          ],
          "table": [
           {
            "cells": {
             "fill": {
              "color": "#EBF0F8"
             },
             "line": {
              "color": "white"
             }
            },
            "header": {
             "fill": {
              "color": "#C8D4E3"
             },
             "line": {
              "color": "white"
             }
            },
            "type": "table"
           }
          ]
         },
         "layout": {
          "annotationdefaults": {
           "arrowcolor": "#2a3f5f",
           "arrowhead": 0,
           "arrowwidth": 1
          },
          "autotypenumbers": "strict",
          "coloraxis": {
           "colorbar": {
            "outlinewidth": 0,
            "ticks": ""
           }
          },
          "colorscale": {
           "diverging": [
            [
             0,
             "#8e0152"
            ],
            [
             0.1,
             "#c51b7d"
            ],
            [
             0.2,
             "#de77ae"
            ],
            [
             0.3,
             "#f1b6da"
            ],
            [
             0.4,
             "#fde0ef"
            ],
            [
             0.5,
             "#f7f7f7"
            ],
            [
             0.6,
             "#e6f5d0"
            ],
            [
             0.7,
             "#b8e186"
            ],
            [
             0.8,
             "#7fbc41"
            ],
            [
             0.9,
             "#4d9221"
            ],
            [
             1,
             "#276419"
            ]
           ],
           "sequential": [
            [
             0,
             "#0d0887"
            ],
            [
             0.1111111111111111,
             "#46039f"
            ],
            [
             0.2222222222222222,
             "#7201a8"
            ],
            [
             0.3333333333333333,
             "#9c179e"
            ],
            [
             0.4444444444444444,
             "#bd3786"
            ],
            [
             0.5555555555555556,
             "#d8576b"
            ],
            [
             0.6666666666666666,
             "#ed7953"
            ],
            [
             0.7777777777777778,
             "#fb9f3a"
            ],
            [
             0.8888888888888888,
             "#fdca26"
            ],
            [
             1,
             "#f0f921"
            ]
           ],
           "sequentialminus": [
            [
             0,
             "#0d0887"
            ],
            [
             0.1111111111111111,
             "#46039f"
            ],
            [
             0.2222222222222222,
             "#7201a8"
            ],
            [
             0.3333333333333333,
             "#9c179e"
            ],
            [
             0.4444444444444444,
             "#bd3786"
            ],
            [
             0.5555555555555556,
             "#d8576b"
            ],
            [
             0.6666666666666666,
             "#ed7953"
            ],
            [
             0.7777777777777778,
             "#fb9f3a"
            ],
            [
             0.8888888888888888,
             "#fdca26"
            ],
            [
             1,
             "#f0f921"
            ]
           ]
          },
          "colorway": [
           "#636efa",
           "#EF553B",
           "#00cc96",
           "#ab63fa",
           "#FFA15A",
           "#19d3f3",
           "#FF6692",
           "#B6E880",
           "#FF97FF",
           "#FECB52"
          ],
          "font": {
           "color": "#2a3f5f"
          },
          "geo": {
           "bgcolor": "white",
           "lakecolor": "white",
           "landcolor": "#E5ECF6",
           "showlakes": true,
           "showland": true,
           "subunitcolor": "white"
          },
          "hoverlabel": {
           "align": "left"
          },
          "hovermode": "closest",
          "mapbox": {
           "style": "light"
          },
          "paper_bgcolor": "white",
          "plot_bgcolor": "#E5ECF6",
          "polar": {
           "angularaxis": {
            "gridcolor": "white",
            "linecolor": "white",
            "ticks": ""
           },
           "bgcolor": "#E5ECF6",
           "radialaxis": {
            "gridcolor": "white",
            "linecolor": "white",
            "ticks": ""
           }
          },
          "scene": {
           "xaxis": {
            "backgroundcolor": "#E5ECF6",
            "gridcolor": "white",
            "gridwidth": 2,
            "linecolor": "white",
            "showbackground": true,
            "ticks": "",
            "zerolinecolor": "white"
           },
           "yaxis": {
            "backgroundcolor": "#E5ECF6",
            "gridcolor": "white",
            "gridwidth": 2,
            "linecolor": "white",
            "showbackground": true,
            "ticks": "",
            "zerolinecolor": "white"
           },
           "zaxis": {
            "backgroundcolor": "#E5ECF6",
            "gridcolor": "white",
            "gridwidth": 2,
            "linecolor": "white",
            "showbackground": true,
            "ticks": "",
            "zerolinecolor": "white"
           }
          },
          "shapedefaults": {
           "line": {
            "color": "#2a3f5f"
           }
          },
          "ternary": {
           "aaxis": {
            "gridcolor": "white",
            "linecolor": "white",
            "ticks": ""
           },
           "baxis": {
            "gridcolor": "white",
            "linecolor": "white",
            "ticks": ""
           },
           "bgcolor": "#E5ECF6",
           "caxis": {
            "gridcolor": "white",
            "linecolor": "white",
            "ticks": ""
           }
          },
          "title": {
           "x": 0.05
          },
          "xaxis": {
           "automargin": true,
           "gridcolor": "white",
           "linecolor": "white",
           "ticks": "",
           "title": {
            "standoff": 15
           },
           "zerolinecolor": "white",
           "zerolinewidth": 2
          },
          "yaxis": {
           "automargin": true,
           "gridcolor": "white",
           "linecolor": "white",
           "ticks": "",
           "title": {
            "standoff": 15
           },
           "zerolinecolor": "white",
           "zerolinewidth": 2
          }
         }
        }
       }
      },
      "text/html": [
       "<div>                            <div id=\"997caa05-2555-481a-9d15-0926893efe29\" class=\"plotly-graph-div\" style=\"height:525px; width:100%;\"></div>            <script type=\"text/javascript\">                require([\"plotly\"], function(Plotly) {                    window.PLOTLYENV=window.PLOTLYENV || {};                                    if (document.getElementById(\"997caa05-2555-481a-9d15-0926893efe29\")) {                    Plotly.newPlot(                        \"997caa05-2555-481a-9d15-0926893efe29\",                        [{\"hovertemplate\":\"\\uc9c0\\uc5ed=\\uc11c\\uc6b8\\ud2b9\\ubcc4\\uc2dc<br>\\ud589\\uc815\\uad6c\\uc5ed\\ubcc4=\\uc131\\ubd81\\uad6c<br>\\ucd08\\ub4f1\\ud559\\uad50 \\ud559\\uc0dd\\uc218_scaled=%{x}<br>\\uc0ac\\uc124\\ud559\\uc6d0\\uc218(\\uac1c)_scaled=%{y}<br>\\ud3c9\\uade0 \\uae09\\uc5ec(\\ubc31\\ub9cc\\uc6d0)_scaled=%{z}<extra></extra>\",\"legendgroup\":\"\\uc11c\\uc6b8\\ud2b9\\ubcc4\\uc2dc, \\uc131\\ubd81\\uad6c\",\"marker\":{\"color\":\"#636efa\",\"symbol\":\"circle\"},\"mode\":\"markers\",\"name\":\"\\uc11c\\uc6b8\\ud2b9\\ubcc4\\uc2dc, \\uc131\\ubd81\\uad6c\",\"scene\":\"scene\",\"showlegend\":true,\"x\":[0.9982875161793767],\"y\":[0.15008000000000002],\"z\":[0.6261382340519364],\"type\":\"scatter3d\"},{\"hovertemplate\":\"\\uc9c0\\uc5ed=\\uc11c\\uc6b8\\ud2b9\\ubcc4\\uc2dc<br>\\ud589\\uc815\\uad6c\\uc5ed\\ubcc4=\\uc11c\\ucd08\\uad6c<br>\\ucd08\\ub4f1\\ud559\\uad50 \\ud559\\uc0dd\\uc218_scaled=%{x}<br>\\uc0ac\\uc124\\ud559\\uc6d0\\uc218(\\uac1c)_scaled=%{y}<br>\\ud3c9\\uade0 \\uae09\\uc5ec(\\ubc31\\ub9cc\\uc6d0)_scaled=%{z}<extra></extra>\",\"legendgroup\":\"\\uc11c\\uc6b8\\ud2b9\\ubcc4\\uc2dc, \\uc11c\\ucd08\\uad6c\",\"marker\":{\"color\":\"#636efa\",\"symbol\":\"diamond\"},\"mode\":\"markers\",\"name\":\"\\uc11c\\uc6b8\\ud2b9\\ubcc4\\uc2dc, \\uc11c\\ucd08\\uad6c\",\"scene\":\"scene\",\"showlegend\":true,\"x\":[0.3798598053680908],\"y\":[0.38176000000000004],\"z\":[1.2],\"type\":\"scatter3d\"},{\"hovertemplate\":\"\\uc9c0\\uc5ed=\\uc11c\\uc6b8\\ud2b9\\ubcc4\\uc2dc<br>\\ud589\\uc815\\uad6c\\uc5ed\\ubcc4=\\uac15\\ub0a8\\uad6c<br>\\ucd08\\ub4f1\\ud559\\uad50 \\ud559\\uc0dd\\uc218_scaled=%{x}<br>\\uc0ac\\uc124\\ud559\\uc6d0\\uc218(\\uac1c)_scaled=%{y}<br>\\ud3c9\\uade0 \\uae09\\uc5ec(\\ubc31\\ub9cc\\uc6d0)_scaled=%{z}<extra></extra>\",\"legendgroup\":\"\\uc11c\\uc6b8\\ud2b9\\ubcc4\\uc2dc, \\uac15\\ub0a8\\uad6c\",\"marker\":{\"color\":\"#636efa\",\"symbol\":\"square\"},\"mode\":\"markers\",\"name\":\"\\uc11c\\uc6b8\\ud2b9\\ubcc4\\uc2dc, \\uac15\\ub0a8\\uad6c\",\"scene\":\"scene\",\"showlegend\":true,\"x\":[0.4987482622150965],\"y\":[0.8],\"z\":[1.174778223971738],\"type\":\"scatter3d\"},{\"hovertemplate\":\"\\uc9c0\\uc5ed=\\ubd80\\uc0b0\\uad11\\uc5ed\\uc2dc<br>\\ud589\\uc815\\uad6c\\uc5ed\\ubcc4=\\ub0a8\\uad6c<br>\\ucd08\\ub4f1\\ud559\\uad50 \\ud559\\uc0dd\\uc218_scaled=%{x}<br>\\uc0ac\\uc124\\ud559\\uc6d0\\uc218(\\uac1c)_scaled=%{y}<br>\\ud3c9\\uade0 \\uae09\\uc5ec(\\ubc31\\ub9cc\\uc6d0)_scaled=%{z}<extra></extra>\",\"legendgroup\":\"\\ubd80\\uc0b0\\uad11\\uc5ed\\uc2dc, \\ub0a8\\uad6c\",\"marker\":{\"color\":\"#EF553B\",\"symbol\":\"x\"},\"mode\":\"markers\",\"name\":\"\\ubd80\\uc0b0\\uad11\\uc5ed\\uc2dc, \\ub0a8\\uad6c\",\"scene\":\"scene\",\"showlegend\":true,\"x\":[0.6119479703204982],\"y\":[0.11424000000000001],\"z\":[0.5828909635222826],\"type\":\"scatter3d\"},{\"hovertemplate\":\"\\uc9c0\\uc5ed=\\ubd80\\uc0b0\\uad11\\uc5ed\\uc2dc<br>\\ud589\\uc815\\uad6c\\uc5ed\\ubcc4=\\ud574\\uc6b4\\ub300\\uad6c<br>\\ucd08\\ub4f1\\ud559\\uad50 \\ud559\\uc0dd\\uc218_scaled=%{x}<br>\\uc0ac\\uc124\\ud559\\uc6d0\\uc218(\\uac1c)_scaled=%{y}<br>\\ud3c9\\uade0 \\uae09\\uc5ec(\\ubc31\\ub9cc\\uc6d0)_scaled=%{z}<extra></extra>\",\"legendgroup\":\"\\ubd80\\uc0b0\\uad11\\uc5ed\\uc2dc, \\ud574\\uc6b4\\ub300\\uad6c\",\"marker\":{\"color\":\"#EF553B\",\"symbol\":\"cross\"},\"mode\":\"markers\",\"name\":\"\\ubd80\\uc0b0\\uad11\\uc5ed\\uc2dc, \\ud574\\uc6b4\\ub300\\uad6c\",\"scene\":\"scene\",\"showlegend\":true,\"x\":[0.3785894246800079],\"y\":[0.23552],\"z\":[0.6873594500691846],\"type\":\"scatter3d\"},{\"hovertemplate\":\"\\uc9c0\\uc5ed=\\ubd80\\uc0b0\\uad11\\uc5ed\\uc2dc<br>\\ud589\\uc815\\uad6c\\uc5ed\\ubcc4=\\uae08\\uc815\\uad6c<br>\\ucd08\\ub4f1\\ud559\\uad50 \\ud559\\uc0dd\\uc218_scaled=%{x}<br>\\uc0ac\\uc124\\ud559\\uc6d0\\uc218(\\uac1c)_scaled=%{y}<br>\\ud3c9\\uade0 \\uae09\\uc5ec(\\ubc31\\ub9cc\\uc6d0)_scaled=%{z}<extra></extra>\",\"legendgroup\":\"\\ubd80\\uc0b0\\uad11\\uc5ed\\uc2dc, \\uae08\\uc815\\uad6c\",\"marker\":{\"color\":\"#EF553B\",\"symbol\":\"circle\"},\"mode\":\"markers\",\"name\":\"\\ubd80\\uc0b0\\uad11\\uc5ed\\uc2dc, \\uae08\\uc815\\uad6c\",\"scene\":\"scene\",\"showlegend\":true,\"x\":[0.5292294089134384],\"y\":[0.12544],\"z\":[0.5524525028992237],\"type\":\"scatter3d\"},{\"hovertemplate\":\"\\uc9c0\\uc5ed=\\uad11\\uc8fc\\uad11\\uc5ed\\uc2dc<br>\\ud589\\uc815\\uad6c\\uc5ed\\ubcc4=\\ub0a8\\uad6c<br>\\ucd08\\ub4f1\\ud559\\uad50 \\ud559\\uc0dd\\uc218_scaled=%{x}<br>\\uc0ac\\uc124\\ud559\\uc6d0\\uc218(\\uac1c)_scaled=%{y}<br>\\ud3c9\\uade0 \\uae09\\uc5ec(\\ubc31\\ub9cc\\uc6d0)_scaled=%{z}<extra></extra>\",\"legendgroup\":\"\\uad11\\uc8fc\\uad11\\uc5ed\\uc2dc, \\ub0a8\\uad6c\",\"marker\":{\"color\":\"#00cc96\",\"symbol\":\"x\"},\"mode\":\"markers\",\"name\":\"\\uad11\\uc8fc\\uad11\\uc5ed\\uc2dc, \\ub0a8\\uad6c\",\"scene\":\"scene\",\"showlegend\":true,\"x\":[0.3773669828858149],\"y\":[0.20224000000000003],\"z\":[0.5901617825150561],\"type\":\"scatter3d\"},{\"hovertemplate\":\"\\uc9c0\\uc5ed=\\uad11\\uc8fc\\uad11\\uc5ed\\uc2dc<br>\\ud589\\uc815\\uad6c\\uc5ed\\ubcc4=\\ubd81\\uad6c<br>\\ucd08\\ub4f1\\ud559\\uad50 \\ud559\\uc0dd\\uc218_scaled=%{x}<br>\\uc0ac\\uc124\\ud559\\uc6d0\\uc218(\\uac1c)_scaled=%{y}<br>\\ud3c9\\uade0 \\uae09\\uc5ec(\\ubc31\\ub9cc\\uc6d0)_scaled=%{z}<extra></extra>\",\"legendgroup\":\"\\uad11\\uc8fc\\uad11\\uc5ed\\uc2dc, \\ubd81\\uad6c\",\"marker\":{\"color\":\"#00cc96\",\"symbol\":\"diamond\"},\"mode\":\"markers\",\"name\":\"\\uad11\\uc8fc\\uad11\\uc5ed\\uc2dc, \\ubd81\\uad6c\",\"scene\":\"scene\",\"showlegend\":true,\"x\":[0.7021449991743858],\"y\":[0.29760000000000003],\"z\":[0.5178743848629023],\"type\":\"scatter3d\"},{\"hovertemplate\":\"\\uc9c0\\uc5ed=\\uad11\\uc8fc\\uad11\\uc5ed\\uc2dc<br>\\ud589\\uc815\\uad6c\\uc5ed\\ubcc4=\\uad11\\uc0b0\\uad6c<br>\\ucd08\\ub4f1\\ud559\\uad50 \\ud559\\uc0dd\\uc218_scaled=%{x}<br>\\uc0ac\\uc124\\ud559\\uc6d0\\uc218(\\uac1c)_scaled=%{y}<br>\\ud3c9\\uade0 \\uae09\\uc5ec(\\ubc31\\ub9cc\\uc6d0)_scaled=%{z}<extra></extra>\",\"legendgroup\":\"\\uad11\\uc8fc\\uad11\\uc5ed\\uc2dc, \\uad11\\uc0b0\\uad6c\",\"marker\":{\"color\":\"#00cc96\",\"symbol\":\"square\"},\"mode\":\"markers\",\"name\":\"\\uad11\\uc8fc\\uad11\\uc5ed\\uc2dc, \\uad11\\uc0b0\\uad6c\",\"scene\":\"scene\",\"showlegend\":true,\"x\":[0.6665423806454706],\"y\":[0.3008],\"z\":[0.5546551662182689],\"type\":\"scatter3d\"},{\"hovertemplate\":\"\\uc9c0\\uc5ed=\\uacbd\\uae30\\ub3c4<br>\\ud589\\uc815\\uad6c\\uc5ed\\ubcc4=\\uc218\\uc6d0\\uc2dc<br>\\ucd08\\ub4f1\\ud559\\uad50 \\ud559\\uc0dd\\uc218_scaled=%{x}<br>\\uc0ac\\uc124\\ud559\\uc6d0\\uc218(\\uac1c)_scaled=%{y}<br>\\ud3c9\\uade0 \\uae09\\uc5ec(\\ubc31\\ub9cc\\uc6d0)_scaled=%{z}<extra></extra>\",\"legendgroup\":\"\\uacbd\\uae30\\ub3c4, \\uc218\\uc6d0\\uc2dc\",\"marker\":{\"color\":\"#ab63fa\",\"symbol\":\"x\"},\"mode\":\"markers\",\"name\":\"\\uacbd\\uae30\\ub3c4, \\uc218\\uc6d0\\uc2dc\",\"scene\":\"scene\",\"showlegend\":true,\"x\":[1.4870485088340728],\"y\":[0.69632],\"z\":[0.6795997554618575],\"type\":\"scatter3d\"},{\"hovertemplate\":\"\\uc9c0\\uc5ed=\\uacbd\\uae30\\ub3c4<br>\\ud589\\uc815\\uad6c\\uc5ed\\ubcc4=\\uc6a9\\uc778\\uc2dc<br>\\ucd08\\ub4f1\\ud559\\uad50 \\ud559\\uc0dd\\uc218_scaled=%{x}<br>\\uc0ac\\uc124\\ud559\\uc6d0\\uc218(\\uac1c)_scaled=%{y}<br>\\ud3c9\\uade0 \\uae09\\uc5ec(\\ubc31\\ub9cc\\uc6d0)_scaled=%{z}<extra></extra>\",\"legendgroup\":\"\\uacbd\\uae30\\ub3c4, \\uc6a9\\uc778\\uc2dc\",\"marker\":{\"color\":\"#ab63fa\",\"symbol\":\"cross\"},\"mode\":\"markers\",\"name\":\"\\uacbd\\uae30\\ub3c4, \\uc6a9\\uc778\\uc2dc\",\"scene\":\"scene\",\"showlegend\":true,\"x\":[1.5],\"y\":[0.6633600000000001],\"z\":[0.7596408696037689],\"type\":\"scatter3d\"},{\"hovertemplate\":\"\\uc9c0\\uc5ed=\\uacbd\\uae30\\ub3c4<br>\\ud589\\uc815\\uad6c\\uc5ed\\ubcc4=\\ud654\\uc131\\uc2dc<br>\\ucd08\\ub4f1\\ud559\\uad50 \\ud559\\uc0dd\\uc218_scaled=%{x}<br>\\uc0ac\\uc124\\ud559\\uc6d0\\uc218(\\uac1c)_scaled=%{y}<br>\\ud3c9\\uade0 \\uae09\\uc5ec(\\ubc31\\ub9cc\\uc6d0)_scaled=%{z}<extra></extra>\",\"legendgroup\":\"\\uacbd\\uae30\\ub3c4, \\ud654\\uc131\\uc2dc\",\"marker\":{\"color\":\"#ab63fa\",\"symbol\":\"circle\"},\"mode\":\"markers\",\"name\":\"\\uacbd\\uae30\\ub3c4, \\ud654\\uc131\\uc2dc\",\"scene\":\"scene\",\"showlegend\":true,\"x\":[1.356407033168388],\"y\":[0.58176],\"z\":[0.7312518392861727],\"type\":\"scatter3d\"}],                        {\"template\":{\"data\":{\"histogram2dcontour\":[{\"type\":\"histogram2dcontour\",\"colorbar\":{\"outlinewidth\":0,\"ticks\":\"\"},\"colorscale\":[[0.0,\"#0d0887\"],[0.1111111111111111,\"#46039f\"],[0.2222222222222222,\"#7201a8\"],[0.3333333333333333,\"#9c179e\"],[0.4444444444444444,\"#bd3786\"],[0.5555555555555556,\"#d8576b\"],[0.6666666666666666,\"#ed7953\"],[0.7777777777777778,\"#fb9f3a\"],[0.8888888888888888,\"#fdca26\"],[1.0,\"#f0f921\"]]}],\"choropleth\":[{\"type\":\"choropleth\",\"colorbar\":{\"outlinewidth\":0,\"ticks\":\"\"}}],\"histogram2d\":[{\"type\":\"histogram2d\",\"colorbar\":{\"outlinewidth\":0,\"ticks\":\"\"},\"colorscale\":[[0.0,\"#0d0887\"],[0.1111111111111111,\"#46039f\"],[0.2222222222222222,\"#7201a8\"],[0.3333333333333333,\"#9c179e\"],[0.4444444444444444,\"#bd3786\"],[0.5555555555555556,\"#d8576b\"],[0.6666666666666666,\"#ed7953\"],[0.7777777777777778,\"#fb9f3a\"],[0.8888888888888888,\"#fdca26\"],[1.0,\"#f0f921\"]]}],\"heatmap\":[{\"type\":\"heatmap\",\"colorbar\":{\"outlinewidth\":0,\"ticks\":\"\"},\"colorscale\":[[0.0,\"#0d0887\"],[0.1111111111111111,\"#46039f\"],[0.2222222222222222,\"#7201a8\"],[0.3333333333333333,\"#9c179e\"],[0.4444444444444444,\"#bd3786\"],[0.5555555555555556,\"#d8576b\"],[0.6666666666666666,\"#ed7953\"],[0.7777777777777778,\"#fb9f3a\"],[0.8888888888888888,\"#fdca26\"],[1.0,\"#f0f921\"]]}],\"heatmapgl\":[{\"type\":\"heatmapgl\",\"colorbar\":{\"outlinewidth\":0,\"ticks\":\"\"},\"colorscale\":[[0.0,\"#0d0887\"],[0.1111111111111111,\"#46039f\"],[0.2222222222222222,\"#7201a8\"],[0.3333333333333333,\"#9c179e\"],[0.4444444444444444,\"#bd3786\"],[0.5555555555555556,\"#d8576b\"],[0.6666666666666666,\"#ed7953\"],[0.7777777777777778,\"#fb9f3a\"],[0.8888888888888888,\"#fdca26\"],[1.0,\"#f0f921\"]]}],\"contourcarpet\":[{\"type\":\"contourcarpet\",\"colorbar\":{\"outlinewidth\":0,\"ticks\":\"\"}}],\"contour\":[{\"type\":\"contour\",\"colorbar\":{\"outlinewidth\":0,\"ticks\":\"\"},\"colorscale\":[[0.0,\"#0d0887\"],[0.1111111111111111,\"#46039f\"],[0.2222222222222222,\"#7201a8\"],[0.3333333333333333,\"#9c179e\"],[0.4444444444444444,\"#bd3786\"],[0.5555555555555556,\"#d8576b\"],[0.6666666666666666,\"#ed7953\"],[0.7777777777777778,\"#fb9f3a\"],[0.8888888888888888,\"#fdca26\"],[1.0,\"#f0f921\"]]}],\"surface\":[{\"type\":\"surface\",\"colorbar\":{\"outlinewidth\":0,\"ticks\":\"\"},\"colorscale\":[[0.0,\"#0d0887\"],[0.1111111111111111,\"#46039f\"],[0.2222222222222222,\"#7201a8\"],[0.3333333333333333,\"#9c179e\"],[0.4444444444444444,\"#bd3786\"],[0.5555555555555556,\"#d8576b\"],[0.6666666666666666,\"#ed7953\"],[0.7777777777777778,\"#fb9f3a\"],[0.8888888888888888,\"#fdca26\"],[1.0,\"#f0f921\"]]}],\"mesh3d\":[{\"type\":\"mesh3d\",\"colorbar\":{\"outlinewidth\":0,\"ticks\":\"\"}}],\"scatter\":[{\"fillpattern\":{\"fillmode\":\"overlay\",\"size\":10,\"solidity\":0.2},\"type\":\"scatter\"}],\"parcoords\":[{\"type\":\"parcoords\",\"line\":{\"colorbar\":{\"outlinewidth\":0,\"ticks\":\"\"}}}],\"scatterpolargl\":[{\"type\":\"scatterpolargl\",\"marker\":{\"colorbar\":{\"outlinewidth\":0,\"ticks\":\"\"}}}],\"bar\":[{\"error_x\":{\"color\":\"#2a3f5f\"},\"error_y\":{\"color\":\"#2a3f5f\"},\"marker\":{\"line\":{\"color\":\"#E5ECF6\",\"width\":0.5},\"pattern\":{\"fillmode\":\"overlay\",\"size\":10,\"solidity\":0.2}},\"type\":\"bar\"}],\"scattergeo\":[{\"type\":\"scattergeo\",\"marker\":{\"colorbar\":{\"outlinewidth\":0,\"ticks\":\"\"}}}],\"scatterpolar\":[{\"type\":\"scatterpolar\",\"marker\":{\"colorbar\":{\"outlinewidth\":0,\"ticks\":\"\"}}}],\"histogram\":[{\"marker\":{\"pattern\":{\"fillmode\":\"overlay\",\"size\":10,\"solidity\":0.2}},\"type\":\"histogram\"}],\"scattergl\":[{\"type\":\"scattergl\",\"marker\":{\"colorbar\":{\"outlinewidth\":0,\"ticks\":\"\"}}}],\"scatter3d\":[{\"type\":\"scatter3d\",\"line\":{\"colorbar\":{\"outlinewidth\":0,\"ticks\":\"\"}},\"marker\":{\"colorbar\":{\"outlinewidth\":0,\"ticks\":\"\"}}}],\"scattermapbox\":[{\"type\":\"scattermapbox\",\"marker\":{\"colorbar\":{\"outlinewidth\":0,\"ticks\":\"\"}}}],\"scatterternary\":[{\"type\":\"scatterternary\",\"marker\":{\"colorbar\":{\"outlinewidth\":0,\"ticks\":\"\"}}}],\"scattercarpet\":[{\"type\":\"scattercarpet\",\"marker\":{\"colorbar\":{\"outlinewidth\":0,\"ticks\":\"\"}}}],\"carpet\":[{\"aaxis\":{\"endlinecolor\":\"#2a3f5f\",\"gridcolor\":\"white\",\"linecolor\":\"white\",\"minorgridcolor\":\"white\",\"startlinecolor\":\"#2a3f5f\"},\"baxis\":{\"endlinecolor\":\"#2a3f5f\",\"gridcolor\":\"white\",\"linecolor\":\"white\",\"minorgridcolor\":\"white\",\"startlinecolor\":\"#2a3f5f\"},\"type\":\"carpet\"}],\"table\":[{\"cells\":{\"fill\":{\"color\":\"#EBF0F8\"},\"line\":{\"color\":\"white\"}},\"header\":{\"fill\":{\"color\":\"#C8D4E3\"},\"line\":{\"color\":\"white\"}},\"type\":\"table\"}],\"barpolar\":[{\"marker\":{\"line\":{\"color\":\"#E5ECF6\",\"width\":0.5},\"pattern\":{\"fillmode\":\"overlay\",\"size\":10,\"solidity\":0.2}},\"type\":\"barpolar\"}],\"pie\":[{\"automargin\":true,\"type\":\"pie\"}]},\"layout\":{\"autotypenumbers\":\"strict\",\"colorway\":[\"#636efa\",\"#EF553B\",\"#00cc96\",\"#ab63fa\",\"#FFA15A\",\"#19d3f3\",\"#FF6692\",\"#B6E880\",\"#FF97FF\",\"#FECB52\"],\"font\":{\"color\":\"#2a3f5f\"},\"hovermode\":\"closest\",\"hoverlabel\":{\"align\":\"left\"},\"paper_bgcolor\":\"white\",\"plot_bgcolor\":\"#E5ECF6\",\"polar\":{\"bgcolor\":\"#E5ECF6\",\"angularaxis\":{\"gridcolor\":\"white\",\"linecolor\":\"white\",\"ticks\":\"\"},\"radialaxis\":{\"gridcolor\":\"white\",\"linecolor\":\"white\",\"ticks\":\"\"}},\"ternary\":{\"bgcolor\":\"#E5ECF6\",\"aaxis\":{\"gridcolor\":\"white\",\"linecolor\":\"white\",\"ticks\":\"\"},\"baxis\":{\"gridcolor\":\"white\",\"linecolor\":\"white\",\"ticks\":\"\"},\"caxis\":{\"gridcolor\":\"white\",\"linecolor\":\"white\",\"ticks\":\"\"}},\"coloraxis\":{\"colorbar\":{\"outlinewidth\":0,\"ticks\":\"\"}},\"colorscale\":{\"sequential\":[[0.0,\"#0d0887\"],[0.1111111111111111,\"#46039f\"],[0.2222222222222222,\"#7201a8\"],[0.3333333333333333,\"#9c179e\"],[0.4444444444444444,\"#bd3786\"],[0.5555555555555556,\"#d8576b\"],[0.6666666666666666,\"#ed7953\"],[0.7777777777777778,\"#fb9f3a\"],[0.8888888888888888,\"#fdca26\"],[1.0,\"#f0f921\"]],\"sequentialminus\":[[0.0,\"#0d0887\"],[0.1111111111111111,\"#46039f\"],[0.2222222222222222,\"#7201a8\"],[0.3333333333333333,\"#9c179e\"],[0.4444444444444444,\"#bd3786\"],[0.5555555555555556,\"#d8576b\"],[0.6666666666666666,\"#ed7953\"],[0.7777777777777778,\"#fb9f3a\"],[0.8888888888888888,\"#fdca26\"],[1.0,\"#f0f921\"]],\"diverging\":[[0,\"#8e0152\"],[0.1,\"#c51b7d\"],[0.2,\"#de77ae\"],[0.3,\"#f1b6da\"],[0.4,\"#fde0ef\"],[0.5,\"#f7f7f7\"],[0.6,\"#e6f5d0\"],[0.7,\"#b8e186\"],[0.8,\"#7fbc41\"],[0.9,\"#4d9221\"],[1,\"#276419\"]]},\"xaxis\":{\"gridcolor\":\"white\",\"linecolor\":\"white\",\"ticks\":\"\",\"title\":{\"standoff\":15},\"zerolinecolor\":\"white\",\"automargin\":true,\"zerolinewidth\":2},\"yaxis\":{\"gridcolor\":\"white\",\"linecolor\":\"white\",\"ticks\":\"\",\"title\":{\"standoff\":15},\"zerolinecolor\":\"white\",\"automargin\":true,\"zerolinewidth\":2},\"scene\":{\"xaxis\":{\"backgroundcolor\":\"#E5ECF6\",\"gridcolor\":\"white\",\"linecolor\":\"white\",\"showbackground\":true,\"ticks\":\"\",\"zerolinecolor\":\"white\",\"gridwidth\":2},\"yaxis\":{\"backgroundcolor\":\"#E5ECF6\",\"gridcolor\":\"white\",\"linecolor\":\"white\",\"showbackground\":true,\"ticks\":\"\",\"zerolinecolor\":\"white\",\"gridwidth\":2},\"zaxis\":{\"backgroundcolor\":\"#E5ECF6\",\"gridcolor\":\"white\",\"linecolor\":\"white\",\"showbackground\":true,\"ticks\":\"\",\"zerolinecolor\":\"white\",\"gridwidth\":2}},\"shapedefaults\":{\"line\":{\"color\":\"#2a3f5f\"}},\"annotationdefaults\":{\"arrowcolor\":\"#2a3f5f\",\"arrowhead\":0,\"arrowwidth\":1},\"geo\":{\"bgcolor\":\"white\",\"landcolor\":\"#E5ECF6\",\"subunitcolor\":\"white\",\"showland\":true,\"showlakes\":true,\"lakecolor\":\"white\"},\"title\":{\"x\":0.05},\"mapbox\":{\"style\":\"light\"}}},\"scene\":{\"domain\":{\"x\":[0.0,1.0],\"y\":[0.0,1.0]},\"xaxis\":{\"title\":{\"text\":\"\\ucd08\\ub4f1\\ud559\\uad50 \\ud559\\uc0dd\\uc218_scaled\"}},\"yaxis\":{\"title\":{\"text\":\"\\uc0ac\\uc124\\ud559\\uc6d0\\uc218(\\uac1c)_scaled\"}},\"zaxis\":{\"title\":{\"text\":\"\\ud3c9\\uade0 \\uae09\\uc5ec(\\ubc31\\ub9cc\\uc6d0)_scaled\"}}},\"legend\":{\"title\":{\"text\":\"\\uc9c0\\uc5ed, \\ud589\\uc815\\uad6c\\uc5ed\\ubcc4\"},\"tracegroupgap\":0},\"margin\":{\"t\":60}},                        {\"responsive\": true}                    ).then(function(){\n",
       "                            \n",
       "var gd = document.getElementById('997caa05-2555-481a-9d15-0926893efe29');\n",
       "var x = new MutationObserver(function (mutations, observer) {{\n",
       "        var display = window.getComputedStyle(gd).display;\n",
       "        if (!display || display === 'none') {{\n",
       "            console.log([gd, 'removed!']);\n",
       "            Plotly.purge(gd);\n",
       "            observer.disconnect();\n",
       "        }}\n",
       "}});\n",
       "\n",
       "// Listen for the removal of the full notebook cells\n",
       "var notebookContainer = gd.closest('#notebook-container');\n",
       "if (notebookContainer) {{\n",
       "    x.observe(notebookContainer, {childList: true});\n",
       "}}\n",
       "\n",
       "// Listen for the clearing of the current output cell\n",
       "var outputEl = gd.closest('.output');\n",
       "if (outputEl) {{\n",
       "    x.observe(outputEl, {childList: true});\n",
       "}}\n",
       "\n",
       "                        })                };                });            </script>        </div>"
      ]
     },
     "metadata": {},
     "output_type": "display_data"
    }
   ],
   "source": [
    "import plotly.express as px\n",
    "# 상위 n개 지역 중 특정 지역에 속하는 행정구역을 리스트로 만든다\n",
    "top_2_ranked = df_2022[df_2022['지역별 순위'] < 4]\n",
    "select_region=top_2_ranked[top_2_ranked['지역'].isin(['서울특별시','경기도','부산광역시','광주광역시'])]\n",
    "\n",
    "# 각 지역별 상위 3개의 자치구에 대해 시각화를 진행한다.\n",
    "df_data = select_region\n",
    "fig = px.scatter_3d(df_data, x='초등학교 학생수_scaled', y='사설학원수(개)_scaled', z='평균 급여(백만원)_scaled',\n",
    "              color='지역', symbol='행정구역별')\n",
    "fig.show()"
   ]
  },
  {
   "cell_type": "markdown",
   "id": "8d35310a",
   "metadata": {},
   "source": [
    "### 광주지역에 대해서만 실행 "
   ]
  },
  {
   "cell_type": "code",
   "execution_count": 277,
   "id": "5cd40b1e",
   "metadata": {},
   "outputs": [
    {
     "data": {
      "application/vnd.plotly.v1+json": {
       "config": {
        "plotlyServerURL": "https://plot.ly"
       },
       "data": [
        {
         "hovertemplate": "지역=광주광역시<br>행정구역별=동구<br>초등학교 학생수_scaled=%{x}<br>사설학원수(개)_scaled=%{y}<br>평균 급여(백만원)_scaled=%{z}<extra></extra>",
         "legendgroup": "광주광역시, 동구",
         "marker": {
          "color": "#636efa",
          "symbol": "circle"
         },
         "mode": "markers",
         "name": "광주광역시, 동구",
         "scene": "scene",
         "showlegend": true,
         "type": "scatter3d",
         "x": [
          0.328125749045217
         ],
         "y": [
          0.09728
         ],
         "z": [
          0.5955275000408341
         ]
        },
        {
         "hovertemplate": "지역=광주광역시<br>행정구역별=서구<br>초등학교 학생수_scaled=%{x}<br>사설학원수(개)_scaled=%{y}<br>평균 급여(백만원)_scaled=%{z}<extra></extra>",
         "legendgroup": "광주광역시, 서구",
         "marker": {
          "color": "#636efa",
          "symbol": "diamond"
         },
         "mode": "markers",
         "name": "광주광역시, 서구",
         "scene": "scene",
         "showlegend": true,
         "type": "scatter3d",
         "x": [
          0.2535008708899057
         ],
         "y": [
          0.22976000000000002
         ],
         "z": [
          0.5840300259238431
         ]
        },
        {
         "hovertemplate": "지역=광주광역시<br>행정구역별=남구<br>초등학교 학생수_scaled=%{x}<br>사설학원수(개)_scaled=%{y}<br>평균 급여(백만원)_scaled=%{z}<extra></extra>",
         "legendgroup": "광주광역시, 남구",
         "marker": {
          "color": "#636efa",
          "symbol": "square"
         },
         "mode": "markers",
         "name": "광주광역시, 남구",
         "scene": "scene",
         "showlegend": true,
         "type": "scatter3d",
         "x": [
          0.3773669828858149
         ],
         "y": [
          0.20224000000000003
         ],
         "z": [
          0.5901617825150561
         ]
        },
        {
         "hovertemplate": "지역=광주광역시<br>행정구역별=북구<br>초등학교 학생수_scaled=%{x}<br>사설학원수(개)_scaled=%{y}<br>평균 급여(백만원)_scaled=%{z}<extra></extra>",
         "legendgroup": "광주광역시, 북구",
         "marker": {
          "color": "#636efa",
          "symbol": "x"
         },
         "mode": "markers",
         "name": "광주광역시, 북구",
         "scene": "scene",
         "showlegend": true,
         "type": "scatter3d",
         "x": [
          0.7021449991743858
         ],
         "y": [
          0.29760000000000003
         ],
         "z": [
          0.5178743848629023
         ]
        },
        {
         "hovertemplate": "지역=광주광역시<br>행정구역별=광산구<br>초등학교 학생수_scaled=%{x}<br>사설학원수(개)_scaled=%{y}<br>평균 급여(백만원)_scaled=%{z}<extra></extra>",
         "legendgroup": "광주광역시, 광산구",
         "marker": {
          "color": "#636efa",
          "symbol": "cross"
         },
         "mode": "markers",
         "name": "광주광역시, 광산구",
         "scene": "scene",
         "showlegend": true,
         "type": "scatter3d",
         "x": [
          0.6665423806454706
         ],
         "y": [
          0.3008
         ],
         "z": [
          0.5546551662182689
         ]
        }
       ],
       "layout": {
        "legend": {
         "title": {
          "text": "지역, 행정구역별"
         },
         "tracegroupgap": 0
        },
        "margin": {
         "t": 60
        },
        "scene": {
         "domain": {
          "x": [
           0,
           1
          ],
          "y": [
           0,
           1
          ]
         },
         "xaxis": {
          "title": {
           "text": "초등학교 학생수_scaled"
          }
         },
         "yaxis": {
          "title": {
           "text": "사설학원수(개)_scaled"
          }
         },
         "zaxis": {
          "title": {
           "text": "평균 급여(백만원)_scaled"
          }
         }
        },
        "template": {
         "data": {
          "bar": [
           {
            "error_x": {
             "color": "#2a3f5f"
            },
            "error_y": {
             "color": "#2a3f5f"
            },
            "marker": {
             "line": {
              "color": "#E5ECF6",
              "width": 0.5
             },
             "pattern": {
              "fillmode": "overlay",
              "size": 10,
              "solidity": 0.2
             }
            },
            "type": "bar"
           }
          ],
          "barpolar": [
           {
            "marker": {
             "line": {
              "color": "#E5ECF6",
              "width": 0.5
             },
             "pattern": {
              "fillmode": "overlay",
              "size": 10,
              "solidity": 0.2
             }
            },
            "type": "barpolar"
           }
          ],
          "carpet": [
           {
            "aaxis": {
             "endlinecolor": "#2a3f5f",
             "gridcolor": "white",
             "linecolor": "white",
             "minorgridcolor": "white",
             "startlinecolor": "#2a3f5f"
            },
            "baxis": {
             "endlinecolor": "#2a3f5f",
             "gridcolor": "white",
             "linecolor": "white",
             "minorgridcolor": "white",
             "startlinecolor": "#2a3f5f"
            },
            "type": "carpet"
           }
          ],
          "choropleth": [
           {
            "colorbar": {
             "outlinewidth": 0,
             "ticks": ""
            },
            "type": "choropleth"
           }
          ],
          "contour": [
           {
            "colorbar": {
             "outlinewidth": 0,
             "ticks": ""
            },
            "colorscale": [
             [
              0,
              "#0d0887"
             ],
             [
              0.1111111111111111,
              "#46039f"
             ],
             [
              0.2222222222222222,
              "#7201a8"
             ],
             [
              0.3333333333333333,
              "#9c179e"
             ],
             [
              0.4444444444444444,
              "#bd3786"
             ],
             [
              0.5555555555555556,
              "#d8576b"
             ],
             [
              0.6666666666666666,
              "#ed7953"
             ],
             [
              0.7777777777777778,
              "#fb9f3a"
             ],
             [
              0.8888888888888888,
              "#fdca26"
             ],
             [
              1,
              "#f0f921"
             ]
            ],
            "type": "contour"
           }
          ],
          "contourcarpet": [
           {
            "colorbar": {
             "outlinewidth": 0,
             "ticks": ""
            },
            "type": "contourcarpet"
           }
          ],
          "heatmap": [
           {
            "colorbar": {
             "outlinewidth": 0,
             "ticks": ""
            },
            "colorscale": [
             [
              0,
              "#0d0887"
             ],
             [
              0.1111111111111111,
              "#46039f"
             ],
             [
              0.2222222222222222,
              "#7201a8"
             ],
             [
              0.3333333333333333,
              "#9c179e"
             ],
             [
              0.4444444444444444,
              "#bd3786"
             ],
             [
              0.5555555555555556,
              "#d8576b"
             ],
             [
              0.6666666666666666,
              "#ed7953"
             ],
             [
              0.7777777777777778,
              "#fb9f3a"
             ],
             [
              0.8888888888888888,
              "#fdca26"
             ],
             [
              1,
              "#f0f921"
             ]
            ],
            "type": "heatmap"
           }
          ],
          "heatmapgl": [
           {
            "colorbar": {
             "outlinewidth": 0,
             "ticks": ""
            },
            "colorscale": [
             [
              0,
              "#0d0887"
             ],
             [
              0.1111111111111111,
              "#46039f"
             ],
             [
              0.2222222222222222,
              "#7201a8"
             ],
             [
              0.3333333333333333,
              "#9c179e"
             ],
             [
              0.4444444444444444,
              "#bd3786"
             ],
             [
              0.5555555555555556,
              "#d8576b"
             ],
             [
              0.6666666666666666,
              "#ed7953"
             ],
             [
              0.7777777777777778,
              "#fb9f3a"
             ],
             [
              0.8888888888888888,
              "#fdca26"
             ],
             [
              1,
              "#f0f921"
             ]
            ],
            "type": "heatmapgl"
           }
          ],
          "histogram": [
           {
            "marker": {
             "pattern": {
              "fillmode": "overlay",
              "size": 10,
              "solidity": 0.2
             }
            },
            "type": "histogram"
           }
          ],
          "histogram2d": [
           {
            "colorbar": {
             "outlinewidth": 0,
             "ticks": ""
            },
            "colorscale": [
             [
              0,
              "#0d0887"
             ],
             [
              0.1111111111111111,
              "#46039f"
             ],
             [
              0.2222222222222222,
              "#7201a8"
             ],
             [
              0.3333333333333333,
              "#9c179e"
             ],
             [
              0.4444444444444444,
              "#bd3786"
             ],
             [
              0.5555555555555556,
              "#d8576b"
             ],
             [
              0.6666666666666666,
              "#ed7953"
             ],
             [
              0.7777777777777778,
              "#fb9f3a"
             ],
             [
              0.8888888888888888,
              "#fdca26"
             ],
             [
              1,
              "#f0f921"
             ]
            ],
            "type": "histogram2d"
           }
          ],
          "histogram2dcontour": [
           {
            "colorbar": {
             "outlinewidth": 0,
             "ticks": ""
            },
            "colorscale": [
             [
              0,
              "#0d0887"
             ],
             [
              0.1111111111111111,
              "#46039f"
             ],
             [
              0.2222222222222222,
              "#7201a8"
             ],
             [
              0.3333333333333333,
              "#9c179e"
             ],
             [
              0.4444444444444444,
              "#bd3786"
             ],
             [
              0.5555555555555556,
              "#d8576b"
             ],
             [
              0.6666666666666666,
              "#ed7953"
             ],
             [
              0.7777777777777778,
              "#fb9f3a"
             ],
             [
              0.8888888888888888,
              "#fdca26"
             ],
             [
              1,
              "#f0f921"
             ]
            ],
            "type": "histogram2dcontour"
           }
          ],
          "mesh3d": [
           {
            "colorbar": {
             "outlinewidth": 0,
             "ticks": ""
            },
            "type": "mesh3d"
           }
          ],
          "parcoords": [
           {
            "line": {
             "colorbar": {
              "outlinewidth": 0,
              "ticks": ""
             }
            },
            "type": "parcoords"
           }
          ],
          "pie": [
           {
            "automargin": true,
            "type": "pie"
           }
          ],
          "scatter": [
           {
            "fillpattern": {
             "fillmode": "overlay",
             "size": 10,
             "solidity": 0.2
            },
            "type": "scatter"
           }
          ],
          "scatter3d": [
           {
            "line": {
             "colorbar": {
              "outlinewidth": 0,
              "ticks": ""
             }
            },
            "marker": {
             "colorbar": {
              "outlinewidth": 0,
              "ticks": ""
             }
            },
            "type": "scatter3d"
           }
          ],
          "scattercarpet": [
           {
            "marker": {
             "colorbar": {
              "outlinewidth": 0,
              "ticks": ""
             }
            },
            "type": "scattercarpet"
           }
          ],
          "scattergeo": [
           {
            "marker": {
             "colorbar": {
              "outlinewidth": 0,
              "ticks": ""
             }
            },
            "type": "scattergeo"
           }
          ],
          "scattergl": [
           {
            "marker": {
             "colorbar": {
              "outlinewidth": 0,
              "ticks": ""
             }
            },
            "type": "scattergl"
           }
          ],
          "scattermapbox": [
           {
            "marker": {
             "colorbar": {
              "outlinewidth": 0,
              "ticks": ""
             }
            },
            "type": "scattermapbox"
           }
          ],
          "scatterpolar": [
           {
            "marker": {
             "colorbar": {
              "outlinewidth": 0,
              "ticks": ""
             }
            },
            "type": "scatterpolar"
           }
          ],
          "scatterpolargl": [
           {
            "marker": {
             "colorbar": {
              "outlinewidth": 0,
              "ticks": ""
             }
            },
            "type": "scatterpolargl"
           }
          ],
          "scatterternary": [
           {
            "marker": {
             "colorbar": {
              "outlinewidth": 0,
              "ticks": ""
             }
            },
            "type": "scatterternary"
           }
          ],
          "surface": [
           {
            "colorbar": {
             "outlinewidth": 0,
             "ticks": ""
            },
            "colorscale": [
             [
              0,
              "#0d0887"
             ],
             [
              0.1111111111111111,
              "#46039f"
             ],
             [
              0.2222222222222222,
              "#7201a8"
             ],
             [
              0.3333333333333333,
              "#9c179e"
             ],
             [
              0.4444444444444444,
              "#bd3786"
             ],
             [
              0.5555555555555556,
              "#d8576b"
             ],
             [
              0.6666666666666666,
              "#ed7953"
             ],
             [
              0.7777777777777778,
              "#fb9f3a"
             ],
             [
              0.8888888888888888,
              "#fdca26"
             ],
             [
              1,
              "#f0f921"
             ]
            ],
            "type": "surface"
           }
          ],
          "table": [
           {
            "cells": {
             "fill": {
              "color": "#EBF0F8"
             },
             "line": {
              "color": "white"
             }
            },
            "header": {
             "fill": {
              "color": "#C8D4E3"
             },
             "line": {
              "color": "white"
             }
            },
            "type": "table"
           }
          ]
         },
         "layout": {
          "annotationdefaults": {
           "arrowcolor": "#2a3f5f",
           "arrowhead": 0,
           "arrowwidth": 1
          },
          "autotypenumbers": "strict",
          "coloraxis": {
           "colorbar": {
            "outlinewidth": 0,
            "ticks": ""
           }
          },
          "colorscale": {
           "diverging": [
            [
             0,
             "#8e0152"
            ],
            [
             0.1,
             "#c51b7d"
            ],
            [
             0.2,
             "#de77ae"
            ],
            [
             0.3,
             "#f1b6da"
            ],
            [
             0.4,
             "#fde0ef"
            ],
            [
             0.5,
             "#f7f7f7"
            ],
            [
             0.6,
             "#e6f5d0"
            ],
            [
             0.7,
             "#b8e186"
            ],
            [
             0.8,
             "#7fbc41"
            ],
            [
             0.9,
             "#4d9221"
            ],
            [
             1,
             "#276419"
            ]
           ],
           "sequential": [
            [
             0,
             "#0d0887"
            ],
            [
             0.1111111111111111,
             "#46039f"
            ],
            [
             0.2222222222222222,
             "#7201a8"
            ],
            [
             0.3333333333333333,
             "#9c179e"
            ],
            [
             0.4444444444444444,
             "#bd3786"
            ],
            [
             0.5555555555555556,
             "#d8576b"
            ],
            [
             0.6666666666666666,
             "#ed7953"
            ],
            [
             0.7777777777777778,
             "#fb9f3a"
            ],
            [
             0.8888888888888888,
             "#fdca26"
            ],
            [
             1,
             "#f0f921"
            ]
           ],
           "sequentialminus": [
            [
             0,
             "#0d0887"
            ],
            [
             0.1111111111111111,
             "#46039f"
            ],
            [
             0.2222222222222222,
             "#7201a8"
            ],
            [
             0.3333333333333333,
             "#9c179e"
            ],
            [
             0.4444444444444444,
             "#bd3786"
            ],
            [
             0.5555555555555556,
             "#d8576b"
            ],
            [
             0.6666666666666666,
             "#ed7953"
            ],
            [
             0.7777777777777778,
             "#fb9f3a"
            ],
            [
             0.8888888888888888,
             "#fdca26"
            ],
            [
             1,
             "#f0f921"
            ]
           ]
          },
          "colorway": [
           "#636efa",
           "#EF553B",
           "#00cc96",
           "#ab63fa",
           "#FFA15A",
           "#19d3f3",
           "#FF6692",
           "#B6E880",
           "#FF97FF",
           "#FECB52"
          ],
          "font": {
           "color": "#2a3f5f"
          },
          "geo": {
           "bgcolor": "white",
           "lakecolor": "white",
           "landcolor": "#E5ECF6",
           "showlakes": true,
           "showland": true,
           "subunitcolor": "white"
          },
          "hoverlabel": {
           "align": "left"
          },
          "hovermode": "closest",
          "mapbox": {
           "style": "light"
          },
          "paper_bgcolor": "white",
          "plot_bgcolor": "#E5ECF6",
          "polar": {
           "angularaxis": {
            "gridcolor": "white",
            "linecolor": "white",
            "ticks": ""
           },
           "bgcolor": "#E5ECF6",
           "radialaxis": {
            "gridcolor": "white",
            "linecolor": "white",
            "ticks": ""
           }
          },
          "scene": {
           "xaxis": {
            "backgroundcolor": "#E5ECF6",
            "gridcolor": "white",
            "gridwidth": 2,
            "linecolor": "white",
            "showbackground": true,
            "ticks": "",
            "zerolinecolor": "white"
           },
           "yaxis": {
            "backgroundcolor": "#E5ECF6",
            "gridcolor": "white",
            "gridwidth": 2,
            "linecolor": "white",
            "showbackground": true,
            "ticks": "",
            "zerolinecolor": "white"
           },
           "zaxis": {
            "backgroundcolor": "#E5ECF6",
            "gridcolor": "white",
            "gridwidth": 2,
            "linecolor": "white",
            "showbackground": true,
            "ticks": "",
            "zerolinecolor": "white"
           }
          },
          "shapedefaults": {
           "line": {
            "color": "#2a3f5f"
           }
          },
          "ternary": {
           "aaxis": {
            "gridcolor": "white",
            "linecolor": "white",
            "ticks": ""
           },
           "baxis": {
            "gridcolor": "white",
            "linecolor": "white",
            "ticks": ""
           },
           "bgcolor": "#E5ECF6",
           "caxis": {
            "gridcolor": "white",
            "linecolor": "white",
            "ticks": ""
           }
          },
          "title": {
           "x": 0.05
          },
          "xaxis": {
           "automargin": true,
           "gridcolor": "white",
           "linecolor": "white",
           "ticks": "",
           "title": {
            "standoff": 15
           },
           "zerolinecolor": "white",
           "zerolinewidth": 2
          },
          "yaxis": {
           "automargin": true,
           "gridcolor": "white",
           "linecolor": "white",
           "ticks": "",
           "title": {
            "standoff": 15
           },
           "zerolinecolor": "white",
           "zerolinewidth": 2
          }
         }
        }
       }
      },
      "text/html": [
       "<div>                            <div id=\"c2f6b833-9956-4995-90c6-4d852369115c\" class=\"plotly-graph-div\" style=\"height:525px; width:100%;\"></div>            <script type=\"text/javascript\">                require([\"plotly\"], function(Plotly) {                    window.PLOTLYENV=window.PLOTLYENV || {};                                    if (document.getElementById(\"c2f6b833-9956-4995-90c6-4d852369115c\")) {                    Plotly.newPlot(                        \"c2f6b833-9956-4995-90c6-4d852369115c\",                        [{\"hovertemplate\":\"\\uc9c0\\uc5ed=\\uad11\\uc8fc\\uad11\\uc5ed\\uc2dc<br>\\ud589\\uc815\\uad6c\\uc5ed\\ubcc4=\\ub3d9\\uad6c<br>\\ucd08\\ub4f1\\ud559\\uad50 \\ud559\\uc0dd\\uc218_scaled=%{x}<br>\\uc0ac\\uc124\\ud559\\uc6d0\\uc218(\\uac1c)_scaled=%{y}<br>\\ud3c9\\uade0 \\uae09\\uc5ec(\\ubc31\\ub9cc\\uc6d0)_scaled=%{z}<extra></extra>\",\"legendgroup\":\"\\uad11\\uc8fc\\uad11\\uc5ed\\uc2dc, \\ub3d9\\uad6c\",\"marker\":{\"color\":\"#636efa\",\"symbol\":\"circle\"},\"mode\":\"markers\",\"name\":\"\\uad11\\uc8fc\\uad11\\uc5ed\\uc2dc, \\ub3d9\\uad6c\",\"scene\":\"scene\",\"showlegend\":true,\"x\":[0.328125749045217],\"y\":[0.09728],\"z\":[0.5955275000408341],\"type\":\"scatter3d\"},{\"hovertemplate\":\"\\uc9c0\\uc5ed=\\uad11\\uc8fc\\uad11\\uc5ed\\uc2dc<br>\\ud589\\uc815\\uad6c\\uc5ed\\ubcc4=\\uc11c\\uad6c<br>\\ucd08\\ub4f1\\ud559\\uad50 \\ud559\\uc0dd\\uc218_scaled=%{x}<br>\\uc0ac\\uc124\\ud559\\uc6d0\\uc218(\\uac1c)_scaled=%{y}<br>\\ud3c9\\uade0 \\uae09\\uc5ec(\\ubc31\\ub9cc\\uc6d0)_scaled=%{z}<extra></extra>\",\"legendgroup\":\"\\uad11\\uc8fc\\uad11\\uc5ed\\uc2dc, \\uc11c\\uad6c\",\"marker\":{\"color\":\"#636efa\",\"symbol\":\"diamond\"},\"mode\":\"markers\",\"name\":\"\\uad11\\uc8fc\\uad11\\uc5ed\\uc2dc, \\uc11c\\uad6c\",\"scene\":\"scene\",\"showlegend\":true,\"x\":[0.2535008708899057],\"y\":[0.22976000000000002],\"z\":[0.5840300259238431],\"type\":\"scatter3d\"},{\"hovertemplate\":\"\\uc9c0\\uc5ed=\\uad11\\uc8fc\\uad11\\uc5ed\\uc2dc<br>\\ud589\\uc815\\uad6c\\uc5ed\\ubcc4=\\ub0a8\\uad6c<br>\\ucd08\\ub4f1\\ud559\\uad50 \\ud559\\uc0dd\\uc218_scaled=%{x}<br>\\uc0ac\\uc124\\ud559\\uc6d0\\uc218(\\uac1c)_scaled=%{y}<br>\\ud3c9\\uade0 \\uae09\\uc5ec(\\ubc31\\ub9cc\\uc6d0)_scaled=%{z}<extra></extra>\",\"legendgroup\":\"\\uad11\\uc8fc\\uad11\\uc5ed\\uc2dc, \\ub0a8\\uad6c\",\"marker\":{\"color\":\"#636efa\",\"symbol\":\"square\"},\"mode\":\"markers\",\"name\":\"\\uad11\\uc8fc\\uad11\\uc5ed\\uc2dc, \\ub0a8\\uad6c\",\"scene\":\"scene\",\"showlegend\":true,\"x\":[0.3773669828858149],\"y\":[0.20224000000000003],\"z\":[0.5901617825150561],\"type\":\"scatter3d\"},{\"hovertemplate\":\"\\uc9c0\\uc5ed=\\uad11\\uc8fc\\uad11\\uc5ed\\uc2dc<br>\\ud589\\uc815\\uad6c\\uc5ed\\ubcc4=\\ubd81\\uad6c<br>\\ucd08\\ub4f1\\ud559\\uad50 \\ud559\\uc0dd\\uc218_scaled=%{x}<br>\\uc0ac\\uc124\\ud559\\uc6d0\\uc218(\\uac1c)_scaled=%{y}<br>\\ud3c9\\uade0 \\uae09\\uc5ec(\\ubc31\\ub9cc\\uc6d0)_scaled=%{z}<extra></extra>\",\"legendgroup\":\"\\uad11\\uc8fc\\uad11\\uc5ed\\uc2dc, \\ubd81\\uad6c\",\"marker\":{\"color\":\"#636efa\",\"symbol\":\"x\"},\"mode\":\"markers\",\"name\":\"\\uad11\\uc8fc\\uad11\\uc5ed\\uc2dc, \\ubd81\\uad6c\",\"scene\":\"scene\",\"showlegend\":true,\"x\":[0.7021449991743858],\"y\":[0.29760000000000003],\"z\":[0.5178743848629023],\"type\":\"scatter3d\"},{\"hovertemplate\":\"\\uc9c0\\uc5ed=\\uad11\\uc8fc\\uad11\\uc5ed\\uc2dc<br>\\ud589\\uc815\\uad6c\\uc5ed\\ubcc4=\\uad11\\uc0b0\\uad6c<br>\\ucd08\\ub4f1\\ud559\\uad50 \\ud559\\uc0dd\\uc218_scaled=%{x}<br>\\uc0ac\\uc124\\ud559\\uc6d0\\uc218(\\uac1c)_scaled=%{y}<br>\\ud3c9\\uade0 \\uae09\\uc5ec(\\ubc31\\ub9cc\\uc6d0)_scaled=%{z}<extra></extra>\",\"legendgroup\":\"\\uad11\\uc8fc\\uad11\\uc5ed\\uc2dc, \\uad11\\uc0b0\\uad6c\",\"marker\":{\"color\":\"#636efa\",\"symbol\":\"cross\"},\"mode\":\"markers\",\"name\":\"\\uad11\\uc8fc\\uad11\\uc5ed\\uc2dc, \\uad11\\uc0b0\\uad6c\",\"scene\":\"scene\",\"showlegend\":true,\"x\":[0.6665423806454706],\"y\":[0.3008],\"z\":[0.5546551662182689],\"type\":\"scatter3d\"}],                        {\"template\":{\"data\":{\"histogram2dcontour\":[{\"type\":\"histogram2dcontour\",\"colorbar\":{\"outlinewidth\":0,\"ticks\":\"\"},\"colorscale\":[[0.0,\"#0d0887\"],[0.1111111111111111,\"#46039f\"],[0.2222222222222222,\"#7201a8\"],[0.3333333333333333,\"#9c179e\"],[0.4444444444444444,\"#bd3786\"],[0.5555555555555556,\"#d8576b\"],[0.6666666666666666,\"#ed7953\"],[0.7777777777777778,\"#fb9f3a\"],[0.8888888888888888,\"#fdca26\"],[1.0,\"#f0f921\"]]}],\"choropleth\":[{\"type\":\"choropleth\",\"colorbar\":{\"outlinewidth\":0,\"ticks\":\"\"}}],\"histogram2d\":[{\"type\":\"histogram2d\",\"colorbar\":{\"outlinewidth\":0,\"ticks\":\"\"},\"colorscale\":[[0.0,\"#0d0887\"],[0.1111111111111111,\"#46039f\"],[0.2222222222222222,\"#7201a8\"],[0.3333333333333333,\"#9c179e\"],[0.4444444444444444,\"#bd3786\"],[0.5555555555555556,\"#d8576b\"],[0.6666666666666666,\"#ed7953\"],[0.7777777777777778,\"#fb9f3a\"],[0.8888888888888888,\"#fdca26\"],[1.0,\"#f0f921\"]]}],\"heatmap\":[{\"type\":\"heatmap\",\"colorbar\":{\"outlinewidth\":0,\"ticks\":\"\"},\"colorscale\":[[0.0,\"#0d0887\"],[0.1111111111111111,\"#46039f\"],[0.2222222222222222,\"#7201a8\"],[0.3333333333333333,\"#9c179e\"],[0.4444444444444444,\"#bd3786\"],[0.5555555555555556,\"#d8576b\"],[0.6666666666666666,\"#ed7953\"],[0.7777777777777778,\"#fb9f3a\"],[0.8888888888888888,\"#fdca26\"],[1.0,\"#f0f921\"]]}],\"heatmapgl\":[{\"type\":\"heatmapgl\",\"colorbar\":{\"outlinewidth\":0,\"ticks\":\"\"},\"colorscale\":[[0.0,\"#0d0887\"],[0.1111111111111111,\"#46039f\"],[0.2222222222222222,\"#7201a8\"],[0.3333333333333333,\"#9c179e\"],[0.4444444444444444,\"#bd3786\"],[0.5555555555555556,\"#d8576b\"],[0.6666666666666666,\"#ed7953\"],[0.7777777777777778,\"#fb9f3a\"],[0.8888888888888888,\"#fdca26\"],[1.0,\"#f0f921\"]]}],\"contourcarpet\":[{\"type\":\"contourcarpet\",\"colorbar\":{\"outlinewidth\":0,\"ticks\":\"\"}}],\"contour\":[{\"type\":\"contour\",\"colorbar\":{\"outlinewidth\":0,\"ticks\":\"\"},\"colorscale\":[[0.0,\"#0d0887\"],[0.1111111111111111,\"#46039f\"],[0.2222222222222222,\"#7201a8\"],[0.3333333333333333,\"#9c179e\"],[0.4444444444444444,\"#bd3786\"],[0.5555555555555556,\"#d8576b\"],[0.6666666666666666,\"#ed7953\"],[0.7777777777777778,\"#fb9f3a\"],[0.8888888888888888,\"#fdca26\"],[1.0,\"#f0f921\"]]}],\"surface\":[{\"type\":\"surface\",\"colorbar\":{\"outlinewidth\":0,\"ticks\":\"\"},\"colorscale\":[[0.0,\"#0d0887\"],[0.1111111111111111,\"#46039f\"],[0.2222222222222222,\"#7201a8\"],[0.3333333333333333,\"#9c179e\"],[0.4444444444444444,\"#bd3786\"],[0.5555555555555556,\"#d8576b\"],[0.6666666666666666,\"#ed7953\"],[0.7777777777777778,\"#fb9f3a\"],[0.8888888888888888,\"#fdca26\"],[1.0,\"#f0f921\"]]}],\"mesh3d\":[{\"type\":\"mesh3d\",\"colorbar\":{\"outlinewidth\":0,\"ticks\":\"\"}}],\"scatter\":[{\"fillpattern\":{\"fillmode\":\"overlay\",\"size\":10,\"solidity\":0.2},\"type\":\"scatter\"}],\"parcoords\":[{\"type\":\"parcoords\",\"line\":{\"colorbar\":{\"outlinewidth\":0,\"ticks\":\"\"}}}],\"scatterpolargl\":[{\"type\":\"scatterpolargl\",\"marker\":{\"colorbar\":{\"outlinewidth\":0,\"ticks\":\"\"}}}],\"bar\":[{\"error_x\":{\"color\":\"#2a3f5f\"},\"error_y\":{\"color\":\"#2a3f5f\"},\"marker\":{\"line\":{\"color\":\"#E5ECF6\",\"width\":0.5},\"pattern\":{\"fillmode\":\"overlay\",\"size\":10,\"solidity\":0.2}},\"type\":\"bar\"}],\"scattergeo\":[{\"type\":\"scattergeo\",\"marker\":{\"colorbar\":{\"outlinewidth\":0,\"ticks\":\"\"}}}],\"scatterpolar\":[{\"type\":\"scatterpolar\",\"marker\":{\"colorbar\":{\"outlinewidth\":0,\"ticks\":\"\"}}}],\"histogram\":[{\"marker\":{\"pattern\":{\"fillmode\":\"overlay\",\"size\":10,\"solidity\":0.2}},\"type\":\"histogram\"}],\"scattergl\":[{\"type\":\"scattergl\",\"marker\":{\"colorbar\":{\"outlinewidth\":0,\"ticks\":\"\"}}}],\"scatter3d\":[{\"type\":\"scatter3d\",\"line\":{\"colorbar\":{\"outlinewidth\":0,\"ticks\":\"\"}},\"marker\":{\"colorbar\":{\"outlinewidth\":0,\"ticks\":\"\"}}}],\"scattermapbox\":[{\"type\":\"scattermapbox\",\"marker\":{\"colorbar\":{\"outlinewidth\":0,\"ticks\":\"\"}}}],\"scatterternary\":[{\"type\":\"scatterternary\",\"marker\":{\"colorbar\":{\"outlinewidth\":0,\"ticks\":\"\"}}}],\"scattercarpet\":[{\"type\":\"scattercarpet\",\"marker\":{\"colorbar\":{\"outlinewidth\":0,\"ticks\":\"\"}}}],\"carpet\":[{\"aaxis\":{\"endlinecolor\":\"#2a3f5f\",\"gridcolor\":\"white\",\"linecolor\":\"white\",\"minorgridcolor\":\"white\",\"startlinecolor\":\"#2a3f5f\"},\"baxis\":{\"endlinecolor\":\"#2a3f5f\",\"gridcolor\":\"white\",\"linecolor\":\"white\",\"minorgridcolor\":\"white\",\"startlinecolor\":\"#2a3f5f\"},\"type\":\"carpet\"}],\"table\":[{\"cells\":{\"fill\":{\"color\":\"#EBF0F8\"},\"line\":{\"color\":\"white\"}},\"header\":{\"fill\":{\"color\":\"#C8D4E3\"},\"line\":{\"color\":\"white\"}},\"type\":\"table\"}],\"barpolar\":[{\"marker\":{\"line\":{\"color\":\"#E5ECF6\",\"width\":0.5},\"pattern\":{\"fillmode\":\"overlay\",\"size\":10,\"solidity\":0.2}},\"type\":\"barpolar\"}],\"pie\":[{\"automargin\":true,\"type\":\"pie\"}]},\"layout\":{\"autotypenumbers\":\"strict\",\"colorway\":[\"#636efa\",\"#EF553B\",\"#00cc96\",\"#ab63fa\",\"#FFA15A\",\"#19d3f3\",\"#FF6692\",\"#B6E880\",\"#FF97FF\",\"#FECB52\"],\"font\":{\"color\":\"#2a3f5f\"},\"hovermode\":\"closest\",\"hoverlabel\":{\"align\":\"left\"},\"paper_bgcolor\":\"white\",\"plot_bgcolor\":\"#E5ECF6\",\"polar\":{\"bgcolor\":\"#E5ECF6\",\"angularaxis\":{\"gridcolor\":\"white\",\"linecolor\":\"white\",\"ticks\":\"\"},\"radialaxis\":{\"gridcolor\":\"white\",\"linecolor\":\"white\",\"ticks\":\"\"}},\"ternary\":{\"bgcolor\":\"#E5ECF6\",\"aaxis\":{\"gridcolor\":\"white\",\"linecolor\":\"white\",\"ticks\":\"\"},\"baxis\":{\"gridcolor\":\"white\",\"linecolor\":\"white\",\"ticks\":\"\"},\"caxis\":{\"gridcolor\":\"white\",\"linecolor\":\"white\",\"ticks\":\"\"}},\"coloraxis\":{\"colorbar\":{\"outlinewidth\":0,\"ticks\":\"\"}},\"colorscale\":{\"sequential\":[[0.0,\"#0d0887\"],[0.1111111111111111,\"#46039f\"],[0.2222222222222222,\"#7201a8\"],[0.3333333333333333,\"#9c179e\"],[0.4444444444444444,\"#bd3786\"],[0.5555555555555556,\"#d8576b\"],[0.6666666666666666,\"#ed7953\"],[0.7777777777777778,\"#fb9f3a\"],[0.8888888888888888,\"#fdca26\"],[1.0,\"#f0f921\"]],\"sequentialminus\":[[0.0,\"#0d0887\"],[0.1111111111111111,\"#46039f\"],[0.2222222222222222,\"#7201a8\"],[0.3333333333333333,\"#9c179e\"],[0.4444444444444444,\"#bd3786\"],[0.5555555555555556,\"#d8576b\"],[0.6666666666666666,\"#ed7953\"],[0.7777777777777778,\"#fb9f3a\"],[0.8888888888888888,\"#fdca26\"],[1.0,\"#f0f921\"]],\"diverging\":[[0,\"#8e0152\"],[0.1,\"#c51b7d\"],[0.2,\"#de77ae\"],[0.3,\"#f1b6da\"],[0.4,\"#fde0ef\"],[0.5,\"#f7f7f7\"],[0.6,\"#e6f5d0\"],[0.7,\"#b8e186\"],[0.8,\"#7fbc41\"],[0.9,\"#4d9221\"],[1,\"#276419\"]]},\"xaxis\":{\"gridcolor\":\"white\",\"linecolor\":\"white\",\"ticks\":\"\",\"title\":{\"standoff\":15},\"zerolinecolor\":\"white\",\"automargin\":true,\"zerolinewidth\":2},\"yaxis\":{\"gridcolor\":\"white\",\"linecolor\":\"white\",\"ticks\":\"\",\"title\":{\"standoff\":15},\"zerolinecolor\":\"white\",\"automargin\":true,\"zerolinewidth\":2},\"scene\":{\"xaxis\":{\"backgroundcolor\":\"#E5ECF6\",\"gridcolor\":\"white\",\"linecolor\":\"white\",\"showbackground\":true,\"ticks\":\"\",\"zerolinecolor\":\"white\",\"gridwidth\":2},\"yaxis\":{\"backgroundcolor\":\"#E5ECF6\",\"gridcolor\":\"white\",\"linecolor\":\"white\",\"showbackground\":true,\"ticks\":\"\",\"zerolinecolor\":\"white\",\"gridwidth\":2},\"zaxis\":{\"backgroundcolor\":\"#E5ECF6\",\"gridcolor\":\"white\",\"linecolor\":\"white\",\"showbackground\":true,\"ticks\":\"\",\"zerolinecolor\":\"white\",\"gridwidth\":2}},\"shapedefaults\":{\"line\":{\"color\":\"#2a3f5f\"}},\"annotationdefaults\":{\"arrowcolor\":\"#2a3f5f\",\"arrowhead\":0,\"arrowwidth\":1},\"geo\":{\"bgcolor\":\"white\",\"landcolor\":\"#E5ECF6\",\"subunitcolor\":\"white\",\"showland\":true,\"showlakes\":true,\"lakecolor\":\"white\"},\"title\":{\"x\":0.05},\"mapbox\":{\"style\":\"light\"}}},\"scene\":{\"domain\":{\"x\":[0.0,1.0],\"y\":[0.0,1.0]},\"xaxis\":{\"title\":{\"text\":\"\\ucd08\\ub4f1\\ud559\\uad50 \\ud559\\uc0dd\\uc218_scaled\"}},\"yaxis\":{\"title\":{\"text\":\"\\uc0ac\\uc124\\ud559\\uc6d0\\uc218(\\uac1c)_scaled\"}},\"zaxis\":{\"title\":{\"text\":\"\\ud3c9\\uade0 \\uae09\\uc5ec(\\ubc31\\ub9cc\\uc6d0)_scaled\"}}},\"legend\":{\"title\":{\"text\":\"\\uc9c0\\uc5ed, \\ud589\\uc815\\uad6c\\uc5ed\\ubcc4\"},\"tracegroupgap\":0},\"margin\":{\"t\":60}},                        {\"responsive\": true}                    ).then(function(){\n",
       "                            \n",
       "var gd = document.getElementById('c2f6b833-9956-4995-90c6-4d852369115c');\n",
       "var x = new MutationObserver(function (mutations, observer) {{\n",
       "        var display = window.getComputedStyle(gd).display;\n",
       "        if (!display || display === 'none') {{\n",
       "            console.log([gd, 'removed!']);\n",
       "            Plotly.purge(gd);\n",
       "            observer.disconnect();\n",
       "        }}\n",
       "}});\n",
       "\n",
       "// Listen for the removal of the full notebook cells\n",
       "var notebookContainer = gd.closest('#notebook-container');\n",
       "if (notebookContainer) {{\n",
       "    x.observe(notebookContainer, {childList: true});\n",
       "}}\n",
       "\n",
       "// Listen for the clearing of the current output cell\n",
       "var outputEl = gd.closest('.output');\n",
       "if (outputEl) {{\n",
       "    x.observe(outputEl, {childList: true});\n",
       "}}\n",
       "\n",
       "                        })                };                });            </script>        </div>"
      ]
     },
     "metadata": {},
     "output_type": "display_data"
    }
   ],
   "source": [
    "\n",
    "select_region= df_2022[df_2022['지역'] == '광주광역시']\n",
    "\n",
    "# 각 지역별 상위 3개의 자치구에 대해 시각화를 진행한다.\n",
    "df_data = select_region\n",
    "fig = px.scatter_3d(df_data, x='초등학교 학생수_scaled', y='사설학원수(개)_scaled', z='평균 급여(백만원)_scaled',\n",
    "              color='지역', symbol='행정구역별')\n",
    "fig.show()"
   ]
  },
  {
   "cell_type": "code",
   "execution_count": null,
   "id": "cfc14638",
   "metadata": {},
   "outputs": [],
   "source": []
  },
  {
   "cell_type": "code",
   "execution_count": 253,
   "id": "f9b86fb8",
   "metadata": {},
   "outputs": [],
   "source": [
    "df_2022_re=df_2022[['지역','행정구역별','초등학교 학생수','사설학원수(개)','평균 급여(백만원)','가중합','지역별 순위']]"
   ]
  },
  {
   "cell_type": "code",
   "execution_count": 282,
   "id": "6a9e2b14",
   "metadata": {},
   "outputs": [
    {
     "data": {
      "text/html": [
       "<div>\n",
       "<style scoped>\n",
       "    .dataframe tbody tr th:only-of-type {\n",
       "        vertical-align: middle;\n",
       "    }\n",
       "\n",
       "    .dataframe tbody tr th {\n",
       "        vertical-align: top;\n",
       "    }\n",
       "\n",
       "    .dataframe thead th {\n",
       "        text-align: right;\n",
       "    }\n",
       "</style>\n",
       "<table border=\"1\" class=\"dataframe\">\n",
       "  <thead>\n",
       "    <tr style=\"text-align: right;\">\n",
       "      <th></th>\n",
       "      <th>지역</th>\n",
       "      <th>행정구역별</th>\n",
       "      <th>초등학교 학생수</th>\n",
       "      <th>사설학원수(개)</th>\n",
       "      <th>평균 급여(백만원)</th>\n",
       "      <th>가중합</th>\n",
       "      <th>지역별 순위</th>\n",
       "    </tr>\n",
       "  </thead>\n",
       "  <tbody>\n",
       "    <tr>\n",
       "      <th>64</th>\n",
       "      <td>광주광역시</td>\n",
       "      <td>광산구</td>\n",
       "      <td>83424.00</td>\n",
       "      <td>940.00</td>\n",
       "      <td>39.62</td>\n",
       "      <td>1.52</td>\n",
       "      <td>1.00</td>\n",
       "    </tr>\n",
       "    <tr>\n",
       "      <th>63</th>\n",
       "      <td>광주광역시</td>\n",
       "      <td>북구</td>\n",
       "      <td>87880.00</td>\n",
       "      <td>930.00</td>\n",
       "      <td>36.99</td>\n",
       "      <td>1.52</td>\n",
       "      <td>2.00</td>\n",
       "    </tr>\n",
       "    <tr>\n",
       "      <th>62</th>\n",
       "      <td>광주광역시</td>\n",
       "      <td>남구</td>\n",
       "      <td>47231.00</td>\n",
       "      <td>632.00</td>\n",
       "      <td>42.15</td>\n",
       "      <td>1.17</td>\n",
       "      <td>3.00</td>\n",
       "    </tr>\n",
       "    <tr>\n",
       "      <th>61</th>\n",
       "      <td>광주광역시</td>\n",
       "      <td>서구</td>\n",
       "      <td>31728.00</td>\n",
       "      <td>718.00</td>\n",
       "      <td>41.72</td>\n",
       "      <td>1.07</td>\n",
       "      <td>4.00</td>\n",
       "    </tr>\n",
       "    <tr>\n",
       "      <th>60</th>\n",
       "      <td>광주광역시</td>\n",
       "      <td>동구</td>\n",
       "      <td>41068.00</td>\n",
       "      <td>304.00</td>\n",
       "      <td>42.54</td>\n",
       "      <td>1.02</td>\n",
       "      <td>5.00</td>\n",
       "    </tr>\n",
       "  </tbody>\n",
       "</table>\n",
       "</div>"
      ],
      "text/plain": [
       "       지역 행정구역별  초등학교 학생수  사설학원수(개)  평균 급여(백만원)  가중합  지역별 순위\n",
       "64  광주광역시   광산구  83424.00    940.00       39.62 1.52    1.00\n",
       "63  광주광역시    북구  87880.00    930.00       36.99 1.52    2.00\n",
       "62  광주광역시    남구  47231.00    632.00       42.15 1.17    3.00\n",
       "61  광주광역시    서구  31728.00    718.00       41.72 1.07    4.00\n",
       "60  광주광역시    동구  41068.00    304.00       42.54 1.02    5.00"
      ]
     },
     "execution_count": 282,
     "metadata": {},
     "output_type": "execute_result"
    }
   ],
   "source": [
    "df_2022_re[df_2022_re['지역']=='광주광역시'].sort_values(by='지역별 순위', ascending=True)"
   ]
  },
  {
   "cell_type": "code",
   "execution_count": null,
   "id": "e43e5618",
   "metadata": {},
   "outputs": [],
   "source": []
  },
  {
   "cell_type": "markdown",
   "id": "39a52357",
   "metadata": {},
   "source": [
    "# 시도별 데이터 재정렬"
   ]
  },
  {
   "cell_type": "code",
   "execution_count": 219,
   "id": "c53fbf49",
   "metadata": {},
   "outputs": [],
   "source": [
    "df_purunet = Dataset['purunet - purunet (1)']\n",
    "df_heabeop = Dataset['heabeop_좌표변환_최종']"
   ]
  },
  {
   "cell_type": "code",
   "execution_count": 220,
   "id": "55602137",
   "metadata": {},
   "outputs": [],
   "source": [
    "df_heabeop['지역'] = df_heabeop['주소'].apply(lambda x:x.split(' ')[0])\n",
    "df_heabeop['행정구역별'] = df_heabeop['주소'].apply(lambda x:x.split(' ')[1])\n"
   ]
  },
  {
   "cell_type": "code",
   "execution_count": 221,
   "id": "6350652e",
   "metadata": {},
   "outputs": [],
   "source": [
    "df_heabeop['지역'] = df_heabeop['지역'].apply(change_region_name)"
   ]
  },
  {
   "cell_type": "code",
   "execution_count": 222,
   "id": "0ac7a2f4",
   "metadata": {},
   "outputs": [
    {
     "data": {
      "text/html": [
       "<div>\n",
       "<style scoped>\n",
       "    .dataframe tbody tr th:only-of-type {\n",
       "        vertical-align: middle;\n",
       "    }\n",
       "\n",
       "    .dataframe tbody tr th {\n",
       "        vertical-align: top;\n",
       "    }\n",
       "\n",
       "    .dataframe thead th {\n",
       "        text-align: right;\n",
       "    }\n",
       "</style>\n",
       "<table border=\"1\" class=\"dataframe\">\n",
       "  <thead>\n",
       "    <tr style=\"text-align: right;\">\n",
       "      <th></th>\n",
       "      <th>title</th>\n",
       "      <th>주소</th>\n",
       "      <th>Latitude</th>\n",
       "      <th>Longitude</th>\n",
       "      <th>지역</th>\n",
       "      <th>행정구역별</th>\n",
       "    </tr>\n",
       "  </thead>\n",
       "  <tbody>\n",
       "    <tr>\n",
       "      <th>0</th>\n",
       "      <td>수원 광교SK레이크점</td>\n",
       "      <td>경기 수원시 영통구 법조로 25 (하동, 광교 SK VIEW Lake)</td>\n",
       "      <td>37.29</td>\n",
       "      <td>127.06</td>\n",
       "      <td>경기도</td>\n",
       "      <td>수원시</td>\n",
       "    </tr>\n",
       "    <tr>\n",
       "      <th>1</th>\n",
       "      <td>스마트해법 북아현점</td>\n",
       "      <td>서울 서대문구 북아현동 180-27</td>\n",
       "      <td>37.56</td>\n",
       "      <td>126.95</td>\n",
       "      <td>서울특별시</td>\n",
       "      <td>서대문구</td>\n",
       "    </tr>\n",
       "    <tr>\n",
       "      <th>2</th>\n",
       "      <td>스마트해법수학 왕지점</td>\n",
       "      <td>전남 순천시 연동남길 39 (조례동, 서영옥머리마당)</td>\n",
       "      <td>34.96</td>\n",
       "      <td>127.53</td>\n",
       "      <td>전라남도</td>\n",
       "      <td>순천시</td>\n",
       "    </tr>\n",
       "    <tr>\n",
       "      <th>3</th>\n",
       "      <td>DMC스마트해법학원</td>\n",
       "      <td>서울 서대문구 증가로 150 (남가좌동)</td>\n",
       "      <td>37.57</td>\n",
       "      <td>126.92</td>\n",
       "      <td>서울특별시</td>\n",
       "      <td>서대문구</td>\n",
       "    </tr>\n",
       "    <tr>\n",
       "      <th>4</th>\n",
       "      <td>sk view</td>\n",
       "      <td>서울 영등포구 여의대방로35가길 19 (신길동, 보라매 SK VIEW)</td>\n",
       "      <td>37.50</td>\n",
       "      <td>126.92</td>\n",
       "      <td>서울특별시</td>\n",
       "      <td>영등포구</td>\n",
       "    </tr>\n",
       "    <tr>\n",
       "      <th>...</th>\n",
       "      <td>...</td>\n",
       "      <td>...</td>\n",
       "      <td>...</td>\n",
       "      <td>...</td>\n",
       "      <td>...</td>\n",
       "      <td>...</td>\n",
       "    </tr>\n",
       "    <tr>\n",
       "      <th>2291</th>\n",
       "      <td>효자세븐팰리스점</td>\n",
       "      <td>전북 전주시 완산구 호암로 75-11 (효자동2가, 7단지아파트상가)</td>\n",
       "      <td>35.81</td>\n",
       "      <td>127.10</td>\n",
       "      <td>전라북도</td>\n",
       "      <td>전주시</td>\n",
       "    </tr>\n",
       "    <tr>\n",
       "      <th>2292</th>\n",
       "      <td>효자포스코</td>\n",
       "      <td>전북 전주시 완산구 봉곡로 132</td>\n",
       "      <td>35.81</td>\n",
       "      <td>127.11</td>\n",
       "      <td>전라북도</td>\n",
       "      <td>전주시</td>\n",
       "    </tr>\n",
       "    <tr>\n",
       "      <th>2293</th>\n",
       "      <td>효천연세수학점</td>\n",
       "      <td>전북 전주시 완산구 효천서로 20</td>\n",
       "      <td>35.80</td>\n",
       "      <td>127.10</td>\n",
       "      <td>전라북도</td>\n",
       "      <td>전주시</td>\n",
       "    </tr>\n",
       "    <tr>\n",
       "      <th>2294</th>\n",
       "      <td>효천우미린2차점</td>\n",
       "      <td>전북 전주시 완산구 효천서로 20</td>\n",
       "      <td>35.80</td>\n",
       "      <td>127.10</td>\n",
       "      <td>전라북도</td>\n",
       "      <td>전주시</td>\n",
       "    </tr>\n",
       "    <tr>\n",
       "      <th>2295</th>\n",
       "      <td>효천점</td>\n",
       "      <td>전북 전주시 완산구 효천중앙로 57 (효자동2가, 모악빌딩)</td>\n",
       "      <td>35.80</td>\n",
       "      <td>127.11</td>\n",
       "      <td>전라북도</td>\n",
       "      <td>전주시</td>\n",
       "    </tr>\n",
       "  </tbody>\n",
       "</table>\n",
       "<p>2296 rows × 6 columns</p>\n",
       "</div>"
      ],
      "text/plain": [
       "            title                                       주소  Latitude  \\\n",
       "0     수원 광교SK레이크점  경기 수원시 영통구 법조로 25 (하동, 광교 SK VIEW Lake)     37.29   \n",
       "1      스마트해법 북아현점                      서울 서대문구 북아현동 180-27     37.56   \n",
       "2     스마트해법수학 왕지점            전남 순천시 연동남길 39 (조례동, 서영옥머리마당)     34.96   \n",
       "3      DMC스마트해법학원                   서울 서대문구 증가로 150 (남가좌동)     37.57   \n",
       "4         sk view  서울 영등포구 여의대방로35가길 19 (신길동, 보라매 SK VIEW)     37.50   \n",
       "...           ...                                      ...       ...   \n",
       "2291     효자세븐팰리스점   전북 전주시 완산구 호암로 75-11 (효자동2가, 7단지아파트상가)     35.81   \n",
       "2292        효자포스코                       전북 전주시 완산구 봉곡로 132     35.81   \n",
       "2293      효천연세수학점                       전북 전주시 완산구 효천서로 20     35.80   \n",
       "2294     효천우미린2차점                       전북 전주시 완산구 효천서로 20     35.80   \n",
       "2295          효천점        전북 전주시 완산구 효천중앙로 57 (효자동2가, 모악빌딩)     35.80   \n",
       "\n",
       "      Longitude     지역 행정구역별  \n",
       "0        127.06    경기도   수원시  \n",
       "1        126.95  서울특별시  서대문구  \n",
       "2        127.53   전라남도   순천시  \n",
       "3        126.92  서울특별시  서대문구  \n",
       "4        126.92  서울특별시  영등포구  \n",
       "...         ...    ...   ...  \n",
       "2291     127.10   전라북도   전주시  \n",
       "2292     127.11   전라북도   전주시  \n",
       "2293     127.10   전라북도   전주시  \n",
       "2294     127.10   전라북도   전주시  \n",
       "2295     127.11   전라북도   전주시  \n",
       "\n",
       "[2296 rows x 6 columns]"
      ]
     },
     "execution_count": 222,
     "metadata": {},
     "output_type": "execute_result"
    }
   ],
   "source": [
    "df_heabeop"
   ]
  },
  {
   "cell_type": "code",
   "execution_count": 223,
   "id": "64e7aa04",
   "metadata": {},
   "outputs": [],
   "source": [
    "df_purunet['지역'] = df_purunet['주소'].apply(lambda x:x.split(' ')[0])\n",
    "df_purunet['행정구역별'] = df_purunet['주소'].apply(lambda x:x.split(' ')[1])\n",
    "df_purunet['지역'] = df_purunet['지역'].apply(change_region_name)"
   ]
  },
  {
   "cell_type": "code",
   "execution_count": 224,
   "id": "c6e8c50d",
   "metadata": {},
   "outputs": [
    {
     "data": {
      "text/html": [
       "<div>\n",
       "<style scoped>\n",
       "    .dataframe tbody tr th:only-of-type {\n",
       "        vertical-align: middle;\n",
       "    }\n",
       "\n",
       "    .dataframe tbody tr th {\n",
       "        vertical-align: top;\n",
       "    }\n",
       "\n",
       "    .dataframe thead th {\n",
       "        text-align: right;\n",
       "    }\n",
       "</style>\n",
       "<table border=\"1\" class=\"dataframe\">\n",
       "  <thead>\n",
       "    <tr style=\"text-align: right;\">\n",
       "      <th></th>\n",
       "      <th>title</th>\n",
       "      <th>주소</th>\n",
       "      <th>Latitude</th>\n",
       "      <th>Longitude</th>\n",
       "      <th>지번</th>\n",
       "      <th>지역</th>\n",
       "      <th>행정구역별</th>\n",
       "    </tr>\n",
       "  </thead>\n",
       "  <tbody>\n",
       "    <tr>\n",
       "      <th>0</th>\n",
       "      <td>푸르넷공부방</td>\n",
       "      <td>경기 광명시 오리로 374</td>\n",
       "      <td>37.44</td>\n",
       "      <td>126.88</td>\n",
       "      <td>(지번) 소하동 1242-13</td>\n",
       "      <td>경기도</td>\n",
       "      <td>광명시</td>\n",
       "    </tr>\n",
       "    <tr>\n",
       "      <th>1</th>\n",
       "      <td>푸르넷 소하공부방</td>\n",
       "      <td>경기 광명시 소하일로52번길 29 102호</td>\n",
       "      <td>37.45</td>\n",
       "      <td>126.89</td>\n",
       "      <td>(지번) 소하동 1311-13</td>\n",
       "      <td>경기도</td>\n",
       "      <td>광명시</td>\n",
       "    </tr>\n",
       "    <tr>\n",
       "      <th>2</th>\n",
       "      <td>푸르넷공부방</td>\n",
       "      <td>경기 안양시 만안구 충훈로71번길 36</td>\n",
       "      <td>37.41</td>\n",
       "      <td>126.90</td>\n",
       "      <td>(지번) 석수동 782-9</td>\n",
       "      <td>경기도</td>\n",
       "      <td>안양시</td>\n",
       "    </tr>\n",
       "    <tr>\n",
       "      <th>3</th>\n",
       "      <td>푸르넷공부방</td>\n",
       "      <td>경기 안양시 만안구 충훈로 51 석수아이파크 109동</td>\n",
       "      <td>37.41</td>\n",
       "      <td>126.90</td>\n",
       "      <td>(지번) 석수동 794</td>\n",
       "      <td>경기도</td>\n",
       "      <td>안양시</td>\n",
       "    </tr>\n",
       "    <tr>\n",
       "      <th>4</th>\n",
       "      <td>푸르넷 수정공부방</td>\n",
       "      <td>경기 광명시 하안로 364 904동 804호</td>\n",
       "      <td>37.47</td>\n",
       "      <td>126.88</td>\n",
       "      <td>(지번) 하안동 13</td>\n",
       "      <td>경기도</td>\n",
       "      <td>광명시</td>\n",
       "    </tr>\n",
       "    <tr>\n",
       "      <th>...</th>\n",
       "      <td>...</td>\n",
       "      <td>...</td>\n",
       "      <td>...</td>\n",
       "      <td>...</td>\n",
       "      <td>...</td>\n",
       "      <td>...</td>\n",
       "      <td>...</td>\n",
       "    </tr>\n",
       "    <tr>\n",
       "      <th>313</th>\n",
       "      <td>서귀서초푸르넷공부방</td>\n",
       "      <td>제주특별자치도 서귀포시 솜반천로 31</td>\n",
       "      <td>33.25</td>\n",
       "      <td>126.56</td>\n",
       "      <td>(지번) 서홍동 444-1</td>\n",
       "      <td>제주특별자치도</td>\n",
       "      <td>서귀포시</td>\n",
       "    </tr>\n",
       "    <tr>\n",
       "      <th>314</th>\n",
       "      <td>푸르넷공부방 한림점</td>\n",
       "      <td>제주특별자치도 제주시 한림읍 한림로6길 23</td>\n",
       "      <td>33.41</td>\n",
       "      <td>126.26</td>\n",
       "      <td>(지번) 한림읍 한림리 1454-15</td>\n",
       "      <td>제주특별자치도</td>\n",
       "      <td>제주시</td>\n",
       "    </tr>\n",
       "    <tr>\n",
       "      <th>315</th>\n",
       "      <td>한천빌라푸르넷공부방</td>\n",
       "      <td>제주특별자치도 제주시 용남1길 42-24 102호</td>\n",
       "      <td>33.51</td>\n",
       "      <td>126.51</td>\n",
       "      <td>(지번) 용담일동 262-9</td>\n",
       "      <td>제주특별자치도</td>\n",
       "      <td>제주시</td>\n",
       "    </tr>\n",
       "    <tr>\n",
       "      <th>316</th>\n",
       "      <td>푸르넷위미초공부방</td>\n",
       "      <td>제주특별자치도 서귀포시 남원읍 태위로 68 2층</td>\n",
       "      <td>33.27</td>\n",
       "      <td>126.65</td>\n",
       "      <td>(지번) 남원읍 위미리 3126-1</td>\n",
       "      <td>제주특별자치도</td>\n",
       "      <td>서귀포시</td>\n",
       "    </tr>\n",
       "    <tr>\n",
       "      <th>317</th>\n",
       "      <td>푸르넷공부방 서귀포지점</td>\n",
       "      <td>제주특별자치도 서귀포시 일주동로 8544 동인빌딩 6층</td>\n",
       "      <td>33.26</td>\n",
       "      <td>126.58</td>\n",
       "      <td>(지번) 동홍동 497-2</td>\n",
       "      <td>제주특별자치도</td>\n",
       "      <td>서귀포시</td>\n",
       "    </tr>\n",
       "  </tbody>\n",
       "</table>\n",
       "<p>318 rows × 7 columns</p>\n",
       "</div>"
      ],
      "text/plain": [
       "            title                              주소  Latitude  Longitude  \\\n",
       "0          푸르넷공부방                  경기 광명시 오리로 374     37.44     126.88   \n",
       "1       푸르넷 소하공부방         경기 광명시 소하일로52번길 29 102호     37.45     126.89   \n",
       "2          푸르넷공부방           경기 안양시 만안구 충훈로71번길 36     37.41     126.90   \n",
       "3          푸르넷공부방   경기 안양시 만안구 충훈로 51 석수아이파크 109동     37.41     126.90   \n",
       "4       푸르넷 수정공부방        경기 광명시 하안로 364 904동 804호     37.47     126.88   \n",
       "..            ...                             ...       ...        ...   \n",
       "313    서귀서초푸르넷공부방            제주특별자치도 서귀포시 솜반천로 31     33.25     126.56   \n",
       "314    푸르넷공부방 한림점        제주특별자치도 제주시 한림읍 한림로6길 23     33.41     126.26   \n",
       "315    한천빌라푸르넷공부방     제주특별자치도 제주시 용남1길 42-24 102호     33.51     126.51   \n",
       "316     푸르넷위미초공부방      제주특별자치도 서귀포시 남원읍 태위로 68 2층     33.27     126.65   \n",
       "317  푸르넷공부방 서귀포지점  제주특별자치도 서귀포시 일주동로 8544 동인빌딩 6층     33.26     126.58   \n",
       "\n",
       "                       지번       지역 행정구역별  \n",
       "0        (지번) 소하동 1242-13      경기도   광명시  \n",
       "1        (지번) 소하동 1311-13      경기도   광명시  \n",
       "2          (지번) 석수동 782-9      경기도   안양시  \n",
       "3            (지번) 석수동 794      경기도   안양시  \n",
       "4             (지번) 하안동 13      경기도   광명시  \n",
       "..                    ...      ...   ...  \n",
       "313        (지번) 서홍동 444-1  제주특별자치도  서귀포시  \n",
       "314  (지번) 한림읍 한림리 1454-15  제주특별자치도   제주시  \n",
       "315       (지번) 용담일동 262-9  제주특별자치도   제주시  \n",
       "316   (지번) 남원읍 위미리 3126-1  제주특별자치도  서귀포시  \n",
       "317        (지번) 동홍동 497-2  제주특별자치도  서귀포시  \n",
       "\n",
       "[318 rows x 7 columns]"
      ]
     },
     "execution_count": 224,
     "metadata": {},
     "output_type": "execute_result"
    }
   ],
   "source": [
    "df_purunet"
   ]
  },
  {
   "cell_type": "code",
   "execution_count": 225,
   "id": "f2e7571c",
   "metadata": {},
   "outputs": [],
   "source": [
    "df_ranked1 = df_2022.copy()"
   ]
  },
  {
   "cell_type": "code",
   "execution_count": null,
   "id": "4a8cba9d",
   "metadata": {},
   "outputs": [],
   "source": []
  },
  {
   "cell_type": "code",
   "execution_count": 226,
   "id": "d3fd2c29",
   "metadata": {},
   "outputs": [],
   "source": [
    "# 새로운 컬럼 초기값 0으로\n",
    "df_ranked1['해법수학 수'] = 0\n",
    "df_ranked1['푸르넷 공부방 수'] = 0"
   ]
  },
  {
   "cell_type": "code",
   "execution_count": 227,
   "id": "47cad844",
   "metadata": {},
   "outputs": [],
   "source": [
    "# 행정구역별 개수\n",
    "for index, row in df_ranked1.iterrows():\n",
    "    matching_rows = df_heabeop[(df_heabeop['행정구역별'] == row['행정구역별']) & (df_heabeop['지역'] == row['지역'])]\n",
    "    count = len(matching_rows)\n",
    "    df_ranked1.at[index, '해법수학 수'] = count\n",
    "    \n",
    "for index, row in df_ranked1.iterrows():\n",
    "    matching_rows = df_purunet[(df_purunet['행정구역별'] == row['행정구역별']) & (df_purunet['지역'] == row['지역'])]\n",
    "    count = len(matching_rows)\n",
    "    df_ranked1.at[index, '푸르넷 공부방 수'] = count"
   ]
  },
  {
   "cell_type": "code",
   "execution_count": 228,
   "id": "90e494c0",
   "metadata": {},
   "outputs": [
    {
     "data": {
      "text/html": [
       "<div>\n",
       "<style scoped>\n",
       "    .dataframe tbody tr th:only-of-type {\n",
       "        vertical-align: middle;\n",
       "    }\n",
       "\n",
       "    .dataframe tbody tr th {\n",
       "        vertical-align: top;\n",
       "    }\n",
       "\n",
       "    .dataframe thead th {\n",
       "        text-align: right;\n",
       "    }\n",
       "</style>\n",
       "<table border=\"1\" class=\"dataframe\">\n",
       "  <thead>\n",
       "    <tr style=\"text-align: right;\">\n",
       "      <th></th>\n",
       "      <th>지역</th>\n",
       "      <th>행정구역별</th>\n",
       "      <th>초등학교 학생수</th>\n",
       "      <th>사설학원수(개)</th>\n",
       "      <th>평균 급여(백만원)</th>\n",
       "      <th>Target</th>\n",
       "      <th>초등학교 학생수_scaled</th>\n",
       "      <th>사설학원수(개)_scaled</th>\n",
       "      <th>평균 급여(백만원)_scaled</th>\n",
       "      <th>가중합</th>\n",
       "      <th>순위</th>\n",
       "      <th>지역별 순위</th>\n",
       "      <th>지역별 학생수 순위</th>\n",
       "      <th>해법수학 수</th>\n",
       "      <th>푸르넷 공부방 수</th>\n",
       "    </tr>\n",
       "  </thead>\n",
       "  <tbody>\n",
       "    <tr>\n",
       "      <th>0</th>\n",
       "      <td>서울특별시</td>\n",
       "      <td>종로구</td>\n",
       "      <td>53537.00</td>\n",
       "      <td>248.00</td>\n",
       "      <td>55.40</td>\n",
       "      <td>1</td>\n",
       "      <td>0.43</td>\n",
       "      <td>0.08</td>\n",
       "      <td>0.78</td>\n",
       "      <td>1.28</td>\n",
       "      <td>51.00</td>\n",
       "      <td>14.00</td>\n",
       "      <td>12.00</td>\n",
       "      <td>2</td>\n",
       "      <td>0</td>\n",
       "    </tr>\n",
       "    <tr>\n",
       "      <th>1</th>\n",
       "      <td>서울특별시</td>\n",
       "      <td>중구</td>\n",
       "      <td>34946.00</td>\n",
       "      <td>108.00</td>\n",
       "      <td>51.57</td>\n",
       "      <td>1</td>\n",
       "      <td>0.28</td>\n",
       "      <td>0.03</td>\n",
       "      <td>0.72</td>\n",
       "      <td>1.04</td>\n",
       "      <td>77.00</td>\n",
       "      <td>21.00</td>\n",
       "      <td>20.00</td>\n",
       "      <td>3</td>\n",
       "      <td>0</td>\n",
       "    </tr>\n",
       "    <tr>\n",
       "      <th>2</th>\n",
       "      <td>서울특별시</td>\n",
       "      <td>용산구</td>\n",
       "      <td>27552.00</td>\n",
       "      <td>151.00</td>\n",
       "      <td>75.40</td>\n",
       "      <td>1</td>\n",
       "      <td>0.22</td>\n",
       "      <td>0.05</td>\n",
       "      <td>1.06</td>\n",
       "      <td>1.32</td>\n",
       "      <td>45.00</td>\n",
       "      <td>11.00</td>\n",
       "      <td>23.00</td>\n",
       "      <td>4</td>\n",
       "      <td>0</td>\n",
       "    </tr>\n",
       "    <tr>\n",
       "      <th>3</th>\n",
       "      <td>서울특별시</td>\n",
       "      <td>성동구</td>\n",
       "      <td>50768.00</td>\n",
       "      <td>294.00</td>\n",
       "      <td>58.09</td>\n",
       "      <td>1</td>\n",
       "      <td>0.41</td>\n",
       "      <td>0.09</td>\n",
       "      <td>0.81</td>\n",
       "      <td>1.31</td>\n",
       "      <td>46.00</td>\n",
       "      <td>12.00</td>\n",
       "      <td>14.00</td>\n",
       "      <td>14</td>\n",
       "      <td>0</td>\n",
       "    </tr>\n",
       "    <tr>\n",
       "      <th>4</th>\n",
       "      <td>서울특별시</td>\n",
       "      <td>광진구</td>\n",
       "      <td>69065.00</td>\n",
       "      <td>441.00</td>\n",
       "      <td>43.27</td>\n",
       "      <td>1</td>\n",
       "      <td>0.55</td>\n",
       "      <td>0.14</td>\n",
       "      <td>0.61</td>\n",
       "      <td>1.30</td>\n",
       "      <td>49.00</td>\n",
       "      <td>13.00</td>\n",
       "      <td>7.00</td>\n",
       "      <td>11</td>\n",
       "      <td>0</td>\n",
       "    </tr>\n",
       "    <tr>\n",
       "      <th>...</th>\n",
       "      <td>...</td>\n",
       "      <td>...</td>\n",
       "      <td>...</td>\n",
       "      <td>...</td>\n",
       "      <td>...</td>\n",
       "      <td>...</td>\n",
       "      <td>...</td>\n",
       "      <td>...</td>\n",
       "      <td>...</td>\n",
       "      <td>...</td>\n",
       "      <td>...</td>\n",
       "      <td>...</td>\n",
       "      <td>...</td>\n",
       "      <td>...</td>\n",
       "      <td>...</td>\n",
       "    </tr>\n",
       "    <tr>\n",
       "      <th>224</th>\n",
       "      <td>경상남도</td>\n",
       "      <td>함양군</td>\n",
       "      <td>3124.00</td>\n",
       "      <td>40.00</td>\n",
       "      <td>34.54</td>\n",
       "      <td>0</td>\n",
       "      <td>0.02</td>\n",
       "      <td>0.01</td>\n",
       "      <td>0.48</td>\n",
       "      <td>0.52</td>\n",
       "      <td>195.00</td>\n",
       "      <td>12.00</td>\n",
       "      <td>14.00</td>\n",
       "      <td>0</td>\n",
       "      <td>0</td>\n",
       "    </tr>\n",
       "    <tr>\n",
       "      <th>225</th>\n",
       "      <td>경상남도</td>\n",
       "      <td>거창군</td>\n",
       "      <td>9189.00</td>\n",
       "      <td>86.00</td>\n",
       "      <td>34.76</td>\n",
       "      <td>0</td>\n",
       "      <td>0.07</td>\n",
       "      <td>0.03</td>\n",
       "      <td>0.49</td>\n",
       "      <td>0.59</td>\n",
       "      <td>150.00</td>\n",
       "      <td>9.00</td>\n",
       "      <td>9.00</td>\n",
       "      <td>1</td>\n",
       "      <td>0</td>\n",
       "    </tr>\n",
       "    <tr>\n",
       "      <th>226</th>\n",
       "      <td>경상남도</td>\n",
       "      <td>합천군</td>\n",
       "      <td>2504.00</td>\n",
       "      <td>30.00</td>\n",
       "      <td>33.63</td>\n",
       "      <td>0</td>\n",
       "      <td>0.02</td>\n",
       "      <td>0.01</td>\n",
       "      <td>0.47</td>\n",
       "      <td>0.50</td>\n",
       "      <td>216.00</td>\n",
       "      <td>17.00</td>\n",
       "      <td>16.00</td>\n",
       "      <td>0</td>\n",
       "      <td>0</td>\n",
       "    </tr>\n",
       "    <tr>\n",
       "      <th>227</th>\n",
       "      <td>제주특별자치도</td>\n",
       "      <td>제주시</td>\n",
       "      <td>91703.00</td>\n",
       "      <td>930.00</td>\n",
       "      <td>35.93</td>\n",
       "      <td>0</td>\n",
       "      <td>0.73</td>\n",
       "      <td>0.30</td>\n",
       "      <td>0.50</td>\n",
       "      <td>1.53</td>\n",
       "      <td>27.00</td>\n",
       "      <td>1.00</td>\n",
       "      <td>1.00</td>\n",
       "      <td>10</td>\n",
       "      <td>19</td>\n",
       "    </tr>\n",
       "    <tr>\n",
       "      <th>228</th>\n",
       "      <td>제주특별자치도</td>\n",
       "      <td>서귀포시</td>\n",
       "      <td>20053.00</td>\n",
       "      <td>237.00</td>\n",
       "      <td>36.34</td>\n",
       "      <td>0</td>\n",
       "      <td>0.16</td>\n",
       "      <td>0.08</td>\n",
       "      <td>0.51</td>\n",
       "      <td>0.74</td>\n",
       "      <td>120.00</td>\n",
       "      <td>2.00</td>\n",
       "      <td>2.00</td>\n",
       "      <td>5</td>\n",
       "      <td>14</td>\n",
       "    </tr>\n",
       "  </tbody>\n",
       "</table>\n",
       "<p>229 rows × 15 columns</p>\n",
       "</div>"
      ],
      "text/plain": [
       "          지역 행정구역별  초등학교 학생수  사설학원수(개)  평균 급여(백만원)  Target  초등학교 학생수_scaled  \\\n",
       "0      서울특별시   종로구  53537.00    248.00       55.40       1             0.43   \n",
       "1      서울특별시    중구  34946.00    108.00       51.57       1             0.28   \n",
       "2      서울특별시   용산구  27552.00    151.00       75.40       1             0.22   \n",
       "3      서울특별시   성동구  50768.00    294.00       58.09       1             0.41   \n",
       "4      서울특별시   광진구  69065.00    441.00       43.27       1             0.55   \n",
       "..       ...   ...       ...       ...         ...     ...              ...   \n",
       "224     경상남도   함양군   3124.00     40.00       34.54       0             0.02   \n",
       "225     경상남도   거창군   9189.00     86.00       34.76       0             0.07   \n",
       "226     경상남도   합천군   2504.00     30.00       33.63       0             0.02   \n",
       "227  제주특별자치도   제주시  91703.00    930.00       35.93       0             0.73   \n",
       "228  제주특별자치도  서귀포시  20053.00    237.00       36.34       0             0.16   \n",
       "\n",
       "     사설학원수(개)_scaled  평균 급여(백만원)_scaled  가중합     순위  지역별 순위  지역별 학생수 순위  \\\n",
       "0               0.08               0.78 1.28  51.00   14.00       12.00   \n",
       "1               0.03               0.72 1.04  77.00   21.00       20.00   \n",
       "2               0.05               1.06 1.32  45.00   11.00       23.00   \n",
       "3               0.09               0.81 1.31  46.00   12.00       14.00   \n",
       "4               0.14               0.61 1.30  49.00   13.00        7.00   \n",
       "..               ...                ...  ...    ...     ...         ...   \n",
       "224             0.01               0.48 0.52 195.00   12.00       14.00   \n",
       "225             0.03               0.49 0.59 150.00    9.00        9.00   \n",
       "226             0.01               0.47 0.50 216.00   17.00       16.00   \n",
       "227             0.30               0.50 1.53  27.00    1.00        1.00   \n",
       "228             0.08               0.51 0.74 120.00    2.00        2.00   \n",
       "\n",
       "     해법수학 수  푸르넷 공부방 수  \n",
       "0         2          0  \n",
       "1         3          0  \n",
       "2         4          0  \n",
       "3        14          0  \n",
       "4        11          0  \n",
       "..      ...        ...  \n",
       "224       0          0  \n",
       "225       1          0  \n",
       "226       0          0  \n",
       "227      10         19  \n",
       "228       5         14  \n",
       "\n",
       "[229 rows x 15 columns]"
      ]
     },
     "execution_count": 228,
     "metadata": {},
     "output_type": "execute_result"
    }
   ],
   "source": [
    "df_ranked1"
   ]
  },
  {
   "cell_type": "code",
   "execution_count": 229,
   "id": "973e43c1",
   "metadata": {},
   "outputs": [
    {
     "data": {
      "text/html": [
       "<div>\n",
       "<style scoped>\n",
       "    .dataframe tbody tr th:only-of-type {\n",
       "        vertical-align: middle;\n",
       "    }\n",
       "\n",
       "    .dataframe tbody tr th {\n",
       "        vertical-align: top;\n",
       "    }\n",
       "\n",
       "    .dataframe thead th {\n",
       "        text-align: right;\n",
       "    }\n",
       "</style>\n",
       "<table border=\"1\" class=\"dataframe\">\n",
       "  <thead>\n",
       "    <tr style=\"text-align: right;\">\n",
       "      <th></th>\n",
       "      <th>지역</th>\n",
       "      <th>행정구역별</th>\n",
       "      <th>초등학교 학생수</th>\n",
       "      <th>지역별 순위</th>\n",
       "      <th>지역별 학생수 순위</th>\n",
       "      <th>해법수학 수</th>\n",
       "      <th>푸르넷 공부방 수</th>\n",
       "    </tr>\n",
       "  </thead>\n",
       "  <tbody>\n",
       "    <tr>\n",
       "      <th>0</th>\n",
       "      <td>서울특별시</td>\n",
       "      <td>종로구</td>\n",
       "      <td>53537.00</td>\n",
       "      <td>14.00</td>\n",
       "      <td>12.00</td>\n",
       "      <td>2</td>\n",
       "      <td>0</td>\n",
       "    </tr>\n",
       "    <tr>\n",
       "      <th>1</th>\n",
       "      <td>서울특별시</td>\n",
       "      <td>중구</td>\n",
       "      <td>34946.00</td>\n",
       "      <td>21.00</td>\n",
       "      <td>20.00</td>\n",
       "      <td>3</td>\n",
       "      <td>0</td>\n",
       "    </tr>\n",
       "    <tr>\n",
       "      <th>2</th>\n",
       "      <td>서울특별시</td>\n",
       "      <td>용산구</td>\n",
       "      <td>27552.00</td>\n",
       "      <td>11.00</td>\n",
       "      <td>23.00</td>\n",
       "      <td>4</td>\n",
       "      <td>0</td>\n",
       "    </tr>\n",
       "    <tr>\n",
       "      <th>3</th>\n",
       "      <td>서울특별시</td>\n",
       "      <td>성동구</td>\n",
       "      <td>50768.00</td>\n",
       "      <td>12.00</td>\n",
       "      <td>14.00</td>\n",
       "      <td>14</td>\n",
       "      <td>0</td>\n",
       "    </tr>\n",
       "    <tr>\n",
       "      <th>4</th>\n",
       "      <td>서울특별시</td>\n",
       "      <td>광진구</td>\n",
       "      <td>69065.00</td>\n",
       "      <td>13.00</td>\n",
       "      <td>7.00</td>\n",
       "      <td>11</td>\n",
       "      <td>0</td>\n",
       "    </tr>\n",
       "    <tr>\n",
       "      <th>...</th>\n",
       "      <td>...</td>\n",
       "      <td>...</td>\n",
       "      <td>...</td>\n",
       "      <td>...</td>\n",
       "      <td>...</td>\n",
       "      <td>...</td>\n",
       "      <td>...</td>\n",
       "    </tr>\n",
       "    <tr>\n",
       "      <th>224</th>\n",
       "      <td>경상남도</td>\n",
       "      <td>함양군</td>\n",
       "      <td>3124.00</td>\n",
       "      <td>12.00</td>\n",
       "      <td>14.00</td>\n",
       "      <td>0</td>\n",
       "      <td>0</td>\n",
       "    </tr>\n",
       "    <tr>\n",
       "      <th>225</th>\n",
       "      <td>경상남도</td>\n",
       "      <td>거창군</td>\n",
       "      <td>9189.00</td>\n",
       "      <td>9.00</td>\n",
       "      <td>9.00</td>\n",
       "      <td>1</td>\n",
       "      <td>0</td>\n",
       "    </tr>\n",
       "    <tr>\n",
       "      <th>226</th>\n",
       "      <td>경상남도</td>\n",
       "      <td>합천군</td>\n",
       "      <td>2504.00</td>\n",
       "      <td>17.00</td>\n",
       "      <td>16.00</td>\n",
       "      <td>0</td>\n",
       "      <td>0</td>\n",
       "    </tr>\n",
       "    <tr>\n",
       "      <th>227</th>\n",
       "      <td>제주특별자치도</td>\n",
       "      <td>제주시</td>\n",
       "      <td>91703.00</td>\n",
       "      <td>1.00</td>\n",
       "      <td>1.00</td>\n",
       "      <td>10</td>\n",
       "      <td>19</td>\n",
       "    </tr>\n",
       "    <tr>\n",
       "      <th>228</th>\n",
       "      <td>제주특별자치도</td>\n",
       "      <td>서귀포시</td>\n",
       "      <td>20053.00</td>\n",
       "      <td>2.00</td>\n",
       "      <td>2.00</td>\n",
       "      <td>5</td>\n",
       "      <td>14</td>\n",
       "    </tr>\n",
       "  </tbody>\n",
       "</table>\n",
       "<p>229 rows × 7 columns</p>\n",
       "</div>"
      ],
      "text/plain": [
       "          지역 행정구역별  초등학교 학생수  지역별 순위  지역별 학생수 순위  해법수학 수  푸르넷 공부방 수\n",
       "0      서울특별시   종로구  53537.00   14.00       12.00       2          0\n",
       "1      서울특별시    중구  34946.00   21.00       20.00       3          0\n",
       "2      서울특별시   용산구  27552.00   11.00       23.00       4          0\n",
       "3      서울특별시   성동구  50768.00   12.00       14.00      14          0\n",
       "4      서울특별시   광진구  69065.00   13.00        7.00      11          0\n",
       "..       ...   ...       ...     ...         ...     ...        ...\n",
       "224     경상남도   함양군   3124.00   12.00       14.00       0          0\n",
       "225     경상남도   거창군   9189.00    9.00        9.00       1          0\n",
       "226     경상남도   합천군   2504.00   17.00       16.00       0          0\n",
       "227  제주특별자치도   제주시  91703.00    1.00        1.00      10         19\n",
       "228  제주특별자치도  서귀포시  20053.00    2.00        2.00       5         14\n",
       "\n",
       "[229 rows x 7 columns]"
      ]
     },
     "execution_count": 229,
     "metadata": {},
     "output_type": "execute_result"
    }
   ],
   "source": [
    "df_ranked1=df_ranked1[['지역','행정구역별','초등학교 학생수','지역별 순위','지역별 학생수 순위','해법수학 수', '푸르넷 공부방 수']]\n",
    "df_ranked1"
   ]
  },
  {
   "cell_type": "code",
   "execution_count": 237,
   "id": "11232310",
   "metadata": {},
   "outputs": [
    {
     "name": "stderr",
     "output_type": "stream",
     "text": [
      "C:\\Users\\user\\AppData\\Local\\Temp\\ipykernel_14616\\3328421333.py:6: SettingWithCopyWarning:\n",
      "\n",
      "\n",
      "A value is trying to be set on a copy of a slice from a DataFrame.\n",
      "Try using .loc[row_indexer,col_indexer] = value instead\n",
      "\n",
      "See the caveats in the documentation: https://pandas.pydata.org/pandas-docs/stable/user_guide/indexing.html#returning-a-view-versus-a-copy\n",
      "\n",
      "C:\\Users\\user\\AppData\\Local\\Temp\\ipykernel_14616\\3328421333.py:7: SettingWithCopyWarning:\n",
      "\n",
      "\n",
      "A value is trying to be set on a copy of a slice from a DataFrame.\n",
      "Try using .loc[row_indexer,col_indexer] = value instead\n",
      "\n",
      "See the caveats in the documentation: https://pandas.pydata.org/pandas-docs/stable/user_guide/indexing.html#returning-a-view-versus-a-copy\n",
      "\n",
      "C:\\Users\\user\\AppData\\Local\\Temp\\ipykernel_14616\\3328421333.py:9: SettingWithCopyWarning:\n",
      "\n",
      "\n",
      "A value is trying to be set on a copy of a slice from a DataFrame.\n",
      "Try using .loc[row_indexer,col_indexer] = value instead\n",
      "\n",
      "See the caveats in the documentation: https://pandas.pydata.org/pandas-docs/stable/user_guide/indexing.html#returning-a-view-versus-a-copy\n",
      "\n"
     ]
    }
   ],
   "source": [
    "grouped_heabeop = df_ranked1.groupby('지역')['해법수학 수'].sum()\n",
    "grouped_stu = df_ranked1.groupby('지역')['초등학교 학생수'].sum()\n",
    "grouped_purunet = df_ranked1.groupby('지역')['푸르넷 공부방 수'].sum()\n",
    "grouped_purunet_stu = df_ranked1.groupby('지역')['초등학교 학생수'].sum()\n",
    "# 지역과 행정구역별 해법수학 수 비율 계산 후 새로운 열로 추가\n",
    "df_ranked1['행정구역별 학생수 비율'] = df_ranked1.apply(lambda x: round(x['초등학교 학생수']*100 / grouped_stu[x['지역']],3), axis=1)\n",
    "df_ranked1['행정구역별 해법수학 비율'] = df_ranked1.apply(lambda x: round(x['해법수학 수']*100 / grouped_heabeop[x['지역']],3), axis=1)\n",
    "\n",
    "df_ranked1['행정구역별 푸르넷 공부방 비율'] = df_ranked1.apply(lambda x: round(x['푸르넷 공부방 수']*100 / grouped_purunet[x['지역']],3), axis=1)"
   ]
  },
  {
   "cell_type": "code",
   "execution_count": 238,
   "id": "454d99e9",
   "metadata": {},
   "outputs": [
    {
     "data": {
      "text/html": [
       "<div>\n",
       "<style scoped>\n",
       "    .dataframe tbody tr th:only-of-type {\n",
       "        vertical-align: middle;\n",
       "    }\n",
       "\n",
       "    .dataframe tbody tr th {\n",
       "        vertical-align: top;\n",
       "    }\n",
       "\n",
       "    .dataframe thead th {\n",
       "        text-align: right;\n",
       "    }\n",
       "</style>\n",
       "<table border=\"1\" class=\"dataframe\">\n",
       "  <thead>\n",
       "    <tr style=\"text-align: right;\">\n",
       "      <th></th>\n",
       "      <th>지역</th>\n",
       "      <th>행정구역별</th>\n",
       "      <th>초등학교 학생수</th>\n",
       "      <th>지역별 순위</th>\n",
       "      <th>지역별 학생수 순위</th>\n",
       "      <th>해법수학 수</th>\n",
       "      <th>푸르넷 공부방 수</th>\n",
       "      <th>행정구역별 학생수 비율</th>\n",
       "      <th>행정구역별 해법수학 비율</th>\n",
       "      <th>행정구역별 푸르넷 공부방 비율</th>\n",
       "    </tr>\n",
       "  </thead>\n",
       "  <tbody>\n",
       "    <tr>\n",
       "      <th>0</th>\n",
       "      <td>서울특별시</td>\n",
       "      <td>종로구</td>\n",
       "      <td>53537.00</td>\n",
       "      <td>14.00</td>\n",
       "      <td>12.00</td>\n",
       "      <td>2</td>\n",
       "      <td>0</td>\n",
       "      <td>3.76</td>\n",
       "      <td>0.52</td>\n",
       "      <td>0.00</td>\n",
       "    </tr>\n",
       "    <tr>\n",
       "      <th>1</th>\n",
       "      <td>서울특별시</td>\n",
       "      <td>중구</td>\n",
       "      <td>34946.00</td>\n",
       "      <td>21.00</td>\n",
       "      <td>20.00</td>\n",
       "      <td>3</td>\n",
       "      <td>0</td>\n",
       "      <td>2.45</td>\n",
       "      <td>0.78</td>\n",
       "      <td>0.00</td>\n",
       "    </tr>\n",
       "    <tr>\n",
       "      <th>2</th>\n",
       "      <td>서울특별시</td>\n",
       "      <td>용산구</td>\n",
       "      <td>27552.00</td>\n",
       "      <td>11.00</td>\n",
       "      <td>23.00</td>\n",
       "      <td>4</td>\n",
       "      <td>0</td>\n",
       "      <td>1.93</td>\n",
       "      <td>1.04</td>\n",
       "      <td>0.00</td>\n",
       "    </tr>\n",
       "    <tr>\n",
       "      <th>3</th>\n",
       "      <td>서울특별시</td>\n",
       "      <td>성동구</td>\n",
       "      <td>50768.00</td>\n",
       "      <td>12.00</td>\n",
       "      <td>14.00</td>\n",
       "      <td>14</td>\n",
       "      <td>0</td>\n",
       "      <td>3.56</td>\n",
       "      <td>3.63</td>\n",
       "      <td>0.00</td>\n",
       "    </tr>\n",
       "    <tr>\n",
       "      <th>4</th>\n",
       "      <td>서울특별시</td>\n",
       "      <td>광진구</td>\n",
       "      <td>69065.00</td>\n",
       "      <td>13.00</td>\n",
       "      <td>7.00</td>\n",
       "      <td>11</td>\n",
       "      <td>0</td>\n",
       "      <td>4.85</td>\n",
       "      <td>2.85</td>\n",
       "      <td>0.00</td>\n",
       "    </tr>\n",
       "    <tr>\n",
       "      <th>...</th>\n",
       "      <td>...</td>\n",
       "      <td>...</td>\n",
       "      <td>...</td>\n",
       "      <td>...</td>\n",
       "      <td>...</td>\n",
       "      <td>...</td>\n",
       "      <td>...</td>\n",
       "      <td>...</td>\n",
       "      <td>...</td>\n",
       "      <td>...</td>\n",
       "    </tr>\n",
       "    <tr>\n",
       "      <th>224</th>\n",
       "      <td>경상남도</td>\n",
       "      <td>함양군</td>\n",
       "      <td>3124.00</td>\n",
       "      <td>12.00</td>\n",
       "      <td>14.00</td>\n",
       "      <td>0</td>\n",
       "      <td>0</td>\n",
       "      <td>0.62</td>\n",
       "      <td>0.00</td>\n",
       "      <td>0.00</td>\n",
       "    </tr>\n",
       "    <tr>\n",
       "      <th>225</th>\n",
       "      <td>경상남도</td>\n",
       "      <td>거창군</td>\n",
       "      <td>9189.00</td>\n",
       "      <td>9.00</td>\n",
       "      <td>9.00</td>\n",
       "      <td>1</td>\n",
       "      <td>0</td>\n",
       "      <td>1.82</td>\n",
       "      <td>0.63</td>\n",
       "      <td>0.00</td>\n",
       "    </tr>\n",
       "    <tr>\n",
       "      <th>226</th>\n",
       "      <td>경상남도</td>\n",
       "      <td>합천군</td>\n",
       "      <td>2504.00</td>\n",
       "      <td>17.00</td>\n",
       "      <td>16.00</td>\n",
       "      <td>0</td>\n",
       "      <td>0</td>\n",
       "      <td>0.50</td>\n",
       "      <td>0.00</td>\n",
       "      <td>0.00</td>\n",
       "    </tr>\n",
       "    <tr>\n",
       "      <th>227</th>\n",
       "      <td>제주특별자치도</td>\n",
       "      <td>제주시</td>\n",
       "      <td>91703.00</td>\n",
       "      <td>1.00</td>\n",
       "      <td>1.00</td>\n",
       "      <td>10</td>\n",
       "      <td>19</td>\n",
       "      <td>82.06</td>\n",
       "      <td>66.67</td>\n",
       "      <td>57.58</td>\n",
       "    </tr>\n",
       "    <tr>\n",
       "      <th>228</th>\n",
       "      <td>제주특별자치도</td>\n",
       "      <td>서귀포시</td>\n",
       "      <td>20053.00</td>\n",
       "      <td>2.00</td>\n",
       "      <td>2.00</td>\n",
       "      <td>5</td>\n",
       "      <td>14</td>\n",
       "      <td>17.94</td>\n",
       "      <td>33.33</td>\n",
       "      <td>42.42</td>\n",
       "    </tr>\n",
       "  </tbody>\n",
       "</table>\n",
       "<p>229 rows × 10 columns</p>\n",
       "</div>"
      ],
      "text/plain": [
       "          지역 행정구역별  초등학교 학생수  지역별 순위  지역별 학생수 순위  해법수학 수  푸르넷 공부방 수  \\\n",
       "0      서울특별시   종로구  53537.00   14.00       12.00       2          0   \n",
       "1      서울특별시    중구  34946.00   21.00       20.00       3          0   \n",
       "2      서울특별시   용산구  27552.00   11.00       23.00       4          0   \n",
       "3      서울특별시   성동구  50768.00   12.00       14.00      14          0   \n",
       "4      서울특별시   광진구  69065.00   13.00        7.00      11          0   \n",
       "..       ...   ...       ...     ...         ...     ...        ...   \n",
       "224     경상남도   함양군   3124.00   12.00       14.00       0          0   \n",
       "225     경상남도   거창군   9189.00    9.00        9.00       1          0   \n",
       "226     경상남도   합천군   2504.00   17.00       16.00       0          0   \n",
       "227  제주특별자치도   제주시  91703.00    1.00        1.00      10         19   \n",
       "228  제주특별자치도  서귀포시  20053.00    2.00        2.00       5         14   \n",
       "\n",
       "     행정구역별 학생수 비율  행정구역별 해법수학 비율  행정구역별 푸르넷 공부방 비율  \n",
       "0            3.76           0.52              0.00  \n",
       "1            2.45           0.78              0.00  \n",
       "2            1.93           1.04              0.00  \n",
       "3            3.56           3.63              0.00  \n",
       "4            4.85           2.85              0.00  \n",
       "..            ...            ...               ...  \n",
       "224          0.62           0.00              0.00  \n",
       "225          1.82           0.63              0.00  \n",
       "226          0.50           0.00              0.00  \n",
       "227         82.06          66.67             57.58  \n",
       "228         17.94          33.33             42.42  \n",
       "\n",
       "[229 rows x 10 columns]"
      ]
     },
     "execution_count": 238,
     "metadata": {},
     "output_type": "execute_result"
    }
   ],
   "source": [
    "df_ranked1"
   ]
  },
  {
   "cell_type": "code",
   "execution_count": null,
   "id": "8020e119",
   "metadata": {},
   "outputs": [],
   "source": [
    "df_ranked1.groupby('')"
   ]
  },
  {
   "cell_type": "code",
   "execution_count": null,
   "id": "0c812af8",
   "metadata": {},
   "outputs": [],
   "source": []
  },
  {
   "cell_type": "code",
   "execution_count": 243,
   "id": "31aa1c30",
   "metadata": {},
   "outputs": [],
   "source": [
    "# 지역별 점유율 비교를 위한 정의 함수\n",
    "def rank_share(region_val):\n",
    "    df_region = df_ranked1[df_ranked1['지역']== region_val]\n",
    "    \n",
    "    df_region['당사 비율에 따른 순위'] = df_region['행정구역별 해법수학 비율'].rank(ascending=False, method='min')\n",
    "    df_region['경쟁사 비율에 따른 순위'] = df_region['행정구역별 푸르넷 공부방 비율'].rank(ascending=False, method='min')\n",
    "\n",
    "    df_region=df_region[['지역', '행정구역별', '초등학교 학생수','행정구역별 학생수 비율', \n",
    "                         '행정구역별 해법수학 비율', '행정구역별 푸르넷 공부방 비율','지역별 순위',\n",
    "                         '당사 비율에 따른 순위', '경쟁사 비율에 따른 순위']].sort_values(by='지역별 순위', ascending=True)\n",
    "    \n",
    "    \n",
    "    return df_region.rename_axis(index=None)"
   ]
  },
  {
   "cell_type": "code",
   "execution_count": 263,
   "id": "0544dd9e",
   "metadata": {},
   "outputs": [
    {
     "name": "stderr",
     "output_type": "stream",
     "text": [
      "C:\\Users\\user\\AppData\\Local\\Temp\\ipykernel_14616\\3742868374.py:5: SettingWithCopyWarning:\n",
      "\n",
      "\n",
      "A value is trying to be set on a copy of a slice from a DataFrame.\n",
      "Try using .loc[row_indexer,col_indexer] = value instead\n",
      "\n",
      "See the caveats in the documentation: https://pandas.pydata.org/pandas-docs/stable/user_guide/indexing.html#returning-a-view-versus-a-copy\n",
      "\n",
      "C:\\Users\\user\\AppData\\Local\\Temp\\ipykernel_14616\\3742868374.py:6: SettingWithCopyWarning:\n",
      "\n",
      "\n",
      "A value is trying to be set on a copy of a slice from a DataFrame.\n",
      "Try using .loc[row_indexer,col_indexer] = value instead\n",
      "\n",
      "See the caveats in the documentation: https://pandas.pydata.org/pandas-docs/stable/user_guide/indexing.html#returning-a-view-versus-a-copy\n",
      "\n"
     ]
    },
    {
     "data": {
      "text/html": [
       "<div>\n",
       "<style scoped>\n",
       "    .dataframe tbody tr th:only-of-type {\n",
       "        vertical-align: middle;\n",
       "    }\n",
       "\n",
       "    .dataframe tbody tr th {\n",
       "        vertical-align: top;\n",
       "    }\n",
       "\n",
       "    .dataframe thead th {\n",
       "        text-align: right;\n",
       "    }\n",
       "</style>\n",
       "<table border=\"1\" class=\"dataframe\">\n",
       "  <thead>\n",
       "    <tr style=\"text-align: right;\">\n",
       "      <th></th>\n",
       "      <th>지역</th>\n",
       "      <th>행정구역별</th>\n",
       "      <th>초등학교 학생수</th>\n",
       "      <th>행정구역별 학생수 비율</th>\n",
       "      <th>행정구역별 해법수학 비율</th>\n",
       "      <th>행정구역별 푸르넷 공부방 비율</th>\n",
       "      <th>지역별 순위</th>\n",
       "      <th>당사 비율에 따른 순위</th>\n",
       "      <th>경쟁사 비율에 따른 순위</th>\n",
       "    </tr>\n",
       "  </thead>\n",
       "  <tbody>\n",
       "    <tr>\n",
       "      <th>31</th>\n",
       "      <td>부산광역시</td>\n",
       "      <td>남구</td>\n",
       "      <td>76591.00</td>\n",
       "      <td>14.04</td>\n",
       "      <td>5.16</td>\n",
       "      <td>0.00</td>\n",
       "      <td>1.00</td>\n",
       "      <td>9.00</td>\n",
       "      <td>6.00</td>\n",
       "    </tr>\n",
       "    <tr>\n",
       "      <th>33</th>\n",
       "      <td>부산광역시</td>\n",
       "      <td>해운대구</td>\n",
       "      <td>47384.00</td>\n",
       "      <td>8.68</td>\n",
       "      <td>7.10</td>\n",
       "      <td>30.00</td>\n",
       "      <td>2.00</td>\n",
       "      <td>5.00</td>\n",
       "      <td>1.00</td>\n",
       "    </tr>\n",
       "    <tr>\n",
       "      <th>35</th>\n",
       "      <td>부산광역시</td>\n",
       "      <td>금정구</td>\n",
       "      <td>66238.00</td>\n",
       "      <td>12.14</td>\n",
       "      <td>3.87</td>\n",
       "      <td>20.00</td>\n",
       "      <td>3.00</td>\n",
       "      <td>12.00</td>\n",
       "      <td>2.00</td>\n",
       "    </tr>\n",
       "    <tr>\n",
       "      <th>29</th>\n",
       "      <td>부산광역시</td>\n",
       "      <td>부산진구</td>\n",
       "      <td>63945.00</td>\n",
       "      <td>11.72</td>\n",
       "      <td>17.42</td>\n",
       "      <td>0.00</td>\n",
       "      <td>4.00</td>\n",
       "      <td>1.00</td>\n",
       "      <td>6.00</td>\n",
       "    </tr>\n",
       "    <tr>\n",
       "      <th>34</th>\n",
       "      <td>부산광역시</td>\n",
       "      <td>사하구</td>\n",
       "      <td>57760.00</td>\n",
       "      <td>10.59</td>\n",
       "      <td>10.97</td>\n",
       "      <td>0.00</td>\n",
       "      <td>5.00</td>\n",
       "      <td>2.00</td>\n",
       "      <td>6.00</td>\n",
       "    </tr>\n",
       "    <tr>\n",
       "      <th>30</th>\n",
       "      <td>부산광역시</td>\n",
       "      <td>동래구</td>\n",
       "      <td>32820.00</td>\n",
       "      <td>6.01</td>\n",
       "      <td>7.10</td>\n",
       "      <td>10.00</td>\n",
       "      <td>6.00</td>\n",
       "      <td>5.00</td>\n",
       "      <td>5.00</td>\n",
       "    </tr>\n",
       "    <tr>\n",
       "      <th>32</th>\n",
       "      <td>부산광역시</td>\n",
       "      <td>북구</td>\n",
       "      <td>31852.00</td>\n",
       "      <td>5.84</td>\n",
       "      <td>10.32</td>\n",
       "      <td>0.00</td>\n",
       "      <td>7.00</td>\n",
       "      <td>3.00</td>\n",
       "      <td>6.00</td>\n",
       "    </tr>\n",
       "    <tr>\n",
       "      <th>39</th>\n",
       "      <td>부산광역시</td>\n",
       "      <td>사상구</td>\n",
       "      <td>47837.00</td>\n",
       "      <td>8.77</td>\n",
       "      <td>4.52</td>\n",
       "      <td>0.00</td>\n",
       "      <td>8.00</td>\n",
       "      <td>11.00</td>\n",
       "      <td>6.00</td>\n",
       "    </tr>\n",
       "    <tr>\n",
       "      <th>36</th>\n",
       "      <td>부산광역시</td>\n",
       "      <td>강서구</td>\n",
       "      <td>22217.00</td>\n",
       "      <td>4.07</td>\n",
       "      <td>5.81</td>\n",
       "      <td>0.00</td>\n",
       "      <td>9.00</td>\n",
       "      <td>8.00</td>\n",
       "      <td>6.00</td>\n",
       "    </tr>\n",
       "    <tr>\n",
       "      <th>37</th>\n",
       "      <td>부산광역시</td>\n",
       "      <td>연제구</td>\n",
       "      <td>21824.00</td>\n",
       "      <td>4.00</td>\n",
       "      <td>7.10</td>\n",
       "      <td>20.00</td>\n",
       "      <td>10.00</td>\n",
       "      <td>5.00</td>\n",
       "      <td>2.00</td>\n",
       "    </tr>\n",
       "    <tr>\n",
       "      <th>40</th>\n",
       "      <td>부산광역시</td>\n",
       "      <td>기장군</td>\n",
       "      <td>24284.00</td>\n",
       "      <td>4.45</td>\n",
       "      <td>9.68</td>\n",
       "      <td>20.00</td>\n",
       "      <td>11.00</td>\n",
       "      <td>4.00</td>\n",
       "      <td>2.00</td>\n",
       "    </tr>\n",
       "    <tr>\n",
       "      <th>38</th>\n",
       "      <td>부산광역시</td>\n",
       "      <td>수영구</td>\n",
       "      <td>12675.00</td>\n",
       "      <td>2.32</td>\n",
       "      <td>5.16</td>\n",
       "      <td>0.00</td>\n",
       "      <td>12.00</td>\n",
       "      <td>9.00</td>\n",
       "      <td>6.00</td>\n",
       "    </tr>\n",
       "    <tr>\n",
       "      <th>28</th>\n",
       "      <td>부산광역시</td>\n",
       "      <td>영도구</td>\n",
       "      <td>20900.00</td>\n",
       "      <td>3.83</td>\n",
       "      <td>1.29</td>\n",
       "      <td>0.00</td>\n",
       "      <td>13.00</td>\n",
       "      <td>14.00</td>\n",
       "      <td>6.00</td>\n",
       "    </tr>\n",
       "    <tr>\n",
       "      <th>26</th>\n",
       "      <td>부산광역시</td>\n",
       "      <td>서구</td>\n",
       "      <td>9328.00</td>\n",
       "      <td>1.71</td>\n",
       "      <td>1.29</td>\n",
       "      <td>0.00</td>\n",
       "      <td>14.00</td>\n",
       "      <td>14.00</td>\n",
       "      <td>6.00</td>\n",
       "    </tr>\n",
       "    <tr>\n",
       "      <th>27</th>\n",
       "      <td>부산광역시</td>\n",
       "      <td>동구</td>\n",
       "      <td>6801.00</td>\n",
       "      <td>1.25</td>\n",
       "      <td>1.94</td>\n",
       "      <td>0.00</td>\n",
       "      <td>15.00</td>\n",
       "      <td>13.00</td>\n",
       "      <td>6.00</td>\n",
       "    </tr>\n",
       "    <tr>\n",
       "      <th>25</th>\n",
       "      <td>부산광역시</td>\n",
       "      <td>중구</td>\n",
       "      <td>3172.00</td>\n",
       "      <td>0.58</td>\n",
       "      <td>1.29</td>\n",
       "      <td>0.00</td>\n",
       "      <td>16.00</td>\n",
       "      <td>14.00</td>\n",
       "      <td>6.00</td>\n",
       "    </tr>\n",
       "  </tbody>\n",
       "</table>\n",
       "</div>"
      ],
      "text/plain": [
       "       지역 행정구역별  초등학교 학생수  행정구역별 학생수 비율  행정구역별 해법수학 비율  행정구역별 푸르넷 공부방 비율  \\\n",
       "31  부산광역시    남구  76591.00         14.04           5.16              0.00   \n",
       "33  부산광역시  해운대구  47384.00          8.68           7.10             30.00   \n",
       "35  부산광역시   금정구  66238.00         12.14           3.87             20.00   \n",
       "29  부산광역시  부산진구  63945.00         11.72          17.42              0.00   \n",
       "34  부산광역시   사하구  57760.00         10.59          10.97              0.00   \n",
       "30  부산광역시   동래구  32820.00          6.01           7.10             10.00   \n",
       "32  부산광역시    북구  31852.00          5.84          10.32              0.00   \n",
       "39  부산광역시   사상구  47837.00          8.77           4.52              0.00   \n",
       "36  부산광역시   강서구  22217.00          4.07           5.81              0.00   \n",
       "37  부산광역시   연제구  21824.00          4.00           7.10             20.00   \n",
       "40  부산광역시   기장군  24284.00          4.45           9.68             20.00   \n",
       "38  부산광역시   수영구  12675.00          2.32           5.16              0.00   \n",
       "28  부산광역시   영도구  20900.00          3.83           1.29              0.00   \n",
       "26  부산광역시    서구   9328.00          1.71           1.29              0.00   \n",
       "27  부산광역시    동구   6801.00          1.25           1.94              0.00   \n",
       "25  부산광역시    중구   3172.00          0.58           1.29              0.00   \n",
       "\n",
       "    지역별 순위  당사 비율에 따른 순위  경쟁사 비율에 따른 순위  \n",
       "31    1.00          9.00           6.00  \n",
       "33    2.00          5.00           1.00  \n",
       "35    3.00         12.00           2.00  \n",
       "29    4.00          1.00           6.00  \n",
       "34    5.00          2.00           6.00  \n",
       "30    6.00          5.00           5.00  \n",
       "32    7.00          3.00           6.00  \n",
       "39    8.00         11.00           6.00  \n",
       "36    9.00          8.00           6.00  \n",
       "37   10.00          5.00           2.00  \n",
       "40   11.00          4.00           2.00  \n",
       "38   12.00          9.00           6.00  \n",
       "28   13.00         14.00           6.00  \n",
       "26   14.00         14.00           6.00  \n",
       "27   15.00         13.00           6.00  \n",
       "25   16.00         14.00           6.00  "
      ]
     },
     "execution_count": 263,
     "metadata": {},
     "output_type": "execute_result"
    }
   ],
   "source": [
    "df_rank_광주 = rank_share('부산광역시')\n",
    "df_rank_광주"
   ]
  },
  {
   "cell_type": "code",
   "execution_count": null,
   "id": "14250167",
   "metadata": {},
   "outputs": [],
   "source": []
  },
  {
   "cell_type": "code",
   "execution_count": null,
   "id": "8dc0724f",
   "metadata": {},
   "outputs": [],
   "source": [
    "on_mapping = {\n",
    "        '서울': '서울특별시',\n",
    "        '부산': '부산광역시',\n",
    "        '대구': '대구광역시',\n",
    "        '인천': '인천광역시',\n",
    "        '광주': '광주광역시',\n",
    "        '대전': '대전광역시',\n",
    "        '울산': '울산광역시',\n",
    "        '세종': '세종특별자치시',\n",
    "        '경기': '경기도',\n",
    "        '강원': '강원특별자치도',\n",
    "        '충북': '충청북도',\n",
    "        '충남': '충청남도',\n",
    "        '전북': '전라북도',\n",
    "        '전남': '전라남도',\n",
    "        '경북': '경상북도',\n",
    "        '경남': '경상남도',\n",
    "        '제주': '제주특별자치도'"
   ]
  },
  {
   "cell_type": "code",
   "execution_count": null,
   "id": "7203ce38",
   "metadata": {},
   "outputs": [],
   "source": []
  },
  {
   "cell_type": "code",
   "execution_count": null,
   "id": "28367e46",
   "metadata": {},
   "outputs": [],
   "source": []
  },
  {
   "cell_type": "code",
   "execution_count": 285,
   "id": "47338e44",
   "metadata": {
    "scrolled": false
   },
   "outputs": [
    {
     "name": "stderr",
     "output_type": "stream",
     "text": [
      "C:\\Users\\user\\AppData\\Local\\Temp\\ipykernel_14616\\3742868374.py:5: SettingWithCopyWarning:\n",
      "\n",
      "\n",
      "A value is trying to be set on a copy of a slice from a DataFrame.\n",
      "Try using .loc[row_indexer,col_indexer] = value instead\n",
      "\n",
      "See the caveats in the documentation: https://pandas.pydata.org/pandas-docs/stable/user_guide/indexing.html#returning-a-view-versus-a-copy\n",
      "\n",
      "C:\\Users\\user\\AppData\\Local\\Temp\\ipykernel_14616\\3742868374.py:6: SettingWithCopyWarning:\n",
      "\n",
      "\n",
      "A value is trying to be set on a copy of a slice from a DataFrame.\n",
      "Try using .loc[row_indexer,col_indexer] = value instead\n",
      "\n",
      "See the caveats in the documentation: https://pandas.pydata.org/pandas-docs/stable/user_guide/indexing.html#returning-a-view-versus-a-copy\n",
      "\n"
     ]
    },
    {
     "data": {
      "text/html": [
       "<div>\n",
       "<style scoped>\n",
       "    .dataframe tbody tr th:only-of-type {\n",
       "        vertical-align: middle;\n",
       "    }\n",
       "\n",
       "    .dataframe tbody tr th {\n",
       "        vertical-align: top;\n",
       "    }\n",
       "\n",
       "    .dataframe thead th {\n",
       "        text-align: right;\n",
       "    }\n",
       "</style>\n",
       "<table border=\"1\" class=\"dataframe\">\n",
       "  <thead>\n",
       "    <tr style=\"text-align: right;\">\n",
       "      <th></th>\n",
       "      <th>지역</th>\n",
       "      <th>행정구역별</th>\n",
       "      <th>초등학교 학생수</th>\n",
       "      <th>행정구역별 학생수 비율</th>\n",
       "      <th>행정구역별 해법수학 비율</th>\n",
       "      <th>행정구역별 푸르넷 공부방 비율</th>\n",
       "      <th>지역별 순위</th>\n",
       "      <th>당사 비율에 따른 순위</th>\n",
       "      <th>경쟁사 비율에 따른 순위</th>\n",
       "    </tr>\n",
       "  </thead>\n",
       "  <tbody>\n",
       "    <tr>\n",
       "      <th>71</th>\n",
       "      <td>울산광역시</td>\n",
       "      <td>남구</td>\n",
       "      <td>54029.00</td>\n",
       "      <td>31.07</td>\n",
       "      <td>31.25</td>\n",
       "      <td>35.71</td>\n",
       "      <td>1.00</td>\n",
       "      <td>2.00</td>\n",
       "      <td>1.00</td>\n",
       "    </tr>\n",
       "    <tr>\n",
       "      <th>73</th>\n",
       "      <td>울산광역시</td>\n",
       "      <td>북구</td>\n",
       "      <td>34119.00</td>\n",
       "      <td>19.62</td>\n",
       "      <td>37.50</td>\n",
       "      <td>7.14</td>\n",
       "      <td>2.00</td>\n",
       "      <td>1.00</td>\n",
       "      <td>4.00</td>\n",
       "    </tr>\n",
       "    <tr>\n",
       "      <th>74</th>\n",
       "      <td>울산광역시</td>\n",
       "      <td>울주군</td>\n",
       "      <td>32584.00</td>\n",
       "      <td>18.74</td>\n",
       "      <td>12.50</td>\n",
       "      <td>7.14</td>\n",
       "      <td>3.00</td>\n",
       "      <td>4.00</td>\n",
       "      <td>4.00</td>\n",
       "    </tr>\n",
       "    <tr>\n",
       "      <th>70</th>\n",
       "      <td>울산광역시</td>\n",
       "      <td>중구</td>\n",
       "      <td>23734.00</td>\n",
       "      <td>13.65</td>\n",
       "      <td>18.75</td>\n",
       "      <td>21.43</td>\n",
       "      <td>4.00</td>\n",
       "      <td>3.00</td>\n",
       "      <td>3.00</td>\n",
       "    </tr>\n",
       "    <tr>\n",
       "      <th>72</th>\n",
       "      <td>울산광역시</td>\n",
       "      <td>동구</td>\n",
       "      <td>29415.00</td>\n",
       "      <td>16.92</td>\n",
       "      <td>0.00</td>\n",
       "      <td>28.57</td>\n",
       "      <td>5.00</td>\n",
       "      <td>5.00</td>\n",
       "      <td>2.00</td>\n",
       "    </tr>\n",
       "  </tbody>\n",
       "</table>\n",
       "</div>"
      ],
      "text/plain": [
       "       지역 행정구역별  초등학교 학생수  행정구역별 학생수 비율  행정구역별 해법수학 비율  행정구역별 푸르넷 공부방 비율  \\\n",
       "71  울산광역시    남구  54029.00         31.07          31.25             35.71   \n",
       "73  울산광역시    북구  34119.00         19.62          37.50              7.14   \n",
       "74  울산광역시   울주군  32584.00         18.74          12.50              7.14   \n",
       "70  울산광역시    중구  23734.00         13.65          18.75             21.43   \n",
       "72  울산광역시    동구  29415.00         16.92           0.00             28.57   \n",
       "\n",
       "    지역별 순위  당사 비율에 따른 순위  경쟁사 비율에 따른 순위  \n",
       "71    1.00          2.00           1.00  \n",
       "73    2.00          1.00           4.00  \n",
       "74    3.00          4.00           4.00  \n",
       "70    4.00          3.00           3.00  \n",
       "72    5.00          5.00           2.00  "
      ]
     },
     "execution_count": 285,
     "metadata": {},
     "output_type": "execute_result"
    }
   ],
   "source": [
    "df_rank_서울 = rank_share('울산광역시')\n",
    "df_rank_서울"
   ]
  }
 ],
 "metadata": {
  "kernelspec": {
   "display_name": "Python 3 (ipykernel)",
   "language": "python",
   "name": "python3"
  },
  "language_info": {
   "codemirror_mode": {
    "name": "ipython",
    "version": 3
   },
   "file_extension": ".py",
   "mimetype": "text/x-python",
   "name": "python",
   "nbconvert_exporter": "python",
   "pygments_lexer": "ipython3",
   "version": "3.10.9"
  }
 },
 "nbformat": 4,
 "nbformat_minor": 5
}
